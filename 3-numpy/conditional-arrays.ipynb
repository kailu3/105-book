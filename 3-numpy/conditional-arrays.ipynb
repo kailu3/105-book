{
 "cells": [
  {
   "cell_type": "markdown",
   "metadata": {},
   "source": [
    "# Conditional Selection on Arrays"
   ]
  },
  {
   "cell_type": "code",
   "execution_count": 13,
   "metadata": {
    "tags": [
     "hide-cell"
    ]
   },
   "outputs": [],
   "source": [
    "import numpy as np\n",
    "import pandas as pd"
   ]
  },
  {
   "cell_type": "markdown",
   "metadata": {},
   "source": [
    "Often when dealing with arrays, we sometimes want to select elements from them based on a condition. For instance, suppose we only wanted to select elements that were larger than a number or some criterion. We can do this utilizing comparison operators or in other words Booleans. We can start with an example:\n",
    "\n",
    "Suppose that we had daily temperature data for Vancouver and wanted to look at the maximum temperatures. We first load the data in using `Pandas` (another library that we'll cover in the next section)."
   ]
  },
  {
   "cell_type": "code",
   "execution_count": 14,
   "metadata": {},
   "outputs": [],
   "source": [
    "# 2019 daily max temperatures\n",
    "daily_max = pd.read_csv('../data/vancouver-2019-max-temp.csv')['degC'].values"
   ]
  },
  {
   "cell_type": "markdown",
   "metadata": {},
   "source": [
    "Our first step is to look at some basic summary statistics using what we learned from the last section."
   ]
  },
  {
   "cell_type": "code",
   "execution_count": 12,
   "metadata": {},
   "outputs": [
    {
     "name": "stdout",
     "output_type": "stream",
     "text": [
      "Minimum temp: -0.5355916000000001\n",
      "Maximum temp: 28.981457\n",
      "Mean temp: 16.194906061111112\n",
      "Median temp: 16.194906061111112\n",
      "Variance: 39.22653236797662\n",
      "Standard deviation: 6.263108842098836\n"
     ]
    }
   ],
   "source": [
    "print(\"Minimum temp:\", np.min(daily_max))\n",
    "print(\"Maximum temp:\", np.max(daily_max))\n",
    "print(\"Mean temp:\", np.mean(daily_max))\n",
    "print(\"Median temp:\", np.mean(daily_max))\n",
    "print(\"Variance:\", np.var(daily_max))\n",
    "print(\"Standard deviation:\", np.std(daily_max))"
   ]
  },
  {
   "cell_type": "markdown",
   "metadata": {},
   "source": [
    "```{note}\n",
    "The summary statistics we compute are for the maximum daily temperatures in Vancouver in 2019\n",
    "\n",
    "```"
   ]
  },
  {
   "cell_type": "code",
   "execution_count": null,
   "metadata": {},
   "outputs": [],
   "source": []
  }
 ],
 "metadata": {
  "kernelspec": {
   "display_name": "Python 3",
   "language": "python",
   "name": "python3"
  },
  "language_info": {
   "codemirror_mode": {
    "name": "ipython",
    "version": 3
   },
   "file_extension": ".py",
   "mimetype": "text/x-python",
   "name": "python",
   "nbconvert_exporter": "python",
   "pygments_lexer": "ipython3",
   "version": "3.6.5"
  }
 },
 "nbformat": 4,
 "nbformat_minor": 4
}
