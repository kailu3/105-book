{
 "cells": [
  {
   "cell_type": "markdown",
   "metadata": {},
   "source": [
    "# Conditional Selection on Arrays"
   ]
  },
  {
   "cell_type": "code",
   "execution_count": 1,
   "metadata": {
    "execution": {
     "iopub.execute_input": "2020-05-15T20:42:27.528514Z",
     "iopub.status.busy": "2020-05-15T20:42:27.527778Z",
     "iopub.status.idle": "2020-05-15T20:42:27.986102Z",
     "shell.execute_reply": "2020-05-15T20:42:27.985513Z"
    },
    "tags": [
     "hide-cell"
    ]
   },
   "outputs": [],
   "source": [
    "import numpy as np\n",
    "import pandas as pd"
   ]
  },
  {
   "cell_type": "markdown",
   "metadata": {},
   "source": [
    "Often when dealing with arrays, we sometimes want to select elements from them based on a condition. For instance, suppose we only wanted to select elements that were larger than a number or some criterion. We can do this utilizing comparison operators or in other words Booleans. We can start with an example:\n",
    "\n",
    "Suppose that we had daily temperature data for Vancouver and wanted to look at the **maximum** temperatures for each day. We first load the data in using `Pandas` (another library that we'll cover in the next section)."
   ]
  },
  {
   "cell_type": "code",
   "execution_count": 2,
   "metadata": {
    "execution": {
     "iopub.execute_input": "2020-05-15T20:42:27.995204Z",
     "iopub.status.busy": "2020-05-15T20:42:27.994506Z",
     "iopub.status.idle": "2020-05-15T20:42:28.436127Z",
     "shell.execute_reply": "2020-05-15T20:42:28.435420Z"
    }
   },
   "outputs": [],
   "source": [
    "# 2019 daily max temperatures\n",
    "url = \"https://raw.githubusercontent.com/kailu3/105-book/master/data/vancouver-2019-max-temp.csv\"\n",
    "daily_max = pd.read_csv(url)['degC'].values"
   ]
  },
  {
   "cell_type": "markdown",
   "metadata": {},
   "source": [
    "Our first step is to look at some basic summary statistics using what we learned from the last section."
   ]
  },
  {
   "cell_type": "code",
   "execution_count": 3,
   "metadata": {
    "execution": {
     "iopub.execute_input": "2020-05-15T20:42:28.442954Z",
     "iopub.status.busy": "2020-05-15T20:42:28.442331Z",
     "iopub.status.idle": "2020-05-15T20:42:28.448642Z",
     "shell.execute_reply": "2020-05-15T20:42:28.448143Z"
    }
   },
   "outputs": [
    {
     "name": "stdout",
     "output_type": "stream",
     "text": [
      "Minimum temp: -0.5355916000000001\n",
      "Maximum temp: 28.981457\n",
      "Mean temp: 16.194906061111112\n",
      "Median temp: 16.194906061111112\n",
      "Variance: 39.22653236797662\n",
      "Standard deviation: 6.263108842098836\n"
     ]
    }
   ],
   "source": [
    "print(\"Minimum temp:\", np.min(daily_max))\n",
    "print(\"Maximum temp:\", np.max(daily_max))\n",
    "print(\"Mean temp:\", np.mean(daily_max))\n",
    "print(\"Median temp:\", np.mean(daily_max))\n",
    "print(\"Variance:\", np.var(daily_max))\n",
    "print(\"Standard deviation:\", np.std(daily_max))"
   ]
  },
  {
   "cell_type": "markdown",
   "metadata": {},
   "source": [
    "```{note}\n",
    "The summary statistics we compute are for the **maximum** daily temperatures in Vancouver in 2019\n",
    "\n",
    "```"
   ]
  },
  {
   "cell_type": "markdown",
   "metadata": {},
   "source": [
    "Now suppose we had a question, say: **How many times in 2019 was the maximum temperature below 20 degrees Celsius?**\n",
    "\n",
    "We can first apply a boolean operator (`< 20`) to our entire array. For each element in the array, it will compute whether it is less than 20 (`True` or `False`). We can use `==`, `!=`, `<`, `>`. `<=`. `>=` (equals, not equals, less than, greater than, less than or equal to, greater than or equal to) depending on the type of question we have."
   ]
  },
  {
   "cell_type": "code",
   "execution_count": 4,
   "metadata": {
    "execution": {
     "iopub.execute_input": "2020-05-15T20:42:28.461486Z",
     "iopub.status.busy": "2020-05-15T20:42:28.460617Z",
     "iopub.status.idle": "2020-05-15T20:42:28.464711Z",
     "shell.execute_reply": "2020-05-15T20:42:28.464186Z"
    },
    "tags": [
     "output_scroll"
    ]
   },
   "outputs": [
    {
     "data": {
      "text/plain": [
       "array([ True,  True,  True,  True,  True,  True,  True,  True,  True,\n",
       "        True,  True,  True,  True,  True,  True,  True,  True,  True,\n",
       "        True,  True,  True,  True,  True,  True,  True,  True,  True,\n",
       "        True,  True,  True,  True,  True,  True,  True,  True,  True,\n",
       "        True,  True,  True,  True,  True,  True,  True,  True,  True,\n",
       "        True,  True,  True,  True,  True,  True,  True,  True,  True,\n",
       "        True,  True,  True,  True,  True,  True,  True,  True,  True,\n",
       "        True,  True,  True,  True,  True,  True,  True,  True,  True,\n",
       "        True,  True,  True,  True,  True,  True,  True,  True,  True,\n",
       "        True,  True,  True,  True,  True,  True,  True, False, False,\n",
       "        True,  True,  True,  True,  True,  True,  True,  True,  True,\n",
       "        True,  True,  True,  True,  True,  True,  True,  True,  True,\n",
       "        True,  True,  True,  True,  True,  True, False,  True,  True,\n",
       "        True,  True, False,  True,  True,  True,  True,  True,  True,\n",
       "        True,  True,  True,  True,  True,  True,  True,  True,  True,\n",
       "        True,  True,  True,  True,  True,  True, False, False, False,\n",
       "        True, False, False, False, False, False, False, False, False,\n",
       "       False, False,  True, False, False, False, False, False, False,\n",
       "       False, False, False, False, False, False, False, False, False,\n",
       "       False,  True,  True, False, False, False, False, False, False,\n",
       "        True, False, False, False, False, False,  True, False, False,\n",
       "       False, False, False, False, False, False, False, False, False,\n",
       "       False, False, False, False, False, False, False, False, False,\n",
       "       False,  True, False, False, False, False,  True, False, False,\n",
       "       False, False, False, False, False, False, False, False, False,\n",
       "       False, False, False, False, False, False, False, False, False,\n",
       "       False, False, False, False, False,  True, False, False, False,\n",
       "       False, False, False, False, False, False,  True,  True,  True,\n",
       "        True,  True,  True,  True,  True,  True,  True, False,  True,\n",
       "       False, False, False, False, False, False, False,  True,  True,\n",
       "       False, False, False,  True,  True,  True,  True,  True,  True,\n",
       "        True,  True,  True,  True,  True,  True,  True,  True,  True,\n",
       "        True,  True,  True,  True,  True,  True,  True,  True,  True,\n",
       "        True,  True,  True,  True,  True,  True,  True,  True,  True,\n",
       "        True,  True,  True,  True,  True,  True,  True,  True,  True,\n",
       "        True,  True,  True,  True,  True,  True,  True,  True,  True,\n",
       "        True,  True,  True,  True,  True,  True,  True,  True,  True,\n",
       "        True,  True,  True,  True,  True,  True,  True,  True,  True,\n",
       "        True,  True,  True,  True,  True,  True,  True,  True,  True,\n",
       "        True,  True,  True,  True,  True,  True,  True,  True,  True])"
      ]
     },
     "execution_count": 4,
     "metadata": {},
     "output_type": "execute_result"
    }
   ],
   "source": [
    "daily_max < 20"
   ]
  },
  {
   "cell_type": "markdown",
   "metadata": {},
   "source": [
    "Since `True` is equivalent to 1 and `False` is equal to 0, we can sum up `daily_max < 20` to get the total number of days the maximum temperature was less than 20 degress Celsius."
   ]
  },
  {
   "cell_type": "code",
   "execution_count": 5,
   "metadata": {
    "execution": {
     "iopub.execute_input": "2020-05-15T20:42:28.470080Z",
     "iopub.status.busy": "2020-05-15T20:42:28.469410Z",
     "iopub.status.idle": "2020-05-15T20:42:28.472892Z",
     "shell.execute_reply": "2020-05-15T20:42:28.472325Z"
    }
   },
   "outputs": [
    {
     "data": {
      "text/plain": [
       "246"
      ]
     },
     "execution_count": 5,
     "metadata": {},
     "output_type": "execute_result"
    }
   ],
   "source": [
    "np.sum(daily_max < 20)"
   ]
  },
  {
   "cell_type": "markdown",
   "metadata": {},
   "source": [
    "Alternatively, say we were interested in the temperatures at which the maximum temperature was less than 20 degrees Celsius. We can use the syntax `array[boolean array]` to select from our `daily_max` array."
   ]
  },
  {
   "cell_type": "code",
   "execution_count": 6,
   "metadata": {
    "execution": {
     "iopub.execute_input": "2020-05-15T20:42:28.480970Z",
     "iopub.status.busy": "2020-05-15T20:42:28.480175Z",
     "iopub.status.idle": "2020-05-15T20:42:28.484608Z",
     "shell.execute_reply": "2020-05-15T20:42:28.484089Z"
    },
    "tags": [
     "output_scroll"
    ]
   },
   "outputs": [
    {
     "data": {
      "text/plain": [
       "array([ 7.5730515,  9.90463  , 10.972761 ,  8.451971 ,  7.8538175,\n",
       "        8.744944 ,  7.8355064, 10.054168 ,  7.6951237,  6.9657426,\n",
       "        6.617837 ,  8.6717005,  7.4296165,  6.431677 ,  6.868085 ,\n",
       "        6.0471497,  6.4469357,  6.663614 ,  6.3126564,  6.2272058,\n",
       "        6.1417556,  5.9220257,  5.723658 ,  5.244525 , -0.5355916,\n",
       "        2.3300524,  4.835583 ,  4.8783083,  5.16823  ,  5.3727007,\n",
       "        9.001296 ,  8.595406 ,  8.931104 ,  9.09285  ,  9.135575 ,\n",
       "        9.7947645, 10.191499 , 10.185395 ,  9.300372 , 10.685891 ,\n",
       "       11.287097 , 11.27489  , 13.008314 , 12.96864  , 11.772333 ,\n",
       "       11.079574 ,  9.236284 ,  9.816127 ,  9.074539 , 10.8812065,\n",
       "       10.917829 , 10.856792 , 10.444798 , 10.823222 , 11.506826 ,\n",
       "       12.419316 , 13.539328 , 14.686807 , 14.970624 , 14.128326 ,\n",
       "       13.624779 , 14.430455 , 14.076446 , 13.4081   , 13.591208 ,\n",
       "       13.496603 , 13.4782915, 13.496603 , 12.614632 , 10.98802  ,\n",
       "       11.406117 , 13.029676 , 12.507818 , 13.032728 , 13.743799 ,\n",
       "       13.896389 , 15.004194 , 16.06317  , 14.708169 , 14.283968 ,\n",
       "       15.123215 , 14.131378 , 17.402912 , 19.343859 , 15.281908 ,\n",
       "       18.51377  , 17.854578 , 18.852518 , 17.524984 , 17.329668 ,\n",
       "       15.339892 , 17.024488 , 18.294039 , 18.306246 , 17.50057  ,\n",
       "       17.769129 , 17.781336 , 17.827112 , 18.092619 , 17.439533 ,\n",
       "       17.55245  , 17.39986  , 17.50057  , 17.799646 , 18.315401 ,\n",
       "       17.863733 , 18.556494 , 19.002056 , 19.774164 , 18.31235  ,\n",
       "       18.776224 , 19.71923  , 19.807734 , 19.502552 , 18.97459  ,\n",
       "       19.374376 , 18.083464 , 19.002056 , 18.361177 , 15.748834 ,\n",
       "       15.953305 , 15.580985 , 14.03372  , 15.30327  , 13.469136 ,\n",
       "       14.024565 , 13.50881  , 14.732583 , 14.891277 , 13.789576 ,\n",
       "       13.224992 , 13.234148 , 13.817042 , 14.732583 , 17.952236 ,\n",
       "       18.641945 , 18.913555 , 18.913555 , 17.137405 , 17.576864 ,\n",
       "       16.716255 , 19.420155 , 19.319445 , 19.331652 , 19.795527 ,\n",
       "       18.77012  , 19.691765 , 18.806742 , 16.84138  , 14.442662 ,\n",
       "       13.234148 , 16.847483 , 18.941021 , 19.050886 , 19.478138 ,\n",
       "       19.832148 , 19.737541 , 19.468983 , 18.358126 , 19.533072 ,\n",
       "       17.781336 , 17.476154 , 17.412067 , 16.050962 , 17.04585  ,\n",
       "       17.674522 , 16.615547 , 15.6755905, 16.92683  , 15.819026 ,\n",
       "       15.291063 , 14.683755 , 13.990995 , 14.433507 , 14.341952 ,\n",
       "       13.292132 , 15.529104 , 14.271761 , 15.532156 , 16.267641 ,\n",
       "       15.541311 , 14.631874 , 12.413213 , 12.17212  , 12.169068 ,\n",
       "       10.646218 , 12.520025 , 13.7651615, 14.488439 , 14.265657 ,\n",
       "       13.743799 , 13.188371 , 13.395893 , 13.548484 , 13.06935  ,\n",
       "       12.437627 , 11.760126 , 11.946286 , 13.014418 , 12.812999 ,\n",
       "       12.208741 , 12.083617 , 11.436635 , 11.363392 , 11.604485 ,\n",
       "       11.485464 , 11.180284 , 10.896466 , 10.673684 ,  6.6330957,\n",
       "        7.234301 ,  9.391927 ,  8.226137 ,  6.8863955, 10.542457 ,\n",
       "       11.012434 , 10.612648 , 10.084686 ,  8.55268  , 10.460058 ,\n",
       "        9.48348  ,  7.450979 ,  8.256656 ,  5.870145 ,  5.8731966,\n",
       "        5.867093 ,  5.870145 ,  5.8609896,  4.2069116,  4.5304027,\n",
       "        5.803005 ,  5.867093 ,  5.857938 ,  6.2638273,  8.830395 ,\n",
       "        7.7714186,  8.699167 ,  8.723581 ,  7.814144 ,  8.445868 ,\n",
       "        9.6452265,  8.934155 ,  6.102082 ,  6.941328 ,  8.28107  ,\n",
       "        7.454031 ])"
      ]
     },
     "execution_count": 6,
     "metadata": {},
     "output_type": "execute_result"
    }
   ],
   "source": [
    "daily_max[daily_max < 20]"
   ]
  },
  {
   "cell_type": "markdown",
   "metadata": {},
   "source": [
    "We can also combine boolean statements to use multiple conditions! Say we wanted the temperatures between 20 *and* 30 degrees Celsius."
   ]
  },
  {
   "cell_type": "code",
   "execution_count": 7,
   "metadata": {
    "execution": {
     "iopub.execute_input": "2020-05-15T20:42:28.490415Z",
     "iopub.status.busy": "2020-05-15T20:42:28.489750Z",
     "iopub.status.idle": "2020-05-15T20:42:28.493184Z",
     "shell.execute_reply": "2020-05-15T20:42:28.492675Z"
    },
    "tags": [
     "output_scroll"
    ]
   },
   "outputs": [
    {
     "data": {
      "text/plain": [
       "array([20.070189, 20.66224 , 20.613409, 20.094603, 22.6276  , 24.174864,\n",
       "       23.790337, 20.338747, 21.150526, 20.765999, 22.874796, 24.275574,\n",
       "       22.54215 , 21.083387, 21.840235, 23.262375, 22.972454, 21.709007,\n",
       "       22.990765, 22.719154, 23.414965, 23.45464 , 22.819864, 22.50858 ,\n",
       "       21.08644 , 21.00404 , 23.024334, 25.459675, 24.501408, 24.501408,\n",
       "       24.065   , 24.37018 , 21.62966 , 23.027386, 23.86358 , 24.394594,\n",
       "       23.765923, 23.784233, 21.840235, 21.840235, 22.935833, 22.938885,\n",
       "       24.09857 , 22.941936, 21.547262, 23.74456 , 23.689629, 23.775078,\n",
       "       25.026318, 24.007015, 24.333559, 24.6601  , 24.211487, 24.919504,\n",
       "       25.413897, 25.77401 , 25.97543 , 27.327377, 28.981457, 28.371096,\n",
       "       25.46883 , 23.976498, 23.74456 , 24.092466, 23.125044, 20.067137,\n",
       "       23.158613, 22.587927, 20.558477, 23.128096, 26.811623, 26.634619,\n",
       "       25.123976, 24.721138, 27.547108, 27.602041, 27.653921, 25.951015,\n",
       "       25.783165, 26.851297, 27.513538, 27.013042, 24.803535, 24.08026 ,\n",
       "       23.158613, 23.341722, 23.369188, 23.622488, 24.64179 , 26.60105 ,\n",
       "       25.340654, 23.430225, 21.52895 , 22.343782, 21.007092, 24.046688,\n",
       "       23.891047, 23.43938 , 20.5127  , 23.045698, 24.480045, 20.650032,\n",
       "       20.128172, 20.387575, 22.606237, 24.754707, 21.168839, 23.051802,\n",
       "       22.471958, 20.66224 , 20.518803, 20.549322, 20.347902, 20.018309])"
      ]
     },
     "execution_count": 7,
     "metadata": {},
     "output_type": "execute_result"
    }
   ],
   "source": [
    "daily_max[(daily_max >= 20) & (daily_max <= 30)]"
   ]
  },
  {
   "cell_type": "markdown",
   "metadata": {},
   "source": [
    "```{note}\n",
    "`|` represents \"or\"\n",
    "\n",
    "`&` represents \"and\"\n",
    "```"
   ]
  },
  {
   "cell_type": "markdown",
   "metadata": {},
   "source": [
    "Alternatively, say we wanted the temperatures greater than 20 degrees Celsius *or* less than 10 degrees Celsius."
   ]
  },
  {
   "cell_type": "code",
   "execution_count": 8,
   "metadata": {
    "execution": {
     "iopub.execute_input": "2020-05-15T20:42:28.499615Z",
     "iopub.status.busy": "2020-05-15T20:42:28.498910Z",
     "iopub.status.idle": "2020-05-15T20:42:28.502788Z",
     "shell.execute_reply": "2020-05-15T20:42:28.502310Z"
    },
    "tags": [
     "output_scroll"
    ]
   },
   "outputs": [
    {
     "data": {
      "text/plain": [
       "array([ 7.5730515,  9.90463  ,  8.451971 ,  7.8538175,  8.744944 ,\n",
       "        7.8355064,  7.6951237,  6.9657426,  6.617837 ,  8.6717005,\n",
       "        7.4296165,  6.431677 ,  6.868085 ,  6.0471497,  6.4469357,\n",
       "        6.663614 ,  6.3126564,  6.2272058,  6.1417556,  5.9220257,\n",
       "        5.723658 ,  5.244525 , -0.5355916,  2.3300524,  4.835583 ,\n",
       "        4.8783083,  5.16823  ,  5.3727007,  9.001296 ,  8.595406 ,\n",
       "        8.931104 ,  9.09285  ,  9.135575 ,  9.7947645,  9.300372 ,\n",
       "        9.236284 ,  9.816127 ,  9.074539 , 20.070189 , 20.66224  ,\n",
       "       20.613409 , 20.094603 , 22.6276   , 24.174864 , 23.790337 ,\n",
       "       20.338747 , 21.150526 , 20.765999 , 22.874796 , 24.275574 ,\n",
       "       22.54215  , 21.083387 , 21.840235 , 23.262375 , 22.972454 ,\n",
       "       21.709007 , 22.990765 , 22.719154 , 23.414965 , 23.45464  ,\n",
       "       22.819864 , 22.50858  , 21.08644  , 21.00404  , 23.024334 ,\n",
       "       25.459675 , 24.501408 , 24.501408 , 24.065    , 24.37018  ,\n",
       "       21.62966  , 23.027386 , 23.86358  , 24.394594 , 23.765923 ,\n",
       "       23.784233 , 21.840235 , 21.840235 , 22.935833 , 22.938885 ,\n",
       "       24.09857  , 22.941936 , 21.547262 , 23.74456  , 23.689629 ,\n",
       "       23.775078 , 25.026318 , 24.007015 , 24.333559 , 24.6601   ,\n",
       "       24.211487 , 24.919504 , 25.413897 , 25.77401  , 25.97543  ,\n",
       "       27.327377 , 28.981457 , 28.371096 , 25.46883  , 23.976498 ,\n",
       "       23.74456  , 24.092466 , 23.125044 , 20.067137 , 23.158613 ,\n",
       "       22.587927 , 20.558477 , 23.128096 , 26.811623 , 26.634619 ,\n",
       "       25.123976 , 24.721138 , 27.547108 , 27.602041 , 27.653921 ,\n",
       "       25.951015 , 25.783165 , 26.851297 , 27.513538 , 27.013042 ,\n",
       "       24.803535 , 24.08026  , 23.158613 , 23.341722 , 23.369188 ,\n",
       "       23.622488 , 24.64179  , 26.60105  , 25.340654 , 23.430225 ,\n",
       "       21.52895  , 22.343782 , 21.007092 , 24.046688 , 23.891047 ,\n",
       "       23.43938  , 20.5127   , 23.045698 , 24.480045 , 20.650032 ,\n",
       "       20.128172 , 20.387575 , 22.606237 , 24.754707 , 21.168839 ,\n",
       "       23.051802 , 22.471958 , 20.66224  , 20.518803 , 20.549322 ,\n",
       "       20.347902 , 20.018309 ,  6.6330957,  7.234301 ,  9.391927 ,\n",
       "        8.226137 ,  6.8863955,  8.55268  ,  9.48348  ,  7.450979 ,\n",
       "        8.256656 ,  5.870145 ,  5.8731966,  5.867093 ,  5.870145 ,\n",
       "        5.8609896,  4.2069116,  4.5304027,  5.803005 ,  5.867093 ,\n",
       "        5.857938 ,  6.2638273,  8.830395 ,  7.7714186,  8.699167 ,\n",
       "        8.723581 ,  7.814144 ,  8.445868 ,  9.6452265,  8.934155 ,\n",
       "        6.102082 ,  6.941328 ,  8.28107  ,  7.454031 ])"
      ]
     },
     "execution_count": 8,
     "metadata": {},
     "output_type": "execute_result"
    }
   ],
   "source": [
    "daily_max[(daily_max > 20) | (daily_max < 10)]"
   ]
  },
  {
   "cell_type": "code",
   "execution_count": null,
   "metadata": {},
   "outputs": [],
   "source": []
  }
 ],
 "metadata": {
  "kernelspec": {
   "display_name": "Python 3",
   "language": "python",
   "name": "python3"
  },
  "language_info": {
   "codemirror_mode": {
    "name": "ipython",
    "version": 3
   },
   "file_extension": ".py",
   "mimetype": "text/x-python",
   "name": "python",
   "nbconvert_exporter": "python",
   "pygments_lexer": "ipython3",
   "version": "3.6.5"
  }
 },
 "nbformat": 4,
 "nbformat_minor": 4
}