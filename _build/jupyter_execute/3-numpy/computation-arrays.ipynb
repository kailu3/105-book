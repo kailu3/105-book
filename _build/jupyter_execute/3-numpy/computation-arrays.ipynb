{
 "cells": [
  {
   "cell_type": "markdown",
   "metadata": {},
   "source": [
    "# Computation on Arrays"
   ]
  },
  {
   "cell_type": "code",
   "execution_count": 1,
   "metadata": {
    "execution": {
     "iopub.execute_input": "2020-05-15T20:42:10.107292Z",
     "iopub.status.busy": "2020-05-15T20:42:10.106548Z",
     "iopub.status.idle": "2020-05-15T20:42:10.202561Z",
     "shell.execute_reply": "2020-05-15T20:42:10.202005Z"
    },
    "tags": [
     "hide-cell"
    ]
   },
   "outputs": [],
   "source": [
    "import numpy as np"
   ]
  },
  {
   "cell_type": "markdown",
   "metadata": {},
   "source": [
    "The beauty of doing computation on NumPy arrays is that we can do calculations very quickly when we use built-in vectorized operations. Instead of iterating over the array and doing an operation at each iteration (e.g. using a for loop), it is much much faster to use a vectorized operation. This can be done by performing an operation on the array, which can be applied to each element. Essentially, this vectorized approach is designed to push the loop into the compiled layer that underlies NumPy, leading to much faster computation."
   ]
  },
  {
   "cell_type": "markdown",
   "metadata": {},
   "source": [
    "## For Loop vs. Vectorized Operation\n",
    "\n",
    "Suppose we wanted to add 1 to each element in an array. The straightforward way to do it is to use a for loop.. "
   ]
  },
  {
   "cell_type": "code",
   "execution_count": 2,
   "metadata": {
    "execution": {
     "iopub.execute_input": "2020-05-15T20:42:10.206450Z",
     "iopub.status.busy": "2020-05-15T20:42:10.205853Z",
     "iopub.status.idle": "2020-05-15T20:42:10.207966Z",
     "shell.execute_reply": "2020-05-15T20:42:10.208529Z"
    }
   },
   "outputs": [],
   "source": [
    "some_array = np.arange(1, 1000)"
   ]
  },
  {
   "cell_type": "code",
   "execution_count": 3,
   "metadata": {
    "execution": {
     "iopub.execute_input": "2020-05-15T20:42:10.215407Z",
     "iopub.status.busy": "2020-05-15T20:42:10.214773Z",
     "iopub.status.idle": "2020-05-15T20:42:10.217073Z",
     "shell.execute_reply": "2020-05-15T20:42:10.217559Z"
    }
   },
   "outputs": [],
   "source": [
    "def add_one(some_array):\n",
    "    for i in np.arange(0, len(some_array)):\n",
    "        some_array[i] = some_array[i] + 1\n",
    "    return some_array"
   ]
  },
  {
   "cell_type": "code",
   "execution_count": 4,
   "metadata": {
    "execution": {
     "iopub.execute_input": "2020-05-15T20:42:11.670337Z",
     "iopub.status.busy": "2020-05-15T20:42:11.211833Z",
     "iopub.status.idle": "2020-05-15T20:42:15.848849Z",
     "shell.execute_reply": "2020-05-15T20:42:15.848281Z"
    }
   },
   "outputs": [
    {
     "name": "stdout",
     "output_type": "stream",
     "text": [
      "695 µs ± 26.2 µs per loop (mean ± std. dev. of 7 runs, 1000 loops each)\n"
     ]
    }
   ],
   "source": [
    "# For Loop\n",
    "%timeit add_one(some_array)"
   ]
  },
  {
   "cell_type": "markdown",
   "metadata": {},
   "source": [
    "If we used the vectorization inherent to NumPy arrays, we would get a much faster compute time."
   ]
  },
  {
   "cell_type": "code",
   "execution_count": 5,
   "metadata": {
    "execution": {
     "iopub.execute_input": "2020-05-15T20:42:15.852827Z",
     "iopub.status.busy": "2020-05-15T20:42:15.852211Z",
     "iopub.status.idle": "2020-05-15T20:42:15.854897Z",
     "shell.execute_reply": "2020-05-15T20:42:15.854332Z"
    }
   },
   "outputs": [],
   "source": [
    "some_array = np.arange(1, 1000)"
   ]
  },
  {
   "cell_type": "code",
   "execution_count": 6,
   "metadata": {
    "execution": {
     "iopub.execute_input": "2020-05-15T20:42:15.859937Z",
     "iopub.status.busy": "2020-05-15T20:42:15.859333Z",
     "iopub.status.idle": "2020-05-15T20:42:26.123279Z",
     "shell.execute_reply": "2020-05-15T20:42:26.122796Z"
    }
   },
   "outputs": [
    {
     "name": "stdout",
     "output_type": "stream",
     "text": [
      "1.26 µs ± 30.5 ns per loop (mean ± std. dev. of 7 runs, 1000000 loops each)\n"
     ]
    }
   ],
   "source": [
    "# Vectorized Operation\n",
    "%timeit some_array + 1"
   ]
  },
  {
   "cell_type": "markdown",
   "metadata": {},
   "source": [
    "```{note}\n",
    "$1.29 \\mu s$  is a lot smaller than  $688 \\mu s$! Since we get the same result from either method, it is preferable to avoid using for loops when we can use vectorized operations on NumPy arrays\n",
    "```"
   ]
  },
  {
   "cell_type": "markdown",
   "metadata": {},
   "source": [
    "## Array Arithmetic\n",
    "\n",
    "Hopefully now I've convinced you to use vectorized operations in NumPy. They are, fortunately, very easy to use and feel very natural to use with the standard addition, subtraction, multiplication, and division operatiors in Python. Essentially, any operator on a NumPy array is applied on each element."
   ]
  },
  {
   "cell_type": "code",
   "execution_count": 7,
   "metadata": {
    "execution": {
     "iopub.execute_input": "2020-05-15T20:42:26.133972Z",
     "iopub.status.busy": "2020-05-15T20:42:26.133289Z",
     "iopub.status.idle": "2020-05-15T20:42:26.136753Z",
     "shell.execute_reply": "2020-05-15T20:42:26.136237Z"
    }
   },
   "outputs": [
    {
     "data": {
      "text/plain": [
       "array([0, 1, 2, 3, 4, 5, 6, 7, 8])"
      ]
     },
     "execution_count": 7,
     "metadata": {},
     "output_type": "execute_result"
    }
   ],
   "source": [
    "some_array = np.arange(9)\n",
    "some_array"
   ]
  },
  {
   "cell_type": "code",
   "execution_count": 8,
   "metadata": {
    "execution": {
     "iopub.execute_input": "2020-05-15T20:42:26.148435Z",
     "iopub.status.busy": "2020-05-15T20:42:26.147645Z",
     "iopub.status.idle": "2020-05-15T20:42:26.151821Z",
     "shell.execute_reply": "2020-05-15T20:42:26.151230Z"
    }
   },
   "outputs": [
    {
     "name": "stdout",
     "output_type": "stream",
     "text": [
      "x + 3 -> [ 3  4  5  6  7  8  9 10 11]\n",
      "x - 3 -> [-3 -2 -1  0  1  2  3  4  5]\n",
      "x * 2 -> [ 0  2  4  6  8 10 12 14 16]\n",
      "x / 2 -> [0.  0.5 1.  1.5 2.  2.5 3.  3.5 4. ]\n",
      "x // 2 -> [0 0 1 1 2 2 3 3 4]\n",
      "x ** 2 -> [ 0  1  4  9 16 25 36 49 64]\n",
      "x % 2 -> [0 1 0 1 0 1 0 1 0]\n"
     ]
    }
   ],
   "source": [
    "print(\"x + 3 ->\", some_array + 3)\n",
    "print(\"x - 3 ->\", some_array - 3)\n",
    "print(\"x * 2 ->\", some_array * 2)\n",
    "print(\"x / 2 ->\", some_array / 2)\n",
    "print(\"x // 2 ->\", some_array // 2)\n",
    "print(\"x ** 2 ->\", some_array ** 2)\n",
    "print(\"x % 2 ->\", some_array % 2)"
   ]
  },
  {
   "cell_type": "markdown",
   "metadata": {},
   "source": [
    "We can combine these operations together as well to do more complex operations to all elements of an array. For instance, suppose we wanted to approximate $\\pi$ which is $$\\frac{\\pi^2}{6} = \\frac{1}{1^2} + \\frac{1}{2^2} + \\frac{1}{3^2} + \\frac{1}{4^2} + \\space ...$$"
   ]
  },
  {
   "cell_type": "code",
   "execution_count": 9,
   "metadata": {
    "execution": {
     "iopub.execute_input": "2020-05-15T20:42:26.155845Z",
     "iopub.status.busy": "2020-05-15T20:42:26.155232Z",
     "iopub.status.idle": "2020-05-15T20:42:26.158195Z",
     "shell.execute_reply": "2020-05-15T20:42:26.157626Z"
    }
   },
   "outputs": [],
   "source": [
    "# We first calculate the RHS elements\n",
    "rhs = 1 / (np.arange(1, 1000)**2)"
   ]
  },
  {
   "cell_type": "code",
   "execution_count": 10,
   "metadata": {
    "execution": {
     "iopub.execute_input": "2020-05-15T20:42:26.162903Z",
     "iopub.status.busy": "2020-05-15T20:42:26.162249Z",
     "iopub.status.idle": "2020-05-15T20:42:26.165604Z",
     "shell.execute_reply": "2020-05-15T20:42:26.165127Z"
    }
   },
   "outputs": [
    {
     "data": {
      "text/plain": [
       "3.14063710098594"
      ]
     },
     "execution_count": 10,
     "metadata": {},
     "output_type": "execute_result"
    }
   ],
   "source": [
    "# Then we take the sum, multiply by 6, and take the sqrt\n",
    "(sum(rhs)*6) ** (1/2)"
   ]
  },
  {
   "cell_type": "markdown",
   "metadata": {},
   "source": [
    "## Wrappers in NumPy\n",
    "\n",
    "Each of the standard operators (e.g. `+`, `-`, `*`) were simply convenient wrappers for specific functions built into NumPy. For example, the `+` operator is a wrapper for the `add` function in NumPy. Equivalently, we can use the syntax:"
   ]
  },
  {
   "cell_type": "code",
   "execution_count": 11,
   "metadata": {
    "execution": {
     "iopub.execute_input": "2020-05-15T20:42:26.174819Z",
     "iopub.status.busy": "2020-05-15T20:42:26.174118Z",
     "iopub.status.idle": "2020-05-15T20:42:26.179326Z",
     "shell.execute_reply": "2020-05-15T20:42:26.178839Z"
    }
   },
   "outputs": [
    {
     "name": "stdout",
     "output_type": "stream",
     "text": [
      "x + 3 -> [ 3  4  5  6  7  8  9 10 11]\n",
      "x - 3 -> [-3 -2 -1  0  1  2  3  4  5]\n",
      "x * 2 -> [ 0  2  4  6  8 10 12 14 16]\n",
      "x / 2 -> [0.  0.5 1.  1.5 2.  2.5 3.  3.5 4. ]\n",
      "x // 2 -> [0 0 1 1 2 2 3 3 4]\n",
      "x ** 2 -> [ 0  1  4  9 16 25 36 49 64]\n",
      "x % 2 -> [0 1 0 1 0 1 0 1 0]\n"
     ]
    }
   ],
   "source": [
    "print(\"x + 3 ->\", np.add(some_array, 3))\n",
    "print(\"x - 3 ->\", np.subtract(some_array, 3))\n",
    "print(\"x * 2 ->\", np.multiply(some_array, 2))\n",
    "print(\"x / 2 ->\", np.divide(some_array, 2))\n",
    "print(\"x // 2 ->\", np.floor_divide(some_array, 2))\n",
    "print(\"x ** 2 ->\", np.power(some_array, 2))\n",
    "print(\"x % 2 ->\", np.mod(some_array, 2))"
   ]
  },
  {
   "cell_type": "markdown",
   "metadata": {},
   "source": [
    "## Aggregation Functions\n",
    "\n",
    "Apart from doing arithmetic with NumPy arrays, we can also get summary statistics easily using built-in NumPy operations. When we're analyzing data, it is always useful to compute these to get a good sense of what our data looks like. Here are some of the most common NumPy operations:"
   ]
  },
  {
   "cell_type": "markdown",
   "metadata": {},
   "source": [
    "| Aggregation | Description        |\n",
    "|-------------|--------------------|\n",
    "| `np.mean`     | mean               |\n",
    "| `np.max`      | maximum            |\n",
    "| `np.min`      | minimum            |\n",
    "| `np.median`   | median             |\n",
    "| `np.var`      | variance           |\n",
    "| `np.std`     | standard deviation |"
   ]
  },
  {
   "cell_type": "markdown",
   "metadata": {},
   "source": [
    "```{tip}\n",
    "You can always type `np.` andd press `TAB` to see all the operations available!\n",
    "\n",
    "```"
   ]
  },
  {
   "cell_type": "markdown",
   "metadata": {},
   "source": [
    "### Example\n",
    "\n",
    "To illustrate how we can use these operations, it's best to learn through an example. Suppose we collected some data on textbook prices and wanted to do some initial data exploration on this data."
   ]
  },
  {
   "cell_type": "code",
   "execution_count": 12,
   "metadata": {
    "execution": {
     "iopub.execute_input": "2020-05-15T20:42:26.183958Z",
     "iopub.status.busy": "2020-05-15T20:42:26.183341Z",
     "iopub.status.idle": "2020-05-15T20:42:26.186324Z",
     "shell.execute_reply": "2020-05-15T20:42:26.185774Z"
    }
   },
   "outputs": [],
   "source": [
    "tb = np.array([95,19.95,51.5,128.5,96,48.5,146.75,92,19.5,85.5,16.95,9.95,5.95,58.75,6.5,70.75,\n",
    "               4.25,115.25,158,6.5,130.5,7,41.25,169.75,71.25,82.25,12.95,127,41.5,31])"
   ]
  },
  {
   "cell_type": "code",
   "execution_count": 13,
   "metadata": {
    "execution": {
     "iopub.execute_input": "2020-05-15T20:42:26.194564Z",
     "iopub.status.busy": "2020-05-15T20:42:26.193733Z",
     "iopub.status.idle": "2020-05-15T20:42:26.197578Z",
     "shell.execute_reply": "2020-05-15T20:42:26.198096Z"
    }
   },
   "outputs": [
    {
     "name": "stdout",
     "output_type": "stream",
     "text": [
      "Minimum price: 4.25\n",
      "Maximum price: 169.75\n",
      "Mean price: 65.01666666666667\n",
      "Median price: 65.01666666666667\n",
      "Variance: 2555.8738888888884\n",
      "Standard deviation: 50.55565140406054\n"
     ]
    }
   ],
   "source": [
    "print(\"Minimum price:\", np.min(tb))\n",
    "print(\"Maximum price:\", np.max(tb))\n",
    "print(\"Mean price:\", np.mean(tb))\n",
    "print(\"Median price:\", np.mean(tb))\n",
    "print(\"Variance:\", np.var(tb))\n",
    "print(\"Standard deviation:\", np.std(tb))"
   ]
  },
  {
   "cell_type": "markdown",
   "metadata": {},
   "source": [
    "```{note}\n",
    "Pretty straightforward isn't it? :)\n",
    "```"
   ]
  }
 ],
 "metadata": {
  "kernelspec": {
   "display_name": "Python 3",
   "language": "python",
   "name": "python3"
  },
  "language_info": {
   "codemirror_mode": {
    "name": "ipython",
    "version": 3
   },
   "file_extension": ".py",
   "mimetype": "text/x-python",
   "name": "python",
   "nbconvert_exporter": "python",
   "pygments_lexer": "ipython3",
   "version": "3.6.5"
  }
 },
 "nbformat": 4,
 "nbformat_minor": 4
}