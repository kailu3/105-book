{
 "cells": [
  {
   "cell_type": "markdown",
   "metadata": {},
   "source": [
    "# NumPy Arrays"
   ]
  },
  {
   "cell_type": "code",
   "execution_count": 1,
   "metadata": {
    "execution": {
     "iopub.execute_input": "2020-05-15T20:42:29.797342Z",
     "iopub.status.busy": "2020-05-15T20:42:29.796610Z",
     "iopub.status.idle": "2020-05-15T20:42:29.891408Z",
     "shell.execute_reply": "2020-05-15T20:42:29.890802Z"
    },
    "tags": [
     "hide-cell"
    ]
   },
   "outputs": [],
   "source": [
    "import numpy as np"
   ]
  },
  {
   "cell_type": "markdown",
   "metadata": {},
   "source": [
    "This section will go over examples of numpy arrays to manipulate numerical data. We'll go over some operations to create, modify, and access NumPy arrays. Note that these are in no way holistic and only represent the things that are mostly useful to CIS 105."
   ]
  },
  {
   "cell_type": "markdown",
   "metadata": {},
   "source": [
    "## Creating NumPy Arrays from Lists"
   ]
  },
  {
   "cell_type": "markdown",
   "metadata": {},
   "source": [
    "We start with one-dimensional NumPy arrays. We can create these from lists and simply wrap `np.array` around the list."
   ]
  },
  {
   "cell_type": "code",
   "execution_count": 2,
   "metadata": {
    "execution": {
     "iopub.execute_input": "2020-05-15T20:42:29.902857Z",
     "iopub.status.busy": "2020-05-15T20:42:29.902021Z",
     "iopub.status.idle": "2020-05-15T20:42:29.905350Z",
     "shell.execute_reply": "2020-05-15T20:42:29.905834Z"
    }
   },
   "outputs": [
    {
     "data": {
      "text/plain": [
       "array([1, 2, 3])"
      ]
     },
     "execution_count": 2,
     "metadata": {},
     "output_type": "execute_result"
    }
   ],
   "source": [
    "some_list = [1, 2, 3]\n",
    "some_array = np.array(some_list)\n",
    "some_array"
   ]
  },
  {
   "cell_type": "markdown",
   "metadata": {},
   "source": [
    "Or more succinctly:"
   ]
  },
  {
   "cell_type": "code",
   "execution_count": 3,
   "metadata": {
    "execution": {
     "iopub.execute_input": "2020-05-15T20:42:29.910908Z",
     "iopub.status.busy": "2020-05-15T20:42:29.910173Z",
     "iopub.status.idle": "2020-05-15T20:42:29.913142Z",
     "shell.execute_reply": "2020-05-15T20:42:29.913620Z"
    }
   },
   "outputs": [
    {
     "data": {
      "text/plain": [
       "array([1, 2, 3])"
      ]
     },
     "execution_count": 3,
     "metadata": {},
     "output_type": "execute_result"
    }
   ],
   "source": [
    "some_array = np.array([1, 2, 3])\n",
    "some_array"
   ]
  },
  {
   "cell_type": "markdown",
   "metadata": {},
   "source": [
    "\n",
    "We can also create two-dimensional or three-dimensional NumPy arrays (though not needed for 105)"
   ]
  },
  {
   "cell_type": "code",
   "execution_count": 4,
   "metadata": {
    "execution": {
     "iopub.execute_input": "2020-05-15T20:42:29.918708Z",
     "iopub.status.busy": "2020-05-15T20:42:29.917976Z",
     "iopub.status.idle": "2020-05-15T20:42:29.921682Z",
     "shell.execute_reply": "2020-05-15T20:42:29.921067Z"
    }
   },
   "outputs": [
    {
     "data": {
      "text/plain": [
       "array([[1, 2, 3],\n",
       "       [4, 5, 6],\n",
       "       [7, 8, 9]])"
      ]
     },
     "execution_count": 4,
     "metadata": {},
     "output_type": "execute_result"
    }
   ],
   "source": [
    "two_d_array = np.array([[1, 2, 3], [4, 5, 6], [7, 8, 9]])\n",
    "two_d_array"
   ]
  },
  {
   "cell_type": "code",
   "execution_count": 5,
   "metadata": {
    "execution": {
     "iopub.execute_input": "2020-05-15T20:42:29.929346Z",
     "iopub.status.busy": "2020-05-15T20:42:29.928568Z",
     "iopub.status.idle": "2020-05-15T20:42:29.933122Z",
     "shell.execute_reply": "2020-05-15T20:42:29.932611Z"
    }
   },
   "outputs": [
    {
     "data": {
      "text/plain": [
       "array([[[0, 1, 5, 6],\n",
       "        [4, 4, 5, 8],\n",
       "        [0, 7, 7, 7]],\n",
       "\n",
       "       [[1, 8, 6, 6],\n",
       "        [0, 4, 9, 2],\n",
       "        [9, 4, 2, 1]]])"
      ]
     },
     "execution_count": 5,
     "metadata": {},
     "output_type": "execute_result"
    }
   ],
   "source": [
    "three_d_array = np.random.randint(10, size=(2, 3, 4))\n",
    "three_d_array"
   ]
  },
  {
   "cell_type": "markdown",
   "metadata": {},
   "source": [
    "## NumPy Array Attributes\n",
    "\n",
    "We can access useful attributes of NumPy arrays through the `.` notation. Some useful attributes are `ndim`, `shape`, and `size`."
   ]
  },
  {
   "cell_type": "code",
   "execution_count": 6,
   "metadata": {
    "execution": {
     "iopub.execute_input": "2020-05-15T20:42:29.937247Z",
     "iopub.status.busy": "2020-05-15T20:42:29.936554Z",
     "iopub.status.idle": "2020-05-15T20:42:29.940235Z",
     "shell.execute_reply": "2020-05-15T20:42:29.939652Z"
    }
   },
   "outputs": [
    {
     "data": {
      "text/plain": [
       "3"
      ]
     },
     "execution_count": 6,
     "metadata": {},
     "output_type": "execute_result"
    }
   ],
   "source": [
    "# ndim -> number of dimensions\n",
    "three_d_array.ndim"
   ]
  },
  {
   "cell_type": "code",
   "execution_count": 7,
   "metadata": {
    "execution": {
     "iopub.execute_input": "2020-05-15T20:42:29.944468Z",
     "iopub.status.busy": "2020-05-15T20:42:29.943786Z",
     "iopub.status.idle": "2020-05-15T20:42:29.946793Z",
     "shell.execute_reply": "2020-05-15T20:42:29.947351Z"
    }
   },
   "outputs": [
    {
     "data": {
      "text/plain": [
       "(2, 3, 4)"
      ]
     },
     "execution_count": 7,
     "metadata": {},
     "output_type": "execute_result"
    }
   ],
   "source": [
    "# shape -> array dimensions\n",
    "three_d_array.shape"
   ]
  },
  {
   "cell_type": "code",
   "execution_count": 8,
   "metadata": {
    "execution": {
     "iopub.execute_input": "2020-05-15T20:42:29.951629Z",
     "iopub.status.busy": "2020-05-15T20:42:29.950882Z",
     "iopub.status.idle": "2020-05-15T20:42:29.954436Z",
     "shell.execute_reply": "2020-05-15T20:42:29.953886Z"
    }
   },
   "outputs": [
    {
     "data": {
      "text/plain": [
       "24"
      ]
     },
     "execution_count": 8,
     "metadata": {},
     "output_type": "execute_result"
    }
   ],
   "source": [
    "# size -> total number of elements\n",
    "three_d_array.size"
   ]
  },
  {
   "cell_type": "markdown",
   "metadata": {},
   "source": [
    "```{tip}\n",
    "For more attributes, you can explore for yourself by pressing `TAB` after typing in `{name of array}.` Use `?` to find out what each attribute does/is.\n",
    "```"
   ]
  },
  {
   "cell_type": "code",
   "execution_count": 9,
   "metadata": {
    "execution": {
     "iopub.execute_input": "2020-05-15T20:42:29.959092Z",
     "iopub.status.busy": "2020-05-15T20:42:29.958472Z",
     "iopub.status.idle": "2020-05-15T20:42:29.961385Z",
     "shell.execute_reply": "2020-05-15T20:42:29.960815Z"
    }
   },
   "outputs": [],
   "source": [
    "# for example\n",
    "three_d_array.cumsum?"
   ]
  },
  {
   "cell_type": "markdown",
   "metadata": {},
   "source": [
    "## Creating NumPy Arrays using `np.arange`\n",
    "\n",
    "What if we wanted to create a large numeric array, say 1-2000? It wouldn't be very feasible for us to create this manually by typing out each element inside a list. We could, alternatively use `np.arange` to do this very easily!"
   ]
  },
  {
   "cell_type": "code",
   "execution_count": 10,
   "metadata": {
    "execution": {
     "iopub.execute_input": "2020-05-15T20:42:29.966096Z",
     "iopub.status.busy": "2020-05-15T20:42:29.965423Z",
     "iopub.status.idle": "2020-05-15T20:42:29.969017Z",
     "shell.execute_reply": "2020-05-15T20:42:29.968441Z"
    }
   },
   "outputs": [
    {
     "data": {
      "text/plain": [
       "array([   1,    2,    3, ..., 1998, 1999, 2000])"
      ]
     },
     "execution_count": 10,
     "metadata": {},
     "output_type": "execute_result"
    }
   ],
   "source": [
    "some_large_array = np.arange(1, 2001, 1)\n",
    "some_large_array"
   ]
  },
  {
   "cell_type": "markdown",
   "metadata": {},
   "source": [
    "The syntax of `np.arange` is `np.arange(start, end, stepsize)`. Note that `start` is inclusive while `end` is exclusive. You may also omit the third argument `stepsize` for this situation as it defaults to `1`."
   ]
  },
  {
   "cell_type": "code",
   "execution_count": 11,
   "metadata": {
    "execution": {
     "iopub.execute_input": "2020-05-15T20:42:29.973959Z",
     "iopub.status.busy": "2020-05-15T20:42:29.973234Z",
     "iopub.status.idle": "2020-05-15T20:42:29.977079Z",
     "shell.execute_reply": "2020-05-15T20:42:29.976506Z"
    }
   },
   "outputs": [
    {
     "data": {
      "text/plain": [
       "array([1, 3, 5, 7, 9])"
      ]
     },
     "execution_count": 11,
     "metadata": {},
     "output_type": "execute_result"
    }
   ],
   "source": [
    "# 2 stepsize\n",
    "np.arange(1, 10, 2)"
   ]
  },
  {
   "cell_type": "code",
   "execution_count": 12,
   "metadata": {
    "execution": {
     "iopub.execute_input": "2020-05-15T20:42:29.981814Z",
     "iopub.status.busy": "2020-05-15T20:42:29.981139Z",
     "iopub.status.idle": "2020-05-15T20:42:29.984693Z",
     "shell.execute_reply": "2020-05-15T20:42:29.984111Z"
    }
   },
   "outputs": [
    {
     "data": {
      "text/plain": [
       "array([10,  9,  8,  7,  6,  5,  4,  3,  2])"
      ]
     },
     "execution_count": 12,
     "metadata": {},
     "output_type": "execute_result"
    }
   ],
   "source": [
    "# negative stepsize\n",
    "np.arange(10, 1, -1)"
   ]
  },
  {
   "cell_type": "markdown",
   "metadata": {},
   "source": [
    "## Array Indexing for One-Dimensional Arrays\n",
    "\n",
    "If you are familiar with doing indexing with Python lists, then indexing in NumPy will feel very familiar."
   ]
  },
  {
   "cell_type": "code",
   "execution_count": 13,
   "metadata": {
    "execution": {
     "iopub.execute_input": "2020-05-15T20:42:29.989504Z",
     "iopub.status.busy": "2020-05-15T20:42:29.988821Z",
     "iopub.status.idle": "2020-05-15T20:42:29.992120Z",
     "shell.execute_reply": "2020-05-15T20:42:29.992579Z"
    }
   },
   "outputs": [
    {
     "data": {
      "text/plain": [
       "array(['a', 'b', 'c', 'd', 'e'], dtype='<U1')"
      ]
     },
     "execution_count": 13,
     "metadata": {},
     "output_type": "execute_result"
    }
   ],
   "source": [
    "some_array = np.array([\"a\", \"b\", \"c\", \"d\", \"e\"])\n",
    "some_array"
   ]
  },
  {
   "cell_type": "code",
   "execution_count": 14,
   "metadata": {
    "execution": {
     "iopub.execute_input": "2020-05-15T20:42:29.996833Z",
     "iopub.status.busy": "2020-05-15T20:42:29.996165Z",
     "iopub.status.idle": "2020-05-15T20:42:29.999627Z",
     "shell.execute_reply": "2020-05-15T20:42:29.999060Z"
    }
   },
   "outputs": [
    {
     "data": {
      "text/plain": [
       "'a'"
      ]
     },
     "execution_count": 14,
     "metadata": {},
     "output_type": "execute_result"
    }
   ],
   "source": [
    "# first element\n",
    "some_array[0]"
   ]
  },
  {
   "cell_type": "code",
   "execution_count": 15,
   "metadata": {
    "execution": {
     "iopub.execute_input": "2020-05-15T20:42:30.004012Z",
     "iopub.status.busy": "2020-05-15T20:42:30.003336Z",
     "iopub.status.idle": "2020-05-15T20:42:30.006969Z",
     "shell.execute_reply": "2020-05-15T20:42:30.006384Z"
    }
   },
   "outputs": [
    {
     "data": {
      "text/plain": [
       "'e'"
      ]
     },
     "execution_count": 15,
     "metadata": {},
     "output_type": "execute_result"
    }
   ],
   "source": [
    "# last element\n",
    "some_array[-1]"
   ]
  },
  {
   "cell_type": "code",
   "execution_count": 16,
   "metadata": {
    "execution": {
     "iopub.execute_input": "2020-05-15T20:42:30.011289Z",
     "iopub.status.busy": "2020-05-15T20:42:30.010534Z",
     "iopub.status.idle": "2020-05-15T20:42:30.014052Z",
     "shell.execute_reply": "2020-05-15T20:42:30.013576Z"
    }
   },
   "outputs": [
    {
     "data": {
      "text/plain": [
       "'c'"
      ]
     },
     "execution_count": 16,
     "metadata": {},
     "output_type": "execute_result"
    }
   ],
   "source": [
    "# third element\n",
    "some_array[2]"
   ]
  },
  {
   "cell_type": "code",
   "execution_count": 17,
   "metadata": {
    "execution": {
     "iopub.execute_input": "2020-05-15T20:42:30.018456Z",
     "iopub.status.busy": "2020-05-15T20:42:30.017705Z",
     "iopub.status.idle": "2020-05-15T20:42:30.021271Z",
     "shell.execute_reply": "2020-05-15T20:42:30.020697Z"
    }
   },
   "outputs": [
    {
     "data": {
      "text/plain": [
       "array(['b', 'c', 'd'], dtype='<U1')"
      ]
     },
     "execution_count": 17,
     "metadata": {},
     "output_type": "execute_result"
    }
   ],
   "source": [
    "# second to fourth elements\n",
    "some_array[1:4]"
   ]
  },
  {
   "cell_type": "code",
   "execution_count": 18,
   "metadata": {
    "execution": {
     "iopub.execute_input": "2020-05-15T20:42:30.025854Z",
     "iopub.status.busy": "2020-05-15T20:42:30.025169Z",
     "iopub.status.idle": "2020-05-15T20:42:30.028806Z",
     "shell.execute_reply": "2020-05-15T20:42:30.028281Z"
    }
   },
   "outputs": [
    {
     "data": {
      "text/plain": [
       "array(['a', 'b', 'c', 'd'], dtype='<U1')"
      ]
     },
     "execution_count": 18,
     "metadata": {},
     "output_type": "execute_result"
    }
   ],
   "source": [
    "# first four elements\n",
    "some_array[:4]"
   ]
  },
  {
   "cell_type": "code",
   "execution_count": 19,
   "metadata": {
    "execution": {
     "iopub.execute_input": "2020-05-15T20:42:30.033158Z",
     "iopub.status.busy": "2020-05-15T20:42:30.032395Z",
     "iopub.status.idle": "2020-05-15T20:42:30.036241Z",
     "shell.execute_reply": "2020-05-15T20:42:30.035670Z"
    }
   },
   "outputs": [
    {
     "data": {
      "text/plain": [
       "array(['e'], dtype='<U1')"
      ]
     },
     "execution_count": 19,
     "metadata": {},
     "output_type": "execute_result"
    }
   ],
   "source": [
    "# excluding first four elements\n",
    "some_array[4:]"
   ]
  },
  {
   "cell_type": "markdown",
   "metadata": {},
   "source": [
    "We can also slice arrays in steps.. The syntax is"
   ]
  },
  {
   "cell_type": "markdown",
   "metadata": {},
   "source": [
    "```\n",
    "x[start:end:step]\n",
    "```"
   ]
  },
  {
   "cell_type": "code",
   "execution_count": 20,
   "metadata": {
    "execution": {
     "iopub.execute_input": "2020-05-15T20:42:30.040752Z",
     "iopub.status.busy": "2020-05-15T20:42:30.040082Z",
     "iopub.status.idle": "2020-05-15T20:42:30.043723Z",
     "shell.execute_reply": "2020-05-15T20:42:30.043151Z"
    }
   },
   "outputs": [
    {
     "data": {
      "text/plain": [
       "array(['a', 'c', 'e'], dtype='<U1')"
      ]
     },
     "execution_count": 20,
     "metadata": {},
     "output_type": "execute_result"
    }
   ],
   "source": [
    "# every second element\n",
    "some_array[::2]"
   ]
  },
  {
   "cell_type": "markdown",
   "metadata": {},
   "source": [
    "## Array Indexing for Multi-Dimensional Arrays\n",
    "\n",
    "For multi-dimensional array, we can access elements using a comma-separated tuple of indices (not required for 105)"
   ]
  },
  {
   "cell_type": "code",
   "execution_count": 21,
   "metadata": {
    "execution": {
     "iopub.execute_input": "2020-05-15T20:42:30.047882Z",
     "iopub.status.busy": "2020-05-15T20:42:30.047224Z",
     "iopub.status.idle": "2020-05-15T20:42:30.051079Z",
     "shell.execute_reply": "2020-05-15T20:42:30.050493Z"
    }
   },
   "outputs": [
    {
     "data": {
      "text/plain": [
       "array([[1, 2, 3],\n",
       "       [4, 5, 6],\n",
       "       [7, 8, 9]])"
      ]
     },
     "execution_count": 21,
     "metadata": {},
     "output_type": "execute_result"
    }
   ],
   "source": [
    "two_d_array"
   ]
  },
  {
   "cell_type": "code",
   "execution_count": 22,
   "metadata": {
    "execution": {
     "iopub.execute_input": "2020-05-15T20:42:30.055325Z",
     "iopub.status.busy": "2020-05-15T20:42:30.054653Z",
     "iopub.status.idle": "2020-05-15T20:42:30.058030Z",
     "shell.execute_reply": "2020-05-15T20:42:30.057521Z"
    }
   },
   "outputs": [
    {
     "data": {
      "text/plain": [
       "1"
      ]
     },
     "execution_count": 22,
     "metadata": {},
     "output_type": "execute_result"
    }
   ],
   "source": [
    "two_d_array[0, 0]"
   ]
  },
  {
   "cell_type": "code",
   "execution_count": 23,
   "metadata": {
    "execution": {
     "iopub.execute_input": "2020-05-15T20:42:30.062154Z",
     "iopub.status.busy": "2020-05-15T20:42:30.061473Z",
     "iopub.status.idle": "2020-05-15T20:42:30.064870Z",
     "shell.execute_reply": "2020-05-15T20:42:30.064278Z"
    }
   },
   "outputs": [
    {
     "data": {
      "text/plain": [
       "7"
      ]
     },
     "execution_count": 23,
     "metadata": {},
     "output_type": "execute_result"
    }
   ],
   "source": [
    "two_d_array[2, 0]"
   ]
  },
  {
   "cell_type": "code",
   "execution_count": 24,
   "metadata": {
    "execution": {
     "iopub.execute_input": "2020-05-15T20:42:30.068989Z",
     "iopub.status.busy": "2020-05-15T20:42:30.068324Z",
     "iopub.status.idle": "2020-05-15T20:42:30.071306Z",
     "shell.execute_reply": "2020-05-15T20:42:30.071793Z"
    }
   },
   "outputs": [
    {
     "data": {
      "text/plain": [
       "3"
      ]
     },
     "execution_count": 24,
     "metadata": {},
     "output_type": "execute_result"
    }
   ],
   "source": [
    "two_d_array[0, 2]"
   ]
  },
  {
   "cell_type": "code",
   "execution_count": 25,
   "metadata": {
    "execution": {
     "iopub.execute_input": "2020-05-15T20:42:30.076210Z",
     "iopub.status.busy": "2020-05-15T20:42:30.075460Z",
     "iopub.status.idle": "2020-05-15T20:42:30.079009Z",
     "shell.execute_reply": "2020-05-15T20:42:30.078398Z"
    }
   },
   "outputs": [
    {
     "data": {
      "text/plain": [
       "array([[[0, 1, 5, 6],\n",
       "        [4, 4, 5, 8],\n",
       "        [0, 7, 7, 7]],\n",
       "\n",
       "       [[1, 8, 6, 6],\n",
       "        [0, 4, 9, 2],\n",
       "        [9, 4, 2, 1]]])"
      ]
     },
     "execution_count": 25,
     "metadata": {},
     "output_type": "execute_result"
    }
   ],
   "source": [
    "three_d_array"
   ]
  },
  {
   "cell_type": "code",
   "execution_count": 26,
   "metadata": {
    "execution": {
     "iopub.execute_input": "2020-05-15T20:42:30.083293Z",
     "iopub.status.busy": "2020-05-15T20:42:30.082545Z",
     "iopub.status.idle": "2020-05-15T20:42:30.086055Z",
     "shell.execute_reply": "2020-05-15T20:42:30.085513Z"
    }
   },
   "outputs": [
    {
     "data": {
      "text/plain": [
       "0"
      ]
     },
     "execution_count": 26,
     "metadata": {},
     "output_type": "execute_result"
    }
   ],
   "source": [
    "three_d_array[0, 0, 0]"
   ]
  },
  {
   "cell_type": "markdown",
   "metadata": {},
   "source": [
    "## Array Concatenation\n",
    "\n",
    "We sometimes might also want concatenate together two Numpy arrays. For this task, we can use `np.concatenate` to get the job done. Note that we can also concatenate multi-dimensional arrays but I won't be covering this here."
   ]
  },
  {
   "cell_type": "code",
   "execution_count": 27,
   "metadata": {
    "execution": {
     "iopub.execute_input": "2020-05-15T20:42:30.092234Z",
     "iopub.status.busy": "2020-05-15T20:42:30.091546Z",
     "iopub.status.idle": "2020-05-15T20:42:30.094501Z",
     "shell.execute_reply": "2020-05-15T20:42:30.095096Z"
    }
   },
   "outputs": [
    {
     "data": {
      "text/plain": [
       "array([1, 2, 3, 4, 5, 6])"
      ]
     },
     "execution_count": 27,
     "metadata": {},
     "output_type": "execute_result"
    }
   ],
   "source": [
    "x = np.array([1, 2, 3])\n",
    "y = np.array([4, 5, 6])\n",
    "z = np.concatenate([x, y])\n",
    "z"
   ]
  }
 ],
 "metadata": {
  "kernelspec": {
   "display_name": "Python 3",
   "language": "python",
   "name": "python3"
  },
  "language_info": {
   "codemirror_mode": {
    "name": "ipython",
    "version": 3
   },
   "file_extension": ".py",
   "mimetype": "text/x-python",
   "name": "python",
   "nbconvert_exporter": "python",
   "pygments_lexer": "ipython3",
   "version": "3.6.5"
  }
 },
 "nbformat": 4,
 "nbformat_minor": 4
}