{
 "cells": [
  {
   "cell_type": "markdown",
   "metadata": {},
   "source": [
    "# NumPy Arrays"
   ]
  },
  {
   "cell_type": "code",
   "execution_count": 1,
   "metadata": {
    "execution": {
     "iopub.execute_input": "2020-05-13T23:14:16.380895Z",
     "iopub.status.busy": "2020-05-13T23:14:16.380173Z",
     "iopub.status.idle": "2020-05-13T23:14:16.479080Z",
     "shell.execute_reply": "2020-05-13T23:14:16.478510Z"
    },
    "tags": [
     "hide-cell"
    ]
   },
   "outputs": [],
   "source": [
    "import numpy as np"
   ]
  },
  {
   "cell_type": "markdown",
   "metadata": {},
   "source": [
    "This section will go over examples of numpy arrays to manipulate numerical data. We'll go over some operations to create, modify, and access NumPy arrays. Note that these are in no way holistic and only represent the things that are mostly useful to CIS 105."
   ]
  },
  {
   "cell_type": "markdown",
   "metadata": {},
   "source": [
    "## Creating NumPy Arrays from Lists"
   ]
  },
  {
   "cell_type": "markdown",
   "metadata": {},
   "source": [
    "We start with one-dimensional NumPy arrays. We can create these from lists and simply wrap `np.array` around the list."
   ]
  },
  {
   "cell_type": "code",
   "execution_count": 2,
   "metadata": {
    "execution": {
     "iopub.execute_input": "2020-05-13T23:14:16.490861Z",
     "iopub.status.busy": "2020-05-13T23:14:16.490044Z",
     "iopub.status.idle": "2020-05-13T23:14:16.494483Z",
     "shell.execute_reply": "2020-05-13T23:14:16.493977Z"
    }
   },
   "outputs": [
    {
     "data": {
      "text/plain": [
       "array([1, 2, 3])"
      ]
     },
     "execution_count": 2,
     "metadata": {},
     "output_type": "execute_result"
    }
   ],
   "source": [
    "some_list = [1, 2, 3]\n",
    "some_array = np.array(some_list)\n",
    "some_array"
   ]
  },
  {
   "cell_type": "markdown",
   "metadata": {},
   "source": [
    "Or more succinctly:"
   ]
  },
  {
   "cell_type": "code",
   "execution_count": 3,
   "metadata": {
    "execution": {
     "iopub.execute_input": "2020-05-13T23:14:16.499097Z",
     "iopub.status.busy": "2020-05-13T23:14:16.498338Z",
     "iopub.status.idle": "2020-05-13T23:14:16.502125Z",
     "shell.execute_reply": "2020-05-13T23:14:16.501594Z"
    }
   },
   "outputs": [
    {
     "data": {
      "text/plain": [
       "array([1, 2, 3])"
      ]
     },
     "execution_count": 3,
     "metadata": {},
     "output_type": "execute_result"
    }
   ],
   "source": [
    "some_array = np.array([1, 2, 3])\n",
    "some_array"
   ]
  },
  {
   "cell_type": "markdown",
   "metadata": {},
   "source": [
    "\n",
    "We can also create two-dimensional or three-dimensional NumPy arrays (though not needed for 105)"
   ]
  },
  {
   "cell_type": "code",
   "execution_count": 4,
   "metadata": {
    "execution": {
     "iopub.execute_input": "2020-05-13T23:14:16.507392Z",
     "iopub.status.busy": "2020-05-13T23:14:16.506503Z",
     "iopub.status.idle": "2020-05-13T23:14:16.510481Z",
     "shell.execute_reply": "2020-05-13T23:14:16.509813Z"
    }
   },
   "outputs": [
    {
     "data": {
      "text/plain": [
       "array([[1, 2, 3],\n",
       "       [4, 5, 6],\n",
       "       [7, 8, 9]])"
      ]
     },
     "execution_count": 4,
     "metadata": {},
     "output_type": "execute_result"
    }
   ],
   "source": [
    "two_d_array = np.array([[1, 2, 3], [4, 5, 6], [7, 8, 9]])\n",
    "two_d_array"
   ]
  },
  {
   "cell_type": "code",
   "execution_count": 5,
   "metadata": {
    "execution": {
     "iopub.execute_input": "2020-05-13T23:14:16.515869Z",
     "iopub.status.busy": "2020-05-13T23:14:16.515058Z",
     "iopub.status.idle": "2020-05-13T23:14:16.518345Z",
     "shell.execute_reply": "2020-05-13T23:14:16.518854Z"
    }
   },
   "outputs": [
    {
     "data": {
      "text/plain": [
       "array([[[0, 7, 3, 3],\n",
       "        [4, 7, 4, 9],\n",
       "        [5, 6, 1, 4]],\n",
       "\n",
       "       [[4, 8, 8, 3],\n",
       "        [1, 5, 6, 1],\n",
       "        [6, 2, 7, 6]]])"
      ]
     },
     "execution_count": 5,
     "metadata": {},
     "output_type": "execute_result"
    }
   ],
   "source": [
    "three_d_array = np.random.randint(10, size=(2, 3, 4))\n",
    "three_d_array"
   ]
  },
  {
   "cell_type": "markdown",
   "metadata": {},
   "source": [
    "## NumPy Array Attributes\n",
    "\n",
    "We can access useful attributes of NumPy arrays through the `.` notation. Some useful attributes are `ndim`, `shape`, and `size`."
   ]
  },
  {
   "cell_type": "code",
   "execution_count": 6,
   "metadata": {
    "execution": {
     "iopub.execute_input": "2020-05-13T23:14:16.523069Z",
     "iopub.status.busy": "2020-05-13T23:14:16.522319Z",
     "iopub.status.idle": "2020-05-13T23:14:16.526006Z",
     "shell.execute_reply": "2020-05-13T23:14:16.525494Z"
    }
   },
   "outputs": [
    {
     "data": {
      "text/plain": [
       "3"
      ]
     },
     "execution_count": 6,
     "metadata": {},
     "output_type": "execute_result"
    }
   ],
   "source": [
    "# ndim -> number of dimensions\n",
    "three_d_array.ndim"
   ]
  },
  {
   "cell_type": "code",
   "execution_count": 7,
   "metadata": {
    "execution": {
     "iopub.execute_input": "2020-05-13T23:14:16.530226Z",
     "iopub.status.busy": "2020-05-13T23:14:16.529463Z",
     "iopub.status.idle": "2020-05-13T23:14:16.533123Z",
     "shell.execute_reply": "2020-05-13T23:14:16.532558Z"
    }
   },
   "outputs": [
    {
     "data": {
      "text/plain": [
       "(2, 3, 4)"
      ]
     },
     "execution_count": 7,
     "metadata": {},
     "output_type": "execute_result"
    }
   ],
   "source": [
    "# shape -> array dimensions\n",
    "three_d_array.shape"
   ]
  },
  {
   "cell_type": "code",
   "execution_count": 8,
   "metadata": {
    "execution": {
     "iopub.execute_input": "2020-05-13T23:14:16.537230Z",
     "iopub.status.busy": "2020-05-13T23:14:16.536546Z",
     "iopub.status.idle": "2020-05-13T23:14:16.539591Z",
     "shell.execute_reply": "2020-05-13T23:14:16.540033Z"
    }
   },
   "outputs": [
    {
     "data": {
      "text/plain": [
       "24"
      ]
     },
     "execution_count": 8,
     "metadata": {},
     "output_type": "execute_result"
    }
   ],
   "source": [
    "# size -> total number of elements\n",
    "three_d_array.size"
   ]
  },
  {
   "cell_type": "markdown",
   "metadata": {},
   "source": [
    "```{tip}\n",
    "For more attributes, you can explore for yourself by pressing `TAB` after typing in `{name of array}.` Use `?` to find out what each attribute does/is.\n",
    "```"
   ]
  },
  {
   "cell_type": "code",
   "execution_count": 9,
   "metadata": {
    "execution": {
     "iopub.execute_input": "2020-05-13T23:14:16.544521Z",
     "iopub.status.busy": "2020-05-13T23:14:16.543925Z",
     "iopub.status.idle": "2020-05-13T23:14:16.546775Z",
     "shell.execute_reply": "2020-05-13T23:14:16.546214Z"
    }
   },
   "outputs": [],
   "source": [
    "# for example\n",
    "three_d_array.cumsum?"
   ]
  },
  {
   "cell_type": "markdown",
   "metadata": {},
   "source": [
    "## Creating NumPy Arrays using `np.arange`\n",
    "\n",
    "What if we wanted to create a large numeric array, say 1-2000? It wouldn't be very feasible for us to create this manually by typing out each element inside a list. We could, alternatively use `np.arange` to do this very easily!"
   ]
  },
  {
   "cell_type": "code",
   "execution_count": 10,
   "metadata": {
    "execution": {
     "iopub.execute_input": "2020-05-13T23:14:16.551945Z",
     "iopub.status.busy": "2020-05-13T23:14:16.551184Z",
     "iopub.status.idle": "2020-05-13T23:14:16.554705Z",
     "shell.execute_reply": "2020-05-13T23:14:16.554148Z"
    }
   },
   "outputs": [
    {
     "data": {
      "text/plain": [
       "array([   1,    2,    3, ..., 1998, 1999, 2000])"
      ]
     },
     "execution_count": 10,
     "metadata": {},
     "output_type": "execute_result"
    }
   ],
   "source": [
    "some_large_array = np.arange(1, 2001, 1)\n",
    "some_large_array"
   ]
  },
  {
   "cell_type": "markdown",
   "metadata": {},
   "source": [
    "The syntax of `np.arange` is `np.arange(start, end, stepsize)`. Note that `start` is inclusive while `end` is exclusive. You may also omit the third argument `stepsize` for this situation as it defaults to `1`."
   ]
  },
  {
   "cell_type": "code",
   "execution_count": 11,
   "metadata": {
    "execution": {
     "iopub.execute_input": "2020-05-13T23:14:16.559215Z",
     "iopub.status.busy": "2020-05-13T23:14:16.558549Z",
     "iopub.status.idle": "2020-05-13T23:14:16.561989Z",
     "shell.execute_reply": "2020-05-13T23:14:16.561487Z"
    }
   },
   "outputs": [
    {
     "data": {
      "text/plain": [
       "array([1, 3, 5, 7, 9])"
      ]
     },
     "execution_count": 11,
     "metadata": {},
     "output_type": "execute_result"
    }
   ],
   "source": [
    "# 2 stepsize\n",
    "np.arange(1, 10, 2)"
   ]
  },
  {
   "cell_type": "code",
   "execution_count": 12,
   "metadata": {
    "execution": {
     "iopub.execute_input": "2020-05-13T23:14:16.566850Z",
     "iopub.status.busy": "2020-05-13T23:14:16.566102Z",
     "iopub.status.idle": "2020-05-13T23:14:16.569588Z",
     "shell.execute_reply": "2020-05-13T23:14:16.569025Z"
    }
   },
   "outputs": [
    {
     "data": {
      "text/plain": [
       "array([10,  9,  8,  7,  6,  5,  4,  3,  2])"
      ]
     },
     "execution_count": 12,
     "metadata": {},
     "output_type": "execute_result"
    }
   ],
   "source": [
    "# negative stepsize\n",
    "np.arange(10, 1, -1)"
   ]
  },
  {
   "cell_type": "markdown",
   "metadata": {},
   "source": [
    "## Array Indexing for One-Dimensional Arrays\n",
    "\n",
    "If you are familiar with doing indexing with Python lists, then indexing in NumPy will feel very familiar."
   ]
  },
  {
   "cell_type": "code",
   "execution_count": 13,
   "metadata": {
    "execution": {
     "iopub.execute_input": "2020-05-13T23:14:16.574296Z",
     "iopub.status.busy": "2020-05-13T23:14:16.573552Z",
     "iopub.status.idle": "2020-05-13T23:14:16.577001Z",
     "shell.execute_reply": "2020-05-13T23:14:16.576496Z"
    }
   },
   "outputs": [
    {
     "data": {
      "text/plain": [
       "array(['a', 'b', 'c', 'd', 'e'], dtype='<U1')"
      ]
     },
     "execution_count": 13,
     "metadata": {},
     "output_type": "execute_result"
    }
   ],
   "source": [
    "some_array = np.array([\"a\", \"b\", \"c\", \"d\", \"e\"])\n",
    "some_array"
   ]
  },
  {
   "cell_type": "code",
   "execution_count": 14,
   "metadata": {
    "execution": {
     "iopub.execute_input": "2020-05-13T23:14:16.581374Z",
     "iopub.status.busy": "2020-05-13T23:14:16.580616Z",
     "iopub.status.idle": "2020-05-13T23:14:16.584229Z",
     "shell.execute_reply": "2020-05-13T23:14:16.583661Z"
    }
   },
   "outputs": [
    {
     "data": {
      "text/plain": [
       "'a'"
      ]
     },
     "execution_count": 14,
     "metadata": {},
     "output_type": "execute_result"
    }
   ],
   "source": [
    "# first element\n",
    "some_array[0]"
   ]
  },
  {
   "cell_type": "code",
   "execution_count": 15,
   "metadata": {
    "execution": {
     "iopub.execute_input": "2020-05-13T23:14:16.588535Z",
     "iopub.status.busy": "2020-05-13T23:14:16.587782Z",
     "iopub.status.idle": "2020-05-13T23:14:16.591419Z",
     "shell.execute_reply": "2020-05-13T23:14:16.590914Z"
    }
   },
   "outputs": [
    {
     "data": {
      "text/plain": [
       "'e'"
      ]
     },
     "execution_count": 15,
     "metadata": {},
     "output_type": "execute_result"
    }
   ],
   "source": [
    "# last element\n",
    "some_array[-1]"
   ]
  },
  {
   "cell_type": "code",
   "execution_count": 16,
   "metadata": {
    "execution": {
     "iopub.execute_input": "2020-05-13T23:14:16.595635Z",
     "iopub.status.busy": "2020-05-13T23:14:16.594964Z",
     "iopub.status.idle": "2020-05-13T23:14:16.598482Z",
     "shell.execute_reply": "2020-05-13T23:14:16.597907Z"
    }
   },
   "outputs": [
    {
     "data": {
      "text/plain": [
       "'c'"
      ]
     },
     "execution_count": 16,
     "metadata": {},
     "output_type": "execute_result"
    }
   ],
   "source": [
    "# third element\n",
    "some_array[2]"
   ]
  },
  {
   "cell_type": "code",
   "execution_count": 17,
   "metadata": {
    "execution": {
     "iopub.execute_input": "2020-05-13T23:14:16.602809Z",
     "iopub.status.busy": "2020-05-13T23:14:16.602138Z",
     "iopub.status.idle": "2020-05-13T23:14:16.605645Z",
     "shell.execute_reply": "2020-05-13T23:14:16.605066Z"
    }
   },
   "outputs": [
    {
     "data": {
      "text/plain": [
       "array(['b', 'c', 'd'], dtype='<U1')"
      ]
     },
     "execution_count": 17,
     "metadata": {},
     "output_type": "execute_result"
    }
   ],
   "source": [
    "# second to fourth elements\n",
    "some_array[1:4]"
   ]
  },
  {
   "cell_type": "code",
   "execution_count": 18,
   "metadata": {
    "execution": {
     "iopub.execute_input": "2020-05-13T23:14:16.609889Z",
     "iopub.status.busy": "2020-05-13T23:14:16.609219Z",
     "iopub.status.idle": "2020-05-13T23:14:16.612754Z",
     "shell.execute_reply": "2020-05-13T23:14:16.612190Z"
    }
   },
   "outputs": [
    {
     "data": {
      "text/plain": [
       "array(['a', 'b', 'c', 'd'], dtype='<U1')"
      ]
     },
     "execution_count": 18,
     "metadata": {},
     "output_type": "execute_result"
    }
   ],
   "source": [
    "# first four elements\n",
    "some_array[:4]"
   ]
  },
  {
   "cell_type": "code",
   "execution_count": 19,
   "metadata": {
    "execution": {
     "iopub.execute_input": "2020-05-13T23:14:16.617051Z",
     "iopub.status.busy": "2020-05-13T23:14:16.616366Z",
     "iopub.status.idle": "2020-05-13T23:14:16.621291Z",
     "shell.execute_reply": "2020-05-13T23:14:16.620733Z"
    }
   },
   "outputs": [
    {
     "data": {
      "text/plain": [
       "array(['e'], dtype='<U1')"
      ]
     },
     "execution_count": 19,
     "metadata": {},
     "output_type": "execute_result"
    }
   ],
   "source": [
    "# excluding first four elements\n",
    "some_array[4:]"
   ]
  },
  {
   "cell_type": "markdown",
   "metadata": {},
   "source": [
    "We can also slice arrays in steps.. The syntax is"
   ]
  },
  {
   "cell_type": "markdown",
   "metadata": {},
   "source": [
    "```\n",
    "x[start:end:step]\n",
    "```"
   ]
  },
  {
   "cell_type": "code",
   "execution_count": 20,
   "metadata": {
    "execution": {
     "iopub.execute_input": "2020-05-13T23:14:16.625646Z",
     "iopub.status.busy": "2020-05-13T23:14:16.624985Z",
     "iopub.status.idle": "2020-05-13T23:14:16.628472Z",
     "shell.execute_reply": "2020-05-13T23:14:16.627972Z"
    }
   },
   "outputs": [
    {
     "data": {
      "text/plain": [
       "array(['a', 'c', 'e'], dtype='<U1')"
      ]
     },
     "execution_count": 20,
     "metadata": {},
     "output_type": "execute_result"
    }
   ],
   "source": [
    "# every second element\n",
    "some_array[::2]"
   ]
  },
  {
   "cell_type": "markdown",
   "metadata": {},
   "source": [
    "## Array Indexing for Multi-Dimensional Arrays\n",
    "\n",
    "For multi-dimensional array, we can access elements using a comma-separated tuple of indices (not required for 105)"
   ]
  },
  {
   "cell_type": "code",
   "execution_count": 21,
   "metadata": {
    "execution": {
     "iopub.execute_input": "2020-05-13T23:14:16.632944Z",
     "iopub.status.busy": "2020-05-13T23:14:16.632144Z",
     "iopub.status.idle": "2020-05-13T23:14:16.635704Z",
     "shell.execute_reply": "2020-05-13T23:14:16.635146Z"
    }
   },
   "outputs": [
    {
     "data": {
      "text/plain": [
       "array([[1, 2, 3],\n",
       "       [4, 5, 6],\n",
       "       [7, 8, 9]])"
      ]
     },
     "execution_count": 21,
     "metadata": {},
     "output_type": "execute_result"
    }
   ],
   "source": [
    "two_d_array"
   ]
  },
  {
   "cell_type": "code",
   "execution_count": 22,
   "metadata": {
    "execution": {
     "iopub.execute_input": "2020-05-13T23:14:16.640157Z",
     "iopub.status.busy": "2020-05-13T23:14:16.639403Z",
     "iopub.status.idle": "2020-05-13T23:14:16.642456Z",
     "shell.execute_reply": "2020-05-13T23:14:16.642937Z"
    }
   },
   "outputs": [
    {
     "data": {
      "text/plain": [
       "1"
      ]
     },
     "execution_count": 22,
     "metadata": {},
     "output_type": "execute_result"
    }
   ],
   "source": [
    "two_d_array[0, 0]"
   ]
  },
  {
   "cell_type": "code",
   "execution_count": 23,
   "metadata": {
    "execution": {
     "iopub.execute_input": "2020-05-13T23:14:16.647257Z",
     "iopub.status.busy": "2020-05-13T23:14:16.646594Z",
     "iopub.status.idle": "2020-05-13T23:14:16.649581Z",
     "shell.execute_reply": "2020-05-13T23:14:16.650030Z"
    }
   },
   "outputs": [
    {
     "data": {
      "text/plain": [
       "7"
      ]
     },
     "execution_count": 23,
     "metadata": {},
     "output_type": "execute_result"
    }
   ],
   "source": [
    "two_d_array[2, 0]"
   ]
  },
  {
   "cell_type": "code",
   "execution_count": 24,
   "metadata": {
    "execution": {
     "iopub.execute_input": "2020-05-13T23:14:16.654352Z",
     "iopub.status.busy": "2020-05-13T23:14:16.653606Z",
     "iopub.status.idle": "2020-05-13T23:14:16.657176Z",
     "shell.execute_reply": "2020-05-13T23:14:16.656625Z"
    }
   },
   "outputs": [
    {
     "data": {
      "text/plain": [
       "3"
      ]
     },
     "execution_count": 24,
     "metadata": {},
     "output_type": "execute_result"
    }
   ],
   "source": [
    "two_d_array[0, 2]"
   ]
  },
  {
   "cell_type": "code",
   "execution_count": 25,
   "metadata": {
    "execution": {
     "iopub.execute_input": "2020-05-13T23:14:16.661603Z",
     "iopub.status.busy": "2020-05-13T23:14:16.660939Z",
     "iopub.status.idle": "2020-05-13T23:14:16.664356Z",
     "shell.execute_reply": "2020-05-13T23:14:16.663808Z"
    }
   },
   "outputs": [
    {
     "data": {
      "text/plain": [
       "array([[[0, 7, 3, 3],\n",
       "        [4, 7, 4, 9],\n",
       "        [5, 6, 1, 4]],\n",
       "\n",
       "       [[4, 8, 8, 3],\n",
       "        [1, 5, 6, 1],\n",
       "        [6, 2, 7, 6]]])"
      ]
     },
     "execution_count": 25,
     "metadata": {},
     "output_type": "execute_result"
    }
   ],
   "source": [
    "three_d_array"
   ]
  },
  {
   "cell_type": "code",
   "execution_count": 26,
   "metadata": {
    "execution": {
     "iopub.execute_input": "2020-05-13T23:14:16.668739Z",
     "iopub.status.busy": "2020-05-13T23:14:16.667975Z",
     "iopub.status.idle": "2020-05-13T23:14:16.671715Z",
     "shell.execute_reply": "2020-05-13T23:14:16.671130Z"
    }
   },
   "outputs": [
    {
     "data": {
      "text/plain": [
       "0"
      ]
     },
     "execution_count": 26,
     "metadata": {},
     "output_type": "execute_result"
    }
   ],
   "source": [
    "three_d_array[0, 0, 0]"
   ]
  },
  {
   "cell_type": "markdown",
   "metadata": {},
   "source": [
    "## Array Concatenation\n",
    "\n",
    "We sometimes might also want concatenate together two Numpy arrays. For this task, we can use `np.concatenate` to get the job done. Note that we can also concatenate multi-dimensional arrays but I won't be covering this here."
   ]
  },
  {
   "cell_type": "code",
   "execution_count": 27,
   "metadata": {
    "execution": {
     "iopub.execute_input": "2020-05-13T23:14:16.677560Z",
     "iopub.status.busy": "2020-05-13T23:14:16.676816Z",
     "iopub.status.idle": "2020-05-13T23:14:16.680281Z",
     "shell.execute_reply": "2020-05-13T23:14:16.679683Z"
    }
   },
   "outputs": [
    {
     "data": {
      "text/plain": [
       "array([1, 2, 3, 4, 5, 6])"
      ]
     },
     "execution_count": 27,
     "metadata": {},
     "output_type": "execute_result"
    }
   ],
   "source": [
    "x = np.array([1, 2, 3])\n",
    "y = np.array([4, 5, 6])\n",
    "z = np.concatenate([x, y])\n",
    "z"
   ]
  }
 ],
 "metadata": {
  "kernelspec": {
   "display_name": "Python 3",
   "language": "python",
   "name": "python3"
  },
  "language_info": {
   "codemirror_mode": {
    "name": "ipython",
    "version": 3
   },
   "file_extension": ".py",
   "mimetype": "text/x-python",
   "name": "python",
   "nbconvert_exporter": "python",
   "pygments_lexer": "ipython3",
   "version": "3.6.5"
  }
 },
 "nbformat": 4,
 "nbformat_minor": 4
}