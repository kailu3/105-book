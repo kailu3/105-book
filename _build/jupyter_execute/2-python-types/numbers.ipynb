{
 "cells": [
  {
   "cell_type": "code",
   "execution_count": 1,
   "metadata": {
    "execution": {
     "iopub.execute_input": "2020-05-15T20:42:05.664550Z",
     "iopub.status.busy": "2020-05-15T20:42:05.663841Z",
     "iopub.status.idle": "2020-05-15T20:42:05.667139Z",
     "shell.execute_reply": "2020-05-15T20:42:05.666496Z"
    },
    "tags": [
     "hide-cell"
    ]
   },
   "outputs": [],
   "source": [
    "import sys"
   ]
  },
  {
   "cell_type": "markdown",
   "metadata": {},
   "source": [
    "# Numbers"
   ]
  },
  {
   "cell_type": "markdown",
   "metadata": {},
   "source": [
    "As we've seen in the `Basic Math` section, we can use numbers to perform calculations. In this section, I will explain in detail the differences between the different types of numbers: `int`, `float`, and `complex` as well as some common methods we can use with them."
   ]
  },
  {
   "cell_type": "markdown",
   "metadata": {},
   "source": [
    "## Integers"
   ]
  },
  {
   "cell_type": "markdown",
   "metadata": {},
   "source": [
    "Integers refer to `int` values in Python. They represent whole numbers (negative, zero, positive) and do not have a decimal component"
   ]
  },
  {
   "cell_type": "code",
   "execution_count": 2,
   "metadata": {
    "execution": {
     "iopub.execute_input": "2020-05-15T20:42:05.676534Z",
     "iopub.status.busy": "2020-05-15T20:42:05.675873Z",
     "iopub.status.idle": "2020-05-15T20:42:05.680405Z",
     "shell.execute_reply": "2020-05-15T20:42:05.679841Z"
    }
   },
   "outputs": [
    {
     "data": {
      "text/plain": [
       "1"
      ]
     },
     "execution_count": 2,
     "metadata": {},
     "output_type": "execute_result"
    }
   ],
   "source": [
    "1"
   ]
  },
  {
   "cell_type": "code",
   "execution_count": 3,
   "metadata": {
    "execution": {
     "iopub.execute_input": "2020-05-15T20:42:05.684498Z",
     "iopub.status.busy": "2020-05-15T20:42:05.683747Z",
     "iopub.status.idle": "2020-05-15T20:42:05.687247Z",
     "shell.execute_reply": "2020-05-15T20:42:05.686684Z"
    }
   },
   "outputs": [
    {
     "data": {
      "text/plain": [
       "0"
      ]
     },
     "execution_count": 3,
     "metadata": {},
     "output_type": "execute_result"
    }
   ],
   "source": [
    "0"
   ]
  },
  {
   "cell_type": "code",
   "execution_count": 4,
   "metadata": {
    "execution": {
     "iopub.execute_input": "2020-05-15T20:42:05.691781Z",
     "iopub.status.busy": "2020-05-15T20:42:05.691029Z",
     "iopub.status.idle": "2020-05-15T20:42:05.694587Z",
     "shell.execute_reply": "2020-05-15T20:42:05.694039Z"
    }
   },
   "outputs": [
    {
     "data": {
      "text/plain": [
       "-1"
      ]
     },
     "execution_count": 4,
     "metadata": {},
     "output_type": "execute_result"
    }
   ],
   "source": [
    "-1"
   ]
  },
  {
   "cell_type": "code",
   "execution_count": 5,
   "metadata": {
    "execution": {
     "iopub.execute_input": "2020-05-15T20:42:05.698686Z",
     "iopub.status.busy": "2020-05-15T20:42:05.698057Z",
     "iopub.status.idle": "2020-05-15T20:42:05.701588Z",
     "shell.execute_reply": "2020-05-15T20:42:05.701075Z"
    }
   },
   "outputs": [
    {
     "data": {
      "text/plain": [
       "123812093819012381290380129830192830912312312313123712983719823719237"
      ]
     },
     "execution_count": 5,
     "metadata": {},
     "output_type": "execute_result"
    }
   ],
   "source": [
    "# Python3 ints can be some pretty large values\n",
    "\n",
    "123812093819012381290380129830192830912312312313123712983719823719237"
   ]
  },
  {
   "cell_type": "markdown",
   "metadata": {},
   "source": [
    "## Floats"
   ]
  },
  {
   "cell_type": "markdown",
   "metadata": {},
   "source": [
    "Real numbers are called `float` values in Python. They can represent whole and fractional numbers but have limitations that I will discuss as you scroll down."
   ]
  },
  {
   "cell_type": "code",
   "execution_count": 6,
   "metadata": {
    "execution": {
     "iopub.execute_input": "2020-05-15T20:42:05.705582Z",
     "iopub.status.busy": "2020-05-15T20:42:05.704909Z",
     "iopub.status.idle": "2020-05-15T20:42:05.708312Z",
     "shell.execute_reply": "2020-05-15T20:42:05.707760Z"
    }
   },
   "outputs": [
    {
     "data": {
      "text/plain": [
       "3.0"
      ]
     },
     "execution_count": 6,
     "metadata": {},
     "output_type": "execute_result"
    }
   ],
   "source": [
    "3.0"
   ]
  },
  {
   "cell_type": "code",
   "execution_count": 7,
   "metadata": {
    "execution": {
     "iopub.execute_input": "2020-05-15T20:42:05.712238Z",
     "iopub.status.busy": "2020-05-15T20:42:05.711594Z",
     "iopub.status.idle": "2020-05-15T20:42:05.715148Z",
     "shell.execute_reply": "2020-05-15T20:42:05.714581Z"
    }
   },
   "outputs": [
    {
     "data": {
      "text/plain": [
       "3.76"
      ]
     },
     "execution_count": 7,
     "metadata": {},
     "output_type": "execute_result"
    }
   ],
   "source": [
    "3.76"
   ]
  },
  {
   "cell_type": "markdown",
   "metadata": {},
   "source": [
    "When an operation (e.g. addition) is performed on a `float` and a `int` value, the result will always be a `float` value. For operations with only `int` values, you typically get an `int` value as a result but division of two `int` values will always return a `float`."
   ]
  },
  {
   "cell_type": "code",
   "execution_count": 8,
   "metadata": {
    "execution": {
     "iopub.execute_input": "2020-05-15T20:42:05.719419Z",
     "iopub.status.busy": "2020-05-15T20:42:05.718671Z",
     "iopub.status.idle": "2020-05-15T20:42:05.722235Z",
     "shell.execute_reply": "2020-05-15T20:42:05.721682Z"
    }
   },
   "outputs": [
    {
     "data": {
      "text/plain": [
       "6.0"
      ]
     },
     "execution_count": 8,
     "metadata": {},
     "output_type": "execute_result"
    }
   ],
   "source": [
    "3.0 + 3"
   ]
  },
  {
   "cell_type": "code",
   "execution_count": 9,
   "metadata": {
    "execution": {
     "iopub.execute_input": "2020-05-15T20:42:05.726196Z",
     "iopub.status.busy": "2020-05-15T20:42:05.725535Z",
     "iopub.status.idle": "2020-05-15T20:42:05.728946Z",
     "shell.execute_reply": "2020-05-15T20:42:05.728341Z"
    }
   },
   "outputs": [
    {
     "data": {
      "text/plain": [
       "1.0"
      ]
     },
     "execution_count": 9,
     "metadata": {},
     "output_type": "execute_result"
    }
   ],
   "source": [
    "3 / 3"
   ]
  },
  {
   "cell_type": "markdown",
   "metadata": {},
   "source": [
    "### Limitations for Floats"
   ]
  },
  {
   "cell_type": "markdown",
   "metadata": {},
   "source": [
    ">These limitation most likely won't affect any work done in CIS105 but I think they are good to know :)\n",
    "\n",
    "1. There is an upperbound and lowerbound to a `float`'s number. You will rarely encounter this problem however\n",
    "2. A `float` has limited precision (up to around 15 or 16 significant digits)\n",
    "3. Combining `float` values with arithmetic operations can lead to small rounding errors"
   ]
  },
  {
   "cell_type": "markdown",
   "metadata": {},
   "source": [
    "#### Limitation 1"
   ]
  },
  {
   "cell_type": "code",
   "execution_count": 10,
   "metadata": {
    "execution": {
     "iopub.execute_input": "2020-05-15T20:42:05.733150Z",
     "iopub.status.busy": "2020-05-15T20:42:05.732463Z",
     "iopub.status.idle": "2020-05-15T20:42:05.736016Z",
     "shell.execute_reply": "2020-05-15T20:42:05.735496Z"
    }
   },
   "outputs": [
    {
     "data": {
      "text/plain": [
       "1.7976931348623157e+308"
      ]
     },
     "execution_count": 10,
     "metadata": {},
     "output_type": "execute_result"
    }
   ],
   "source": [
    "# the maximum a float's value is ..\n",
    "sys.float_info.max"
   ]
  },
  {
   "cell_type": "markdown",
   "metadata": {},
   "source": [
    "> `e+308` means e^308 in mathematical terms."
   ]
  },
  {
   "cell_type": "code",
   "execution_count": 11,
   "metadata": {
    "execution": {
     "iopub.execute_input": "2020-05-15T20:42:05.739930Z",
     "iopub.status.busy": "2020-05-15T20:42:05.739270Z",
     "iopub.status.idle": "2020-05-15T20:42:05.742671Z",
     "shell.execute_reply": "2020-05-15T20:42:05.742115Z"
    }
   },
   "outputs": [
    {
     "data": {
      "text/plain": [
       "1.797e+308"
      ]
     },
     "execution_count": 11,
     "metadata": {},
     "output_type": "execute_result"
    }
   ],
   "source": [
    "1.797e+308"
   ]
  },
  {
   "cell_type": "code",
   "execution_count": 12,
   "metadata": {
    "execution": {
     "iopub.execute_input": "2020-05-15T20:42:05.746506Z",
     "iopub.status.busy": "2020-05-15T20:42:05.745878Z",
     "iopub.status.idle": "2020-05-15T20:42:05.748867Z",
     "shell.execute_reply": "2020-05-15T20:42:05.749351Z"
    }
   },
   "outputs": [
    {
     "data": {
      "text/plain": [
       "inf"
      ]
     },
     "execution_count": 12,
     "metadata": {},
     "output_type": "execute_result"
    }
   ],
   "source": [
    "1.797e+309"
   ]
  },
  {
   "cell_type": "markdown",
   "metadata": {},
   "source": [
    "If we go past this value, we will run into the value `inf` which is positive infinity. \n",
    "\n",
    "On the other hand, we could also have a very small number that is extremely close to 0. At a certain point, the number is going to be represented as `0.0`."
   ]
  },
  {
   "cell_type": "code",
   "execution_count": 13,
   "metadata": {
    "execution": {
     "iopub.execute_input": "2020-05-15T20:42:05.753306Z",
     "iopub.status.busy": "2020-05-15T20:42:05.752541Z",
     "iopub.status.idle": "2020-05-15T20:42:05.756056Z",
     "shell.execute_reply": "2020-05-15T20:42:05.755451Z"
    }
   },
   "outputs": [
    {
     "data": {
      "text/plain": [
       "5e-324"
      ]
     },
     "execution_count": 13,
     "metadata": {},
     "output_type": "execute_result"
    }
   ],
   "source": [
    "5e-324"
   ]
  },
  {
   "cell_type": "code",
   "execution_count": 14,
   "metadata": {
    "execution": {
     "iopub.execute_input": "2020-05-15T20:42:05.759953Z",
     "iopub.status.busy": "2020-05-15T20:42:05.759308Z",
     "iopub.status.idle": "2020-05-15T20:42:05.762635Z",
     "shell.execute_reply": "2020-05-15T20:42:05.762039Z"
    }
   },
   "outputs": [
    {
     "data": {
      "text/plain": [
       "0.0"
      ]
     },
     "execution_count": 14,
     "metadata": {},
     "output_type": "execute_result"
    }
   ],
   "source": [
    "5e-325"
   ]
  },
  {
   "cell_type": "markdown",
   "metadata": {},
   "source": [
    "#### Limitation 2"
   ]
  },
  {
   "cell_type": "markdown",
   "metadata": {},
   "source": [
    "If we do operations on floats with a large number of decimal places, the resulting `float` can be a tiny bit inprecise."
   ]
  },
  {
   "cell_type": "code",
   "execution_count": 15,
   "metadata": {
    "execution": {
     "iopub.execute_input": "2020-05-15T20:42:05.767378Z",
     "iopub.status.busy": "2020-05-15T20:42:05.766672Z",
     "iopub.status.idle": "2020-05-15T20:42:05.769981Z",
     "shell.execute_reply": "2020-05-15T20:42:05.769471Z"
    }
   },
   "outputs": [
    {
     "data": {
      "text/plain": [
       "0.0"
      ]
     },
     "execution_count": 15,
     "metadata": {},
     "output_type": "execute_result"
    }
   ],
   "source": [
    "0.111111111111111111111111111119 - 0.111111111111111111111111111118"
   ]
  },
  {
   "cell_type": "markdown",
   "metadata": {},
   "source": [
    "#### Limitation 3"
   ]
  },
  {
   "cell_type": "code",
   "execution_count": 16,
   "metadata": {
    "execution": {
     "iopub.execute_input": "2020-05-15T20:42:05.774093Z",
     "iopub.status.busy": "2020-05-15T20:42:05.773465Z",
     "iopub.status.idle": "2020-05-15T20:42:05.776967Z",
     "shell.execute_reply": "2020-05-15T20:42:05.776409Z"
    }
   },
   "outputs": [
    {
     "data": {
      "text/plain": [
       "2.23606797749979"
      ]
     },
     "execution_count": 16,
     "metadata": {},
     "output_type": "execute_result"
    }
   ],
   "source": [
    "# square root of 5\n",
    "5 ** 0.5"
   ]
  },
  {
   "cell_type": "code",
   "execution_count": 17,
   "metadata": {
    "execution": {
     "iopub.execute_input": "2020-05-15T20:42:05.781005Z",
     "iopub.status.busy": "2020-05-15T20:42:05.780356Z",
     "iopub.status.idle": "2020-05-15T20:42:05.783967Z",
     "shell.execute_reply": "2020-05-15T20:42:05.783438Z"
    }
   },
   "outputs": [
    {
     "data": {
      "text/plain": [
       "5.000000000000001"
      ]
     },
     "execution_count": 17,
     "metadata": {},
     "output_type": "execute_result"
    }
   ],
   "source": [
    "(5**0.5) * (5**0.5)"
   ]
  },
  {
   "cell_type": "markdown",
   "metadata": {},
   "source": [
    ">The product of two square roots of 5 should be 5 as well but it's not!"
   ]
  },
  {
   "cell_type": "markdown",
   "metadata": {},
   "source": [
    "## Complex Numbers"
   ]
  },
  {
   "cell_type": "markdown",
   "metadata": {},
   "source": [
    "Complex numbers are not used as much (in my opinion) so I won't go over them in much detail. In Python, you can make a number imaginary by putting `j` or `J` after it."
   ]
  },
  {
   "cell_type": "code",
   "execution_count": 18,
   "metadata": {
    "execution": {
     "iopub.execute_input": "2020-05-15T20:42:05.787947Z",
     "iopub.status.busy": "2020-05-15T20:42:05.787287Z",
     "iopub.status.idle": "2020-05-15T20:42:05.790675Z",
     "shell.execute_reply": "2020-05-15T20:42:05.790122Z"
    }
   },
   "outputs": [
    {
     "data": {
      "text/plain": [
       "1j"
      ]
     },
     "execution_count": 18,
     "metadata": {},
     "output_type": "execute_result"
    }
   ],
   "source": [
    "1j"
   ]
  },
  {
   "cell_type": "code",
   "execution_count": 19,
   "metadata": {
    "execution": {
     "iopub.execute_input": "2020-05-15T20:42:05.794538Z",
     "iopub.status.busy": "2020-05-15T20:42:05.793882Z",
     "iopub.status.idle": "2020-05-15T20:42:05.796700Z",
     "shell.execute_reply": "2020-05-15T20:42:05.797268Z"
    }
   },
   "outputs": [
    {
     "data": {
      "text/plain": [
       "1j"
      ]
     },
     "execution_count": 19,
     "metadata": {},
     "output_type": "execute_result"
    }
   ],
   "source": [
    "1J"
   ]
  },
  {
   "cell_type": "code",
   "execution_count": 20,
   "metadata": {
    "execution": {
     "iopub.execute_input": "2020-05-15T20:42:05.801268Z",
     "iopub.status.busy": "2020-05-15T20:42:05.800521Z",
     "iopub.status.idle": "2020-05-15T20:42:05.804069Z",
     "shell.execute_reply": "2020-05-15T20:42:05.803467Z"
    }
   },
   "outputs": [
    {
     "data": {
      "text/plain": [
       "(-6+0j)"
      ]
     },
     "execution_count": 20,
     "metadata": {},
     "output_type": "execute_result"
    }
   ],
   "source": [
    "2j * 3j"
   ]
  },
  {
   "cell_type": "markdown",
   "metadata": {},
   "source": [
    "If you ever need to deal with complex numbers, the standard module `cmath` has many functions that handle them nicely."
   ]
  },
  {
   "cell_type": "code",
   "execution_count": 21,
   "metadata": {
    "execution": {
     "iopub.execute_input": "2020-05-15T20:42:05.808990Z",
     "iopub.status.busy": "2020-05-15T20:42:05.808375Z",
     "iopub.status.idle": "2020-05-15T20:42:05.816653Z",
     "shell.execute_reply": "2020-05-15T20:42:05.816016Z"
    }
   },
   "outputs": [
    {
     "data": {
      "text/plain": [
       "((1+2j), (3+4j))"
      ]
     },
     "execution_count": 21,
     "metadata": {},
     "output_type": "execute_result"
    }
   ],
   "source": [
    "# e.g.\n",
    "import cmath\n",
    "\n",
    "x = complex(1,2)\n",
    "y = complex(3,4)\n",
    "\n",
    "x, y"
   ]
  },
  {
   "cell_type": "code",
   "execution_count": 22,
   "metadata": {
    "execution": {
     "iopub.execute_input": "2020-05-15T20:42:05.820606Z",
     "iopub.status.busy": "2020-05-15T20:42:05.819987Z",
     "iopub.status.idle": "2020-05-15T20:42:05.823657Z",
     "shell.execute_reply": "2020-05-15T20:42:05.823048Z"
    }
   },
   "outputs": [
    {
     "data": {
      "text/plain": [
       "(1.0, 2.0)"
      ]
     },
     "execution_count": 22,
     "metadata": {},
     "output_type": "execute_result"
    }
   ],
   "source": [
    "x.real, x.imag"
   ]
  },
  {
   "cell_type": "code",
   "execution_count": 23,
   "metadata": {
    "execution": {
     "iopub.execute_input": "2020-05-15T20:42:05.827816Z",
     "iopub.status.busy": "2020-05-15T20:42:05.827184Z",
     "iopub.status.idle": "2020-05-15T20:42:05.830711Z",
     "shell.execute_reply": "2020-05-15T20:42:05.830099Z"
    }
   },
   "outputs": [
    {
     "data": {
      "text/plain": [
       "(3.0, 4.0)"
      ]
     },
     "execution_count": 23,
     "metadata": {},
     "output_type": "execute_result"
    }
   ],
   "source": [
    "y.real, y.imag"
   ]
  },
  {
   "cell_type": "markdown",
   "metadata": {},
   "source": [
    "## Numerical Methods"
   ]
  },
  {
   "cell_type": "markdown",
   "metadata": {},
   "source": [
    "There are some basic numerical methods/functions that are built into Python without any imports. Here are some examples:"
   ]
  },
  {
   "cell_type": "code",
   "execution_count": 24,
   "metadata": {
    "execution": {
     "iopub.execute_input": "2020-05-15T20:42:05.834856Z",
     "iopub.status.busy": "2020-05-15T20:42:05.834220Z",
     "iopub.status.idle": "2020-05-15T20:42:05.837261Z",
     "shell.execute_reply": "2020-05-15T20:42:05.837745Z"
    }
   },
   "outputs": [
    {
     "data": {
      "text/plain": [
       "3"
      ]
     },
     "execution_count": 24,
     "metadata": {},
     "output_type": "execute_result"
    }
   ],
   "source": [
    "# minimum value\n",
    "min(3, 3.14, 3.1415, 3.141596)"
   ]
  },
  {
   "cell_type": "code",
   "execution_count": 25,
   "metadata": {
    "execution": {
     "iopub.execute_input": "2020-05-15T20:42:05.841980Z",
     "iopub.status.busy": "2020-05-15T20:42:05.841211Z",
     "iopub.status.idle": "2020-05-15T20:42:05.844716Z",
     "shell.execute_reply": "2020-05-15T20:42:05.844209Z"
    }
   },
   "outputs": [
    {
     "data": {
      "text/plain": [
       "3.141596"
      ]
     },
     "execution_count": 25,
     "metadata": {},
     "output_type": "execute_result"
    }
   ],
   "source": [
    "# maximum value\n",
    "max(3, 3.14, 3.1415, 3.141596)"
   ]
  },
  {
   "cell_type": "code",
   "execution_count": 26,
   "metadata": {
    "execution": {
     "iopub.execute_input": "2020-05-15T20:42:05.848782Z",
     "iopub.status.busy": "2020-05-15T20:42:05.848120Z",
     "iopub.status.idle": "2020-05-15T20:42:05.851787Z",
     "shell.execute_reply": "2020-05-15T20:42:05.851162Z"
    }
   },
   "outputs": [
    {
     "data": {
      "text/plain": [
       "2"
      ]
     },
     "execution_count": 26,
     "metadata": {},
     "output_type": "execute_result"
    }
   ],
   "source": [
    "# absolute value\n",
    "abs(-2)"
   ]
  },
  {
   "cell_type": "code",
   "execution_count": 27,
   "metadata": {
    "execution": {
     "iopub.execute_input": "2020-05-15T20:42:05.856270Z",
     "iopub.status.busy": "2020-05-15T20:42:05.855502Z",
     "iopub.status.idle": "2020-05-15T20:42:05.859008Z",
     "shell.execute_reply": "2020-05-15T20:42:05.858418Z"
    }
   },
   "outputs": [
    {
     "data": {
      "text/plain": [
       "(4, 3)"
      ]
     },
     "execution_count": 27,
     "metadata": {},
     "output_type": "execute_result"
    }
   ],
   "source": [
    "# round\n",
    "round(3.5), round(3.49)"
   ]
  },
  {
   "cell_type": "markdown",
   "metadata": {},
   "source": [
    "There are also many methods/functions the `math` library that help you do mathematical calculations. Here are some more examples:"
   ]
  },
  {
   "cell_type": "code",
   "execution_count": 28,
   "metadata": {
    "execution": {
     "iopub.execute_input": "2020-05-15T20:42:05.862666Z",
     "iopub.status.busy": "2020-05-15T20:42:05.862066Z",
     "iopub.status.idle": "2020-05-15T20:42:05.864776Z",
     "shell.execute_reply": "2020-05-15T20:42:05.864270Z"
    }
   },
   "outputs": [],
   "source": [
    "import math"
   ]
  },
  {
   "cell_type": "code",
   "execution_count": 29,
   "metadata": {
    "execution": {
     "iopub.execute_input": "2020-05-15T20:42:05.870043Z",
     "iopub.status.busy": "2020-05-15T20:42:05.868826Z",
     "iopub.status.idle": "2020-05-15T20:42:05.872938Z",
     "shell.execute_reply": "2020-05-15T20:42:05.873730Z"
    }
   },
   "outputs": [
    {
     "data": {
      "text/plain": [
       "2"
      ]
     },
     "execution_count": 29,
     "metadata": {},
     "output_type": "execute_result"
    }
   ],
   "source": [
    "# ceil (smallest integer greater than x)\n",
    "math.ceil(1.2)"
   ]
  },
  {
   "cell_type": "code",
   "execution_count": 30,
   "metadata": {
    "execution": {
     "iopub.execute_input": "2020-05-15T20:42:05.878919Z",
     "iopub.status.busy": "2020-05-15T20:42:05.878033Z",
     "iopub.status.idle": "2020-05-15T20:42:05.881524Z",
     "shell.execute_reply": "2020-05-15T20:42:05.882018Z"
    }
   },
   "outputs": [
    {
     "data": {
      "text/plain": [
       "2"
      ]
     },
     "execution_count": 30,
     "metadata": {},
     "output_type": "execute_result"
    }
   ],
   "source": [
    "# floor (biggest integer smaller than x)\n",
    "math.ceil(1.2)"
   ]
  },
  {
   "cell_type": "code",
   "execution_count": 31,
   "metadata": {
    "execution": {
     "iopub.execute_input": "2020-05-15T20:42:05.886565Z",
     "iopub.status.busy": "2020-05-15T20:42:05.885877Z",
     "iopub.status.idle": "2020-05-15T20:42:05.889871Z",
     "shell.execute_reply": "2020-05-15T20:42:05.889250Z"
    }
   },
   "outputs": [
    {
     "data": {
      "text/plain": [
       "1.0"
      ]
     },
     "execution_count": 31,
     "metadata": {},
     "output_type": "execute_result"
    }
   ],
   "source": [
    "# natural log & e\n",
    "math.log(math.e)"
   ]
  },
  {
   "cell_type": "code",
   "execution_count": 32,
   "metadata": {
    "execution": {
     "iopub.execute_input": "2020-05-15T20:42:05.894705Z",
     "iopub.status.busy": "2020-05-15T20:42:05.893831Z",
     "iopub.status.idle": "2020-05-15T20:42:05.897768Z",
     "shell.execute_reply": "2020-05-15T20:42:05.897243Z"
    }
   },
   "outputs": [
    {
     "data": {
      "text/plain": [
       "1.0"
      ]
     },
     "execution_count": 32,
     "metadata": {},
     "output_type": "execute_result"
    }
   ],
   "source": [
    "# log base 10\n",
    "math.log10(10)"
   ]
  },
  {
   "cell_type": "code",
   "execution_count": 33,
   "metadata": {
    "execution": {
     "iopub.execute_input": "2020-05-15T20:42:05.902867Z",
     "iopub.status.busy": "2020-05-15T20:42:05.902001Z",
     "iopub.status.idle": "2020-05-15T20:42:05.906176Z",
     "shell.execute_reply": "2020-05-15T20:42:05.905638Z"
    }
   },
   "outputs": [
    {
     "data": {
      "text/plain": [
       "7.38905609893065"
      ]
     },
     "execution_count": 33,
     "metadata": {},
     "output_type": "execute_result"
    }
   ],
   "source": [
    "# exponential e^x\n",
    "math.exp(2)"
   ]
  },
  {
   "cell_type": "code",
   "execution_count": 34,
   "metadata": {
    "execution": {
     "iopub.execute_input": "2020-05-15T20:42:05.910885Z",
     "iopub.status.busy": "2020-05-15T20:42:05.910071Z",
     "iopub.status.idle": "2020-05-15T20:42:05.914197Z",
     "shell.execute_reply": "2020-05-15T20:42:05.913673Z"
    }
   },
   "outputs": [
    {
     "data": {
      "text/plain": [
       "2.0"
      ]
     },
     "execution_count": 34,
     "metadata": {},
     "output_type": "execute_result"
    }
   ],
   "source": [
    "# square root\n",
    "math.sqrt(4)"
   ]
  },
  {
   "cell_type": "markdown",
   "metadata": {},
   "source": [
    "For more useful functions in the `math` library, you can check them out [here](https://www.programiz.com/python-programming/modules/math)!"
   ]
  }
 ],
 "metadata": {
  "kernelspec": {
   "display_name": "Python 3",
   "language": "python",
   "name": "python3"
  },
  "language_info": {
   "codemirror_mode": {
    "name": "ipython",
    "version": 3
   },
   "file_extension": ".py",
   "mimetype": "text/x-python",
   "name": "python",
   "nbconvert_exporter": "python",
   "pygments_lexer": "ipython3",
   "version": "3.6.5"
  }
 },
 "nbformat": 4,
 "nbformat_minor": 4
}