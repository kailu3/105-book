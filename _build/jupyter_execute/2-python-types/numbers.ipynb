{
 "cells": [
  {
   "cell_type": "code",
   "execution_count": 1,
   "metadata": {
    "execution": {
     "iopub.execute_input": "2020-05-15T01:10:51.027430Z",
     "iopub.status.busy": "2020-05-15T01:10:51.026710Z",
     "iopub.status.idle": "2020-05-15T01:10:51.030006Z",
     "shell.execute_reply": "2020-05-15T01:10:51.029270Z"
    },
    "tags": [
     "hide-cell"
    ]
   },
   "outputs": [],
   "source": [
    "import sys"
   ]
  },
  {
   "cell_type": "markdown",
   "metadata": {},
   "source": [
    "# Numbers"
   ]
  },
  {
   "cell_type": "markdown",
   "metadata": {},
   "source": [
    "As we've seen in the `Basic Math` section, we can use numbers to perform calculations. In this section, I will explain in detail the differences between the different types of numbers: `int`, `float`, and `complex` as well as some common methods we can use with them."
   ]
  },
  {
   "cell_type": "markdown",
   "metadata": {},
   "source": [
    "## Integers"
   ]
  },
  {
   "cell_type": "markdown",
   "metadata": {},
   "source": [
    "Integers refer to `int` values in Python. They represent whole numbers (negative, zero, positive) and do not have a decimal component"
   ]
  },
  {
   "cell_type": "code",
   "execution_count": 2,
   "metadata": {
    "execution": {
     "iopub.execute_input": "2020-05-15T01:10:51.039832Z",
     "iopub.status.busy": "2020-05-15T01:10:51.038077Z",
     "iopub.status.idle": "2020-05-15T01:10:51.043458Z",
     "shell.execute_reply": "2020-05-15T01:10:51.042869Z"
    }
   },
   "outputs": [
    {
     "data": {
      "text/plain": [
       "1"
      ]
     },
     "execution_count": 2,
     "metadata": {},
     "output_type": "execute_result"
    }
   ],
   "source": [
    "1"
   ]
  },
  {
   "cell_type": "code",
   "execution_count": 3,
   "metadata": {
    "execution": {
     "iopub.execute_input": "2020-05-15T01:10:51.047527Z",
     "iopub.status.busy": "2020-05-15T01:10:51.046774Z",
     "iopub.status.idle": "2020-05-15T01:10:51.050578Z",
     "shell.execute_reply": "2020-05-15T01:10:51.050065Z"
    }
   },
   "outputs": [
    {
     "data": {
      "text/plain": [
       "0"
      ]
     },
     "execution_count": 3,
     "metadata": {},
     "output_type": "execute_result"
    }
   ],
   "source": [
    "0"
   ]
  },
  {
   "cell_type": "code",
   "execution_count": 4,
   "metadata": {
    "execution": {
     "iopub.execute_input": "2020-05-15T01:10:51.054633Z",
     "iopub.status.busy": "2020-05-15T01:10:51.053957Z",
     "iopub.status.idle": "2020-05-15T01:10:51.057436Z",
     "shell.execute_reply": "2020-05-15T01:10:51.056861Z"
    }
   },
   "outputs": [
    {
     "data": {
      "text/plain": [
       "-1"
      ]
     },
     "execution_count": 4,
     "metadata": {},
     "output_type": "execute_result"
    }
   ],
   "source": [
    "-1"
   ]
  },
  {
   "cell_type": "code",
   "execution_count": 5,
   "metadata": {
    "execution": {
     "iopub.execute_input": "2020-05-15T01:10:51.061711Z",
     "iopub.status.busy": "2020-05-15T01:10:51.060958Z",
     "iopub.status.idle": "2020-05-15T01:10:51.064430Z",
     "shell.execute_reply": "2020-05-15T01:10:51.063909Z"
    }
   },
   "outputs": [
    {
     "data": {
      "text/plain": [
       "123812093819012381290380129830192830912312312313123712983719823719237"
      ]
     },
     "execution_count": 5,
     "metadata": {},
     "output_type": "execute_result"
    }
   ],
   "source": [
    "# Python3 ints can be some pretty large values\n",
    "\n",
    "123812093819012381290380129830192830912312312313123712983719823719237"
   ]
  },
  {
   "cell_type": "markdown",
   "metadata": {},
   "source": [
    "## Floats"
   ]
  },
  {
   "cell_type": "markdown",
   "metadata": {},
   "source": [
    "Real numbers are called `float` values in Python. They can represent whole and fractional numbers but have limitations that I will discuss as you scroll down."
   ]
  },
  {
   "cell_type": "code",
   "execution_count": 6,
   "metadata": {
    "execution": {
     "iopub.execute_input": "2020-05-15T01:10:51.068690Z",
     "iopub.status.busy": "2020-05-15T01:10:51.068009Z",
     "iopub.status.idle": "2020-05-15T01:10:51.071497Z",
     "shell.execute_reply": "2020-05-15T01:10:51.070931Z"
    }
   },
   "outputs": [
    {
     "data": {
      "text/plain": [
       "3.0"
      ]
     },
     "execution_count": 6,
     "metadata": {},
     "output_type": "execute_result"
    }
   ],
   "source": [
    "3.0"
   ]
  },
  {
   "cell_type": "code",
   "execution_count": 7,
   "metadata": {
    "execution": {
     "iopub.execute_input": "2020-05-15T01:10:51.075526Z",
     "iopub.status.busy": "2020-05-15T01:10:51.074847Z",
     "iopub.status.idle": "2020-05-15T01:10:51.078325Z",
     "shell.execute_reply": "2020-05-15T01:10:51.077770Z"
    }
   },
   "outputs": [
    {
     "data": {
      "text/plain": [
       "3.76"
      ]
     },
     "execution_count": 7,
     "metadata": {},
     "output_type": "execute_result"
    }
   ],
   "source": [
    "3.76"
   ]
  },
  {
   "cell_type": "markdown",
   "metadata": {},
   "source": [
    "When an operation (e.g. addition) is performed on a `float` and a `int` value, the result will always be a `float` value. For operations with only `int` values, you typically get an `int` value as a result but division of two `int` values will always return a `float`."
   ]
  },
  {
   "cell_type": "code",
   "execution_count": 8,
   "metadata": {
    "execution": {
     "iopub.execute_input": "2020-05-15T01:10:51.082483Z",
     "iopub.status.busy": "2020-05-15T01:10:51.081747Z",
     "iopub.status.idle": "2020-05-15T01:10:51.085305Z",
     "shell.execute_reply": "2020-05-15T01:10:51.084737Z"
    }
   },
   "outputs": [
    {
     "data": {
      "text/plain": [
       "6.0"
      ]
     },
     "execution_count": 8,
     "metadata": {},
     "output_type": "execute_result"
    }
   ],
   "source": [
    "3.0 + 3"
   ]
  },
  {
   "cell_type": "code",
   "execution_count": 9,
   "metadata": {
    "execution": {
     "iopub.execute_input": "2020-05-15T01:10:51.089328Z",
     "iopub.status.busy": "2020-05-15T01:10:51.088657Z",
     "iopub.status.idle": "2020-05-15T01:10:51.092112Z",
     "shell.execute_reply": "2020-05-15T01:10:51.091610Z"
    }
   },
   "outputs": [
    {
     "data": {
      "text/plain": [
       "1.0"
      ]
     },
     "execution_count": 9,
     "metadata": {},
     "output_type": "execute_result"
    }
   ],
   "source": [
    "3 / 3"
   ]
  },
  {
   "cell_type": "markdown",
   "metadata": {},
   "source": [
    "### Limitations for Floats"
   ]
  },
  {
   "cell_type": "markdown",
   "metadata": {},
   "source": [
    ">These limitation most likely won't affect any work done in CIS105 but I think they are good to know :)\n",
    "\n",
    "1. There is an upperbound and lowerbound to a `float`'s number. You will rarely encounter this problem however\n",
    "2. A `float` has limited precision (up to around 15 or 16 significant digits)\n",
    "3. Combining `float` values with arithmetic operations can lead to small rounding errors"
   ]
  },
  {
   "cell_type": "markdown",
   "metadata": {},
   "source": [
    "#### Limitation 1"
   ]
  },
  {
   "cell_type": "code",
   "execution_count": 10,
   "metadata": {
    "execution": {
     "iopub.execute_input": "2020-05-15T01:10:51.096571Z",
     "iopub.status.busy": "2020-05-15T01:10:51.095923Z",
     "iopub.status.idle": "2020-05-15T01:10:51.099240Z",
     "shell.execute_reply": "2020-05-15T01:10:51.098728Z"
    }
   },
   "outputs": [
    {
     "data": {
      "text/plain": [
       "1.7976931348623157e+308"
      ]
     },
     "execution_count": 10,
     "metadata": {},
     "output_type": "execute_result"
    }
   ],
   "source": [
    "# the maximum a float's value is ..\n",
    "sys.float_info.max"
   ]
  },
  {
   "cell_type": "markdown",
   "metadata": {},
   "source": [
    "> `e+308` means e^308 in mathematical terms."
   ]
  },
  {
   "cell_type": "code",
   "execution_count": 11,
   "metadata": {
    "execution": {
     "iopub.execute_input": "2020-05-15T01:10:51.103204Z",
     "iopub.status.busy": "2020-05-15T01:10:51.102525Z",
     "iopub.status.idle": "2020-05-15T01:10:51.106016Z",
     "shell.execute_reply": "2020-05-15T01:10:51.105484Z"
    }
   },
   "outputs": [
    {
     "data": {
      "text/plain": [
       "1.797e+308"
      ]
     },
     "execution_count": 11,
     "metadata": {},
     "output_type": "execute_result"
    }
   ],
   "source": [
    "1.797e+308"
   ]
  },
  {
   "cell_type": "code",
   "execution_count": 12,
   "metadata": {
    "execution": {
     "iopub.execute_input": "2020-05-15T01:10:51.110162Z",
     "iopub.status.busy": "2020-05-15T01:10:51.109410Z",
     "iopub.status.idle": "2020-05-15T01:10:51.113079Z",
     "shell.execute_reply": "2020-05-15T01:10:51.112597Z"
    }
   },
   "outputs": [
    {
     "data": {
      "text/plain": [
       "inf"
      ]
     },
     "execution_count": 12,
     "metadata": {},
     "output_type": "execute_result"
    }
   ],
   "source": [
    "1.797e+309"
   ]
  },
  {
   "cell_type": "markdown",
   "metadata": {},
   "source": [
    "If we go past this value, we will run into the value `inf` which is positive infinity. \n",
    "\n",
    "On the other hand, we could also have a very small number that is extremely close to 0. At a certain point, the number is going to be represented as `0.0`."
   ]
  },
  {
   "cell_type": "code",
   "execution_count": 13,
   "metadata": {
    "execution": {
     "iopub.execute_input": "2020-05-15T01:10:51.117373Z",
     "iopub.status.busy": "2020-05-15T01:10:51.116574Z",
     "iopub.status.idle": "2020-05-15T01:10:51.120224Z",
     "shell.execute_reply": "2020-05-15T01:10:51.119712Z"
    }
   },
   "outputs": [
    {
     "data": {
      "text/plain": [
       "5e-324"
      ]
     },
     "execution_count": 13,
     "metadata": {},
     "output_type": "execute_result"
    }
   ],
   "source": [
    "5e-324"
   ]
  },
  {
   "cell_type": "code",
   "execution_count": 14,
   "metadata": {
    "execution": {
     "iopub.execute_input": "2020-05-15T01:10:51.124177Z",
     "iopub.status.busy": "2020-05-15T01:10:51.123514Z",
     "iopub.status.idle": "2020-05-15T01:10:51.127028Z",
     "shell.execute_reply": "2020-05-15T01:10:51.126456Z"
    }
   },
   "outputs": [
    {
     "data": {
      "text/plain": [
       "0.0"
      ]
     },
     "execution_count": 14,
     "metadata": {},
     "output_type": "execute_result"
    }
   ],
   "source": [
    "5e-325"
   ]
  },
  {
   "cell_type": "markdown",
   "metadata": {},
   "source": [
    "#### Limitation 2"
   ]
  },
  {
   "cell_type": "markdown",
   "metadata": {},
   "source": [
    "If we do operations on floats with a large number of decimal places, the resulting `float` can be a tiny bit inprecise."
   ]
  },
  {
   "cell_type": "code",
   "execution_count": 15,
   "metadata": {
    "execution": {
     "iopub.execute_input": "2020-05-15T01:10:51.131300Z",
     "iopub.status.busy": "2020-05-15T01:10:51.130582Z",
     "iopub.status.idle": "2020-05-15T01:10:51.134106Z",
     "shell.execute_reply": "2020-05-15T01:10:51.133524Z"
    }
   },
   "outputs": [
    {
     "data": {
      "text/plain": [
       "0.0"
      ]
     },
     "execution_count": 15,
     "metadata": {},
     "output_type": "execute_result"
    }
   ],
   "source": [
    "0.111111111111111111111111111119 - 0.111111111111111111111111111118"
   ]
  },
  {
   "cell_type": "markdown",
   "metadata": {},
   "source": [
    "#### Limitation 3"
   ]
  },
  {
   "cell_type": "code",
   "execution_count": 16,
   "metadata": {
    "execution": {
     "iopub.execute_input": "2020-05-15T01:10:51.138157Z",
     "iopub.status.busy": "2020-05-15T01:10:51.137421Z",
     "iopub.status.idle": "2020-05-15T01:10:51.141100Z",
     "shell.execute_reply": "2020-05-15T01:10:51.140572Z"
    }
   },
   "outputs": [
    {
     "data": {
      "text/plain": [
       "2.23606797749979"
      ]
     },
     "execution_count": 16,
     "metadata": {},
     "output_type": "execute_result"
    }
   ],
   "source": [
    "# square root of 5\n",
    "5 ** 0.5"
   ]
  },
  {
   "cell_type": "code",
   "execution_count": 17,
   "metadata": {
    "execution": {
     "iopub.execute_input": "2020-05-15T01:10:51.145339Z",
     "iopub.status.busy": "2020-05-15T01:10:51.144689Z",
     "iopub.status.idle": "2020-05-15T01:10:51.147567Z",
     "shell.execute_reply": "2020-05-15T01:10:51.148106Z"
    }
   },
   "outputs": [
    {
     "data": {
      "text/plain": [
       "5.000000000000001"
      ]
     },
     "execution_count": 17,
     "metadata": {},
     "output_type": "execute_result"
    }
   ],
   "source": [
    "(5**0.5) * (5**0.5)"
   ]
  },
  {
   "cell_type": "markdown",
   "metadata": {},
   "source": [
    ">The product of two square roots of 5 should be 5 as well but it's not!"
   ]
  },
  {
   "cell_type": "markdown",
   "metadata": {},
   "source": [
    "## Complex Numbers"
   ]
  },
  {
   "cell_type": "markdown",
   "metadata": {},
   "source": [
    "Complex numbers are not used as much (in my opinion) so I won't go over them in much detail. In Python, you can make a number imaginary by putting `j` or `J` after it."
   ]
  },
  {
   "cell_type": "code",
   "execution_count": 18,
   "metadata": {
    "execution": {
     "iopub.execute_input": "2020-05-15T01:10:51.152041Z",
     "iopub.status.busy": "2020-05-15T01:10:51.151385Z",
     "iopub.status.idle": "2020-05-15T01:10:51.154738Z",
     "shell.execute_reply": "2020-05-15T01:10:51.154139Z"
    }
   },
   "outputs": [
    {
     "data": {
      "text/plain": [
       "1j"
      ]
     },
     "execution_count": 18,
     "metadata": {},
     "output_type": "execute_result"
    }
   ],
   "source": [
    "1j"
   ]
  },
  {
   "cell_type": "code",
   "execution_count": 19,
   "metadata": {
    "execution": {
     "iopub.execute_input": "2020-05-15T01:10:51.158593Z",
     "iopub.status.busy": "2020-05-15T01:10:51.157948Z",
     "iopub.status.idle": "2020-05-15T01:10:51.161460Z",
     "shell.execute_reply": "2020-05-15T01:10:51.160897Z"
    }
   },
   "outputs": [
    {
     "data": {
      "text/plain": [
       "1j"
      ]
     },
     "execution_count": 19,
     "metadata": {},
     "output_type": "execute_result"
    }
   ],
   "source": [
    "1J"
   ]
  },
  {
   "cell_type": "code",
   "execution_count": 20,
   "metadata": {
    "execution": {
     "iopub.execute_input": "2020-05-15T01:10:51.165472Z",
     "iopub.status.busy": "2020-05-15T01:10:51.164737Z",
     "iopub.status.idle": "2020-05-15T01:10:51.167654Z",
     "shell.execute_reply": "2020-05-15T01:10:51.168168Z"
    }
   },
   "outputs": [
    {
     "data": {
      "text/plain": [
       "(-6+0j)"
      ]
     },
     "execution_count": 20,
     "metadata": {},
     "output_type": "execute_result"
    }
   ],
   "source": [
    "2j * 3j"
   ]
  },
  {
   "cell_type": "markdown",
   "metadata": {},
   "source": [
    "If you ever need to deal with complex numbers, the standard module `cmath` has many functions that handle them nicely."
   ]
  },
  {
   "cell_type": "code",
   "execution_count": 21,
   "metadata": {
    "execution": {
     "iopub.execute_input": "2020-05-15T01:10:51.173198Z",
     "iopub.status.busy": "2020-05-15T01:10:51.172576Z",
     "iopub.status.idle": "2020-05-15T01:10:51.180949Z",
     "shell.execute_reply": "2020-05-15T01:10:51.180337Z"
    }
   },
   "outputs": [
    {
     "data": {
      "text/plain": [
       "((1+2j), (3+4j))"
      ]
     },
     "execution_count": 21,
     "metadata": {},
     "output_type": "execute_result"
    }
   ],
   "source": [
    "# e.g.\n",
    "import cmath\n",
    "\n",
    "x = complex(1,2)\n",
    "y = complex(3,4)\n",
    "\n",
    "x, y"
   ]
  },
  {
   "cell_type": "code",
   "execution_count": 22,
   "metadata": {
    "execution": {
     "iopub.execute_input": "2020-05-15T01:10:51.184896Z",
     "iopub.status.busy": "2020-05-15T01:10:51.184239Z",
     "iopub.status.idle": "2020-05-15T01:10:51.187215Z",
     "shell.execute_reply": "2020-05-15T01:10:51.187695Z"
    }
   },
   "outputs": [
    {
     "data": {
      "text/plain": [
       "(1.0, 2.0)"
      ]
     },
     "execution_count": 22,
     "metadata": {},
     "output_type": "execute_result"
    }
   ],
   "source": [
    "x.real, x.imag"
   ]
  },
  {
   "cell_type": "code",
   "execution_count": 23,
   "metadata": {
    "execution": {
     "iopub.execute_input": "2020-05-15T01:10:51.191749Z",
     "iopub.status.busy": "2020-05-15T01:10:51.191092Z",
     "iopub.status.idle": "2020-05-15T01:10:51.194630Z",
     "shell.execute_reply": "2020-05-15T01:10:51.194012Z"
    }
   },
   "outputs": [
    {
     "data": {
      "text/plain": [
       "(3.0, 4.0)"
      ]
     },
     "execution_count": 23,
     "metadata": {},
     "output_type": "execute_result"
    }
   ],
   "source": [
    "y.real, y.imag"
   ]
  },
  {
   "cell_type": "markdown",
   "metadata": {},
   "source": [
    "## Numerical Methods"
   ]
  },
  {
   "cell_type": "markdown",
   "metadata": {},
   "source": [
    "There are some basic numerical methods/functions that are built into Python without any imports. Here are some examples:"
   ]
  },
  {
   "cell_type": "code",
   "execution_count": 24,
   "metadata": {
    "execution": {
     "iopub.execute_input": "2020-05-15T01:10:51.198976Z",
     "iopub.status.busy": "2020-05-15T01:10:51.198142Z",
     "iopub.status.idle": "2020-05-15T01:10:51.201308Z",
     "shell.execute_reply": "2020-05-15T01:10:51.201789Z"
    }
   },
   "outputs": [
    {
     "data": {
      "text/plain": [
       "3"
      ]
     },
     "execution_count": 24,
     "metadata": {},
     "output_type": "execute_result"
    }
   ],
   "source": [
    "# minimum value\n",
    "min(3, 3.14, 3.1415, 3.141596)"
   ]
  },
  {
   "cell_type": "code",
   "execution_count": 25,
   "metadata": {
    "execution": {
     "iopub.execute_input": "2020-05-15T01:10:51.205867Z",
     "iopub.status.busy": "2020-05-15T01:10:51.205207Z",
     "iopub.status.idle": "2020-05-15T01:10:51.208597Z",
     "shell.execute_reply": "2020-05-15T01:10:51.208000Z"
    }
   },
   "outputs": [
    {
     "data": {
      "text/plain": [
       "3.141596"
      ]
     },
     "execution_count": 25,
     "metadata": {},
     "output_type": "execute_result"
    }
   ],
   "source": [
    "# maximum value\n",
    "max(3, 3.14, 3.1415, 3.141596)"
   ]
  },
  {
   "cell_type": "code",
   "execution_count": 26,
   "metadata": {
    "execution": {
     "iopub.execute_input": "2020-05-15T01:10:51.212586Z",
     "iopub.status.busy": "2020-05-15T01:10:51.211941Z",
     "iopub.status.idle": "2020-05-15T01:10:51.215431Z",
     "shell.execute_reply": "2020-05-15T01:10:51.214819Z"
    }
   },
   "outputs": [
    {
     "data": {
      "text/plain": [
       "2"
      ]
     },
     "execution_count": 26,
     "metadata": {},
     "output_type": "execute_result"
    }
   ],
   "source": [
    "# absolute value\n",
    "abs(-2)"
   ]
  },
  {
   "cell_type": "code",
   "execution_count": 27,
   "metadata": {
    "execution": {
     "iopub.execute_input": "2020-05-15T01:10:51.219887Z",
     "iopub.status.busy": "2020-05-15T01:10:51.219107Z",
     "iopub.status.idle": "2020-05-15T01:10:51.222522Z",
     "shell.execute_reply": "2020-05-15T01:10:51.221913Z"
    }
   },
   "outputs": [
    {
     "data": {
      "text/plain": [
       "(4, 3)"
      ]
     },
     "execution_count": 27,
     "metadata": {},
     "output_type": "execute_result"
    }
   ],
   "source": [
    "# round\n",
    "round(3.5), round(3.49)"
   ]
  },
  {
   "cell_type": "markdown",
   "metadata": {},
   "source": [
    "There are also many methods/functions the `math` library that help you do mathematical calculations. Here are some more examples:"
   ]
  },
  {
   "cell_type": "code",
   "execution_count": 28,
   "metadata": {
    "execution": {
     "iopub.execute_input": "2020-05-15T01:10:51.225962Z",
     "iopub.status.busy": "2020-05-15T01:10:51.225374Z",
     "iopub.status.idle": "2020-05-15T01:10:51.227602Z",
     "shell.execute_reply": "2020-05-15T01:10:51.228120Z"
    }
   },
   "outputs": [],
   "source": [
    "import math"
   ]
  },
  {
   "cell_type": "code",
   "execution_count": 29,
   "metadata": {
    "execution": {
     "iopub.execute_input": "2020-05-15T01:10:51.232396Z",
     "iopub.status.busy": "2020-05-15T01:10:51.231654Z",
     "iopub.status.idle": "2020-05-15T01:10:51.235151Z",
     "shell.execute_reply": "2020-05-15T01:10:51.234550Z"
    }
   },
   "outputs": [
    {
     "data": {
      "text/plain": [
       "2"
      ]
     },
     "execution_count": 29,
     "metadata": {},
     "output_type": "execute_result"
    }
   ],
   "source": [
    "# ceil (smallest integer greater than x)\n",
    "math.ceil(1.2)"
   ]
  },
  {
   "cell_type": "code",
   "execution_count": 30,
   "metadata": {
    "execution": {
     "iopub.execute_input": "2020-05-15T01:10:51.239317Z",
     "iopub.status.busy": "2020-05-15T01:10:51.238603Z",
     "iopub.status.idle": "2020-05-15T01:10:51.242055Z",
     "shell.execute_reply": "2020-05-15T01:10:51.241448Z"
    }
   },
   "outputs": [
    {
     "data": {
      "text/plain": [
       "2"
      ]
     },
     "execution_count": 30,
     "metadata": {},
     "output_type": "execute_result"
    }
   ],
   "source": [
    "# floor (biggest integer smaller than x)\n",
    "math.ceil(1.2)"
   ]
  },
  {
   "cell_type": "code",
   "execution_count": 31,
   "metadata": {
    "execution": {
     "iopub.execute_input": "2020-05-15T01:10:51.246191Z",
     "iopub.status.busy": "2020-05-15T01:10:51.245535Z",
     "iopub.status.idle": "2020-05-15T01:10:51.249014Z",
     "shell.execute_reply": "2020-05-15T01:10:51.248411Z"
    }
   },
   "outputs": [
    {
     "data": {
      "text/plain": [
       "1.0"
      ]
     },
     "execution_count": 31,
     "metadata": {},
     "output_type": "execute_result"
    }
   ],
   "source": [
    "# natural log & e\n",
    "math.log(math.e)"
   ]
  },
  {
   "cell_type": "code",
   "execution_count": 32,
   "metadata": {
    "execution": {
     "iopub.execute_input": "2020-05-15T01:10:51.253452Z",
     "iopub.status.busy": "2020-05-15T01:10:51.252669Z",
     "iopub.status.idle": "2020-05-15T01:10:51.256015Z",
     "shell.execute_reply": "2020-05-15T01:10:51.255506Z"
    }
   },
   "outputs": [
    {
     "data": {
      "text/plain": [
       "1.0"
      ]
     },
     "execution_count": 32,
     "metadata": {},
     "output_type": "execute_result"
    }
   ],
   "source": [
    "# log base 10\n",
    "math.log10(10)"
   ]
  },
  {
   "cell_type": "code",
   "execution_count": 33,
   "metadata": {
    "execution": {
     "iopub.execute_input": "2020-05-15T01:10:51.260322Z",
     "iopub.status.busy": "2020-05-15T01:10:51.259589Z",
     "iopub.status.idle": "2020-05-15T01:10:51.263029Z",
     "shell.execute_reply": "2020-05-15T01:10:51.262485Z"
    }
   },
   "outputs": [
    {
     "data": {
      "text/plain": [
       "7.38905609893065"
      ]
     },
     "execution_count": 33,
     "metadata": {},
     "output_type": "execute_result"
    }
   ],
   "source": [
    "# exponential e^x\n",
    "math.exp(2)"
   ]
  },
  {
   "cell_type": "code",
   "execution_count": 34,
   "metadata": {
    "execution": {
     "iopub.execute_input": "2020-05-15T01:10:51.267073Z",
     "iopub.status.busy": "2020-05-15T01:10:51.266343Z",
     "iopub.status.idle": "2020-05-15T01:10:51.269814Z",
     "shell.execute_reply": "2020-05-15T01:10:51.269230Z"
    }
   },
   "outputs": [
    {
     "data": {
      "text/plain": [
       "2.0"
      ]
     },
     "execution_count": 34,
     "metadata": {},
     "output_type": "execute_result"
    }
   ],
   "source": [
    "# square root\n",
    "math.sqrt(4)"
   ]
  },
  {
   "cell_type": "markdown",
   "metadata": {},
   "source": [
    "For more useful functions in the `math` library, you can check them out [here](https://www.programiz.com/python-programming/modules/math)!"
   ]
  }
 ],
 "metadata": {
  "kernelspec": {
   "display_name": "Python 3",
   "language": "python",
   "name": "python3"
  },
  "language_info": {
   "codemirror_mode": {
    "name": "ipython",
    "version": 3
   },
   "file_extension": ".py",
   "mimetype": "text/x-python",
   "name": "python",
   "nbconvert_exporter": "python",
   "pygments_lexer": "ipython3",
   "version": "3.6.5"
  }
 },
 "nbformat": 4,
 "nbformat_minor": 4
}