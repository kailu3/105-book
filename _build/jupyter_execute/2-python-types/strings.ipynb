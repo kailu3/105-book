{
 "cells": [
  {
   "cell_type": "markdown",
   "metadata": {},
   "source": [
    "# Strings"
   ]
  },
  {
   "cell_type": "markdown",
   "metadata": {},
   "source": [
    "From before, we know that Python strings are surrounded by either single or double quotation marks. The Python string data type is essentially a sequence made up of one or more characters that could consists of letters, numbers, whitespace characters, or symbols. Because it is a sequence, we can access characters through **indexing** and **slicing**."
   ]
  },
  {
   "cell_type": "markdown",
   "metadata": {},
   "source": [
    "```{figure} ../img/hello.png\n",
    "---\n",
    "name: hello\n",
    "---\n",
    "\n",
    "```"
   ]
  },
  {
   "cell_type": "markdown",
   "metadata": {},
   "source": [
    "## String Indexing"
   ]
  },
  {
   "cell_type": "markdown",
   "metadata": {},
   "source": [
    "Each of a string's characters correspond with an index number, starting with the index number 0. Index numbers are essentially positions of each element in the array. From the `Hello` above, we can see that `H` starts at index `0` and the string ends at index `4` with `o`. By referencing the index number of the character inside square brackets `[]`, we can extract individual characters out."
   ]
  },
  {
   "cell_type": "code",
   "execution_count": 1,
   "metadata": {
    "execution": {
     "iopub.execute_input": "2020-05-15T20:42:07.269674Z",
     "iopub.status.busy": "2020-05-15T20:42:07.268932Z",
     "iopub.status.idle": "2020-05-15T20:42:07.272223Z",
     "shell.execute_reply": "2020-05-15T20:42:07.271499Z"
    }
   },
   "outputs": [],
   "source": [
    "some_string = \"Hello\""
   ]
  },
  {
   "cell_type": "code",
   "execution_count": 2,
   "metadata": {
    "execution": {
     "iopub.execute_input": "2020-05-15T20:42:07.282364Z",
     "iopub.status.busy": "2020-05-15T20:42:07.280934Z",
     "iopub.status.idle": "2020-05-15T20:42:07.285686Z",
     "shell.execute_reply": "2020-05-15T20:42:07.286182Z"
    }
   },
   "outputs": [
    {
     "data": {
      "text/plain": [
       "'H'"
      ]
     },
     "execution_count": 2,
     "metadata": {},
     "output_type": "execute_result"
    }
   ],
   "source": [
    "some_string[0]"
   ]
  },
  {
   "cell_type": "code",
   "execution_count": 3,
   "metadata": {
    "execution": {
     "iopub.execute_input": "2020-05-15T20:42:07.290358Z",
     "iopub.status.busy": "2020-05-15T20:42:07.289596Z",
     "iopub.status.idle": "2020-05-15T20:42:07.293075Z",
     "shell.execute_reply": "2020-05-15T20:42:07.292558Z"
    }
   },
   "outputs": [
    {
     "data": {
      "text/plain": [
       "'o'"
      ]
     },
     "execution_count": 3,
     "metadata": {},
     "output_type": "execute_result"
    }
   ],
   "source": [
    "some_string[4]"
   ]
  },
  {
   "cell_type": "markdown",
   "metadata": {},
   "source": [
    "Now let's say that we are dealing with a very long string and would like to extract the last character of it. Since Python allows for counting backwards at the end, we can use negative index numbers which start at `-1`."
   ]
  },
  {
   "cell_type": "code",
   "execution_count": 4,
   "metadata": {
    "execution": {
     "iopub.execute_input": "2020-05-15T20:42:07.296926Z",
     "iopub.status.busy": "2020-05-15T20:42:07.296307Z",
     "iopub.status.idle": "2020-05-15T20:42:07.299346Z",
     "shell.execute_reply": "2020-05-15T20:42:07.298777Z"
    }
   },
   "outputs": [],
   "source": [
    "long_string = \"I could not think of a long enough string\""
   ]
  },
  {
   "cell_type": "code",
   "execution_count": 5,
   "metadata": {
    "execution": {
     "iopub.execute_input": "2020-05-15T20:42:07.303477Z",
     "iopub.status.busy": "2020-05-15T20:42:07.302800Z",
     "iopub.status.idle": "2020-05-15T20:42:07.306300Z",
     "shell.execute_reply": "2020-05-15T20:42:07.305729Z"
    }
   },
   "outputs": [
    {
     "data": {
      "text/plain": [
       "'g'"
      ]
     },
     "execution_count": 5,
     "metadata": {},
     "output_type": "execute_result"
    }
   ],
   "source": [
    "long_string[-1]"
   ]
  },
  {
   "cell_type": "markdown",
   "metadata": {},
   "source": [
    "Likewise, the second last character can be extracted with the index `-2`."
   ]
  },
  {
   "cell_type": "code",
   "execution_count": 6,
   "metadata": {
    "execution": {
     "iopub.execute_input": "2020-05-15T20:42:07.310497Z",
     "iopub.status.busy": "2020-05-15T20:42:07.309740Z",
     "iopub.status.idle": "2020-05-15T20:42:07.313336Z",
     "shell.execute_reply": "2020-05-15T20:42:07.312767Z"
    }
   },
   "outputs": [
    {
     "data": {
      "text/plain": [
       "'n'"
      ]
     },
     "execution_count": 6,
     "metadata": {},
     "output_type": "execute_result"
    }
   ],
   "source": [
    "long_string[-2]"
   ]
  },
  {
   "cell_type": "markdown",
   "metadata": {},
   "source": [
    "## String Slices"
   ]
  },
  {
   "cell_type": "markdown",
   "metadata": {},
   "source": [
    "We can also extract a range of characters using the `[start:end]` syntax. \n",
    "\n",
    ">One of the most important things to note here is that the starting index is **inclusive** and the ending index is **exclusive**.\n",
    "\n",
    "For instance, `some_string[0:3]` would extract characters in position `0`, `1`, and `2`, but **not** `3`."
   ]
  },
  {
   "cell_type": "code",
   "execution_count": 7,
   "metadata": {
    "execution": {
     "iopub.execute_input": "2020-05-15T20:42:07.317104Z",
     "iopub.status.busy": "2020-05-15T20:42:07.316487Z",
     "iopub.status.idle": "2020-05-15T20:42:07.319216Z",
     "shell.execute_reply": "2020-05-15T20:42:07.318707Z"
    }
   },
   "outputs": [],
   "source": [
    "some_string = \"Hello World\""
   ]
  },
  {
   "cell_type": "code",
   "execution_count": 8,
   "metadata": {
    "execution": {
     "iopub.execute_input": "2020-05-15T20:42:07.323470Z",
     "iopub.status.busy": "2020-05-15T20:42:07.322695Z",
     "iopub.status.idle": "2020-05-15T20:42:07.326234Z",
     "shell.execute_reply": "2020-05-15T20:42:07.325658Z"
    }
   },
   "outputs": [
    {
     "data": {
      "text/plain": [
       "'ell'"
      ]
     },
     "execution_count": 8,
     "metadata": {},
     "output_type": "execute_result"
    }
   ],
   "source": [
    "some_string[1:4]"
   ]
  },
  {
   "cell_type": "markdown",
   "metadata": {},
   "source": [
    "If we want to include either end of the string, we can omit one of the indices in the `string[start:end]` syntax. For instance, if I wanted to only print out `Hello`, I could do so by:"
   ]
  },
  {
   "cell_type": "code",
   "execution_count": 9,
   "metadata": {
    "execution": {
     "iopub.execute_input": "2020-05-15T20:42:07.330323Z",
     "iopub.status.busy": "2020-05-15T20:42:07.329636Z",
     "iopub.status.idle": "2020-05-15T20:42:07.333222Z",
     "shell.execute_reply": "2020-05-15T20:42:07.332634Z"
    }
   },
   "outputs": [
    {
     "data": {
      "text/plain": [
       "'Hello'"
      ]
     },
     "execution_count": 9,
     "metadata": {},
     "output_type": "execute_result"
    }
   ],
   "source": [
    "some_string[:5]"
   ]
  },
  {
   "cell_type": "markdown",
   "metadata": {},
   "source": [
    "Similarly, if I only wanted to print out `World`, I could do so by:"
   ]
  },
  {
   "cell_type": "code",
   "execution_count": 10,
   "metadata": {
    "execution": {
     "iopub.execute_input": "2020-05-15T20:42:07.337358Z",
     "iopub.status.busy": "2020-05-15T20:42:07.336601Z",
     "iopub.status.idle": "2020-05-15T20:42:07.340158Z",
     "shell.execute_reply": "2020-05-15T20:42:07.339594Z"
    }
   },
   "outputs": [
    {
     "data": {
      "text/plain": [
       "'World'"
      ]
     },
     "execution_count": 10,
     "metadata": {},
     "output_type": "execute_result"
    }
   ],
   "source": [
    "some_string[6:]"
   ]
  },
  {
   "cell_type": "markdown",
   "metadata": {},
   "source": [
    "Though I don't use it much (as I always get confused by it), you can also use negative index numbers to slice a string. For instance, to get `Hello` from `some_string` we can type:"
   ]
  },
  {
   "cell_type": "code",
   "execution_count": 11,
   "metadata": {
    "execution": {
     "iopub.execute_input": "2020-05-15T20:42:07.344424Z",
     "iopub.status.busy": "2020-05-15T20:42:07.343661Z",
     "iopub.status.idle": "2020-05-15T20:42:07.347172Z",
     "shell.execute_reply": "2020-05-15T20:42:07.346622Z"
    }
   },
   "outputs": [
    {
     "data": {
      "text/plain": [
       "'Hello'"
      ]
     },
     "execution_count": 11,
     "metadata": {},
     "output_type": "execute_result"
    }
   ],
   "source": [
    "some_string[-11:-6]"
   ]
  },
  {
   "cell_type": "markdown",
   "metadata": {},
   "source": [
    "You can also specify the step in which you want to slice the string. Here we can add another argument to our brackets `[]` to do so. Now let's say we want to skip every second character in `some_string`."
   ]
  },
  {
   "cell_type": "code",
   "execution_count": 12,
   "metadata": {
    "execution": {
     "iopub.execute_input": "2020-05-15T20:42:07.351431Z",
     "iopub.status.busy": "2020-05-15T20:42:07.350604Z",
     "iopub.status.idle": "2020-05-15T20:42:07.354369Z",
     "shell.execute_reply": "2020-05-15T20:42:07.353796Z"
    }
   },
   "outputs": [
    {
     "data": {
      "text/plain": [
       "'HloWrd'"
      ]
     },
     "execution_count": 12,
     "metadata": {},
     "output_type": "execute_result"
    }
   ],
   "source": [
    "some_string[::2]"
   ]
  },
  {
   "cell_type": "markdown",
   "metadata": {},
   "source": [
    "> Omitting the first two index numbers and retaining the two colons will keep the whole string in range for the `step` argument to slice."
   ]
  },
  {
   "cell_type": "markdown",
   "metadata": {},
   "source": [
    "Python also allows for negative steps which is an easy way to reverse a string!"
   ]
  },
  {
   "cell_type": "code",
   "execution_count": 13,
   "metadata": {
    "execution": {
     "iopub.execute_input": "2020-05-15T20:42:07.358771Z",
     "iopub.status.busy": "2020-05-15T20:42:07.358113Z",
     "iopub.status.idle": "2020-05-15T20:42:07.361219Z",
     "shell.execute_reply": "2020-05-15T20:42:07.360671Z"
    }
   },
   "outputs": [
    {
     "data": {
      "text/plain": [
       "'dlroW olleH'"
      ]
     },
     "execution_count": 13,
     "metadata": {},
     "output_type": "execute_result"
    }
   ],
   "source": [
    "some_string[::-1]"
   ]
  },
  {
   "cell_type": "markdown",
   "metadata": {},
   "source": [
    "> Phew! That was a lot to take in. Don't worry if you didn't remember all of that! The main takeaway here is the syntax `string[start:end:step]`."
   ]
  },
  {
   "cell_type": "markdown",
   "metadata": {},
   "source": [
    "## Strings are Immutable"
   ]
  },
  {
   "cell_type": "markdown",
   "metadata": {},
   "source": [
    "In Python, strings are immutable. This means that a string value cannot be updated. We can verify this by trying to update a character within `some_string`."
   ]
  },
  {
   "cell_type": "code",
   "execution_count": 14,
   "metadata": {
    "execution": {
     "iopub.execute_input": "2020-05-15T20:42:07.364663Z",
     "iopub.status.busy": "2020-05-15T20:42:07.364068Z",
     "iopub.status.idle": "2020-05-15T20:42:07.366705Z",
     "shell.execute_reply": "2020-05-15T20:42:07.366100Z"
    }
   },
   "outputs": [],
   "source": [
    "# some_string[0] = 'm'"
   ]
  },
  {
   "cell_type": "markdown",
   "metadata": {},
   "source": [
    "## Common String Methods"
   ]
  },
  {
   "cell_type": "markdown",
   "metadata": {},
   "source": [
    "There are many useful string methods when working with strings. The methods below won't cover them all but will at least (hopefully) cover the more important ones from the top of my head."
   ]
  },
  {
   "cell_type": "code",
   "execution_count": 15,
   "metadata": {
    "execution": {
     "iopub.execute_input": "2020-05-15T20:42:07.371305Z",
     "iopub.status.busy": "2020-05-15T20:42:07.370685Z",
     "iopub.status.idle": "2020-05-15T20:42:07.373450Z",
     "shell.execute_reply": "2020-05-15T20:42:07.372838Z"
    }
   },
   "outputs": [],
   "source": [
    "some_paragraph =  '''\n",
    "They put me in the oven to bake.\n",
    "Me, a deprived and miserable cake.\n",
    "Feeling the heat, I started to bubble.\n",
    "Watching the others, I knew I was in trouble.\n",
    "\n",
    "They opened the door and I started my life.\n",
    "Frosting me with a silver knife,\n",
    "Decorating me with candy jewels.\n",
    "The rest of my batch looked like fools.\n",
    "\n",
    "Lifting me up, she took off my wrapper.\n",
    "Feeling the breeze, I wanted to slap her.\n",
    "Opening her mouth with shiny teeth inside,\n",
    "This was the day this cupcake died.\n",
    "'''\n",
    "# Source: https://www.familyfriendpoems.com/poem/the-life-of-a-cupcake"
   ]
  },
  {
   "cell_type": "markdown",
   "metadata": {},
   "source": [
    "**1. Finding the length of a string with `len()`**"
   ]
  },
  {
   "cell_type": "code",
   "execution_count": 16,
   "metadata": {
    "execution": {
     "iopub.execute_input": "2020-05-15T20:42:07.377381Z",
     "iopub.status.busy": "2020-05-15T20:42:07.376719Z",
     "iopub.status.idle": "2020-05-15T20:42:07.380090Z",
     "shell.execute_reply": "2020-05-15T20:42:07.379542Z"
    }
   },
   "outputs": [
    {
     "data": {
      "text/plain": [
       "467"
      ]
     },
     "execution_count": 16,
     "metadata": {},
     "output_type": "execute_result"
    }
   ],
   "source": [
    "len(some_paragraph)"
   ]
  },
  {
   "cell_type": "markdown",
   "metadata": {},
   "source": [
    "**2. Finding the frequency of a sequence with `str.count()`**"
   ]
  },
  {
   "cell_type": "code",
   "execution_count": 17,
   "metadata": {
    "execution": {
     "iopub.execute_input": "2020-05-15T20:42:07.384149Z",
     "iopub.status.busy": "2020-05-15T20:42:07.383487Z",
     "iopub.status.idle": "2020-05-15T20:42:07.386833Z",
     "shell.execute_reply": "2020-05-15T20:42:07.386325Z"
    }
   },
   "outputs": [
    {
     "data": {
      "text/plain": [
       "5"
      ]
     },
     "execution_count": 17,
     "metadata": {},
     "output_type": "execute_result"
    }
   ],
   "source": [
    "some_paragraph.count(\"I\")"
   ]
  },
  {
   "cell_type": "code",
   "execution_count": 18,
   "metadata": {
    "execution": {
     "iopub.execute_input": "2020-05-15T20:42:07.391124Z",
     "iopub.status.busy": "2020-05-15T20:42:07.390479Z",
     "iopub.status.idle": "2020-05-15T20:42:07.393775Z",
     "shell.execute_reply": "2020-05-15T20:42:07.393156Z"
    }
   },
   "outputs": [
    {
     "data": {
      "text/plain": [
       "7"
      ]
     },
     "execution_count": 18,
     "metadata": {},
     "output_type": "execute_result"
    }
   ],
   "source": [
    "some_paragraph.count(\"ing\")"
   ]
  },
  {
   "cell_type": "markdown",
   "metadata": {},
   "source": [
    "**3. Making the entire string upper or lower case with `str.upper()` and `str.lower()`**"
   ]
  },
  {
   "cell_type": "code",
   "execution_count": 19,
   "metadata": {
    "execution": {
     "iopub.execute_input": "2020-05-15T20:42:07.397708Z",
     "iopub.status.busy": "2020-05-15T20:42:07.396980Z",
     "iopub.status.idle": "2020-05-15T20:42:07.400467Z",
     "shell.execute_reply": "2020-05-15T20:42:07.399959Z"
    }
   },
   "outputs": [
    {
     "data": {
      "text/plain": [
       "'HELLO WORLD'"
      ]
     },
     "execution_count": 19,
     "metadata": {},
     "output_type": "execute_result"
    }
   ],
   "source": [
    "some_string.upper()"
   ]
  },
  {
   "cell_type": "code",
   "execution_count": 20,
   "metadata": {
    "execution": {
     "iopub.execute_input": "2020-05-15T20:42:07.404598Z",
     "iopub.status.busy": "2020-05-15T20:42:07.403874Z",
     "iopub.status.idle": "2020-05-15T20:42:07.406854Z",
     "shell.execute_reply": "2020-05-15T20:42:07.407431Z"
    }
   },
   "outputs": [
    {
     "data": {
      "text/plain": [
       "'hello world'"
      ]
     },
     "execution_count": 20,
     "metadata": {},
     "output_type": "execute_result"
    }
   ],
   "source": [
    "some_string.lower()"
   ]
  },
  {
   "cell_type": "markdown",
   "metadata": {},
   "source": [
    "**4. Joining and splitting strings with `str.join()` and `str.split()`**  \n",
    "Let's say we wanted to add a `.` between every letter in a string, we could do so with `str.join()`"
   ]
  },
  {
   "cell_type": "code",
   "execution_count": 21,
   "metadata": {
    "execution": {
     "iopub.execute_input": "2020-05-15T20:42:07.411285Z",
     "iopub.status.busy": "2020-05-15T20:42:07.410660Z",
     "iopub.status.idle": "2020-05-15T20:42:07.414113Z",
     "shell.execute_reply": "2020-05-15T20:42:07.413475Z"
    }
   },
   "outputs": [
    {
     "data": {
      "text/plain": [
       "'H.e.l.l.o. .W.o.r.l.d'"
      ]
     },
     "execution_count": 21,
     "metadata": {},
     "output_type": "execute_result"
    }
   ],
   "source": [
    "\".\".join(some_string)"
   ]
  },
  {
   "cell_type": "markdown",
   "metadata": {},
   "source": [
    "Or we wanted to split our `some_string` into a list of words by the space between each word, we could do so with `str.split()`"
   ]
  },
  {
   "cell_type": "code",
   "execution_count": 22,
   "metadata": {
    "execution": {
     "iopub.execute_input": "2020-05-15T20:42:07.418583Z",
     "iopub.status.busy": "2020-05-15T20:42:07.417768Z",
     "iopub.status.idle": "2020-05-15T20:42:07.421318Z",
     "shell.execute_reply": "2020-05-15T20:42:07.420730Z"
    }
   },
   "outputs": [
    {
     "data": {
      "text/plain": [
       "['Hello', 'World']"
      ]
     },
     "execution_count": 22,
     "metadata": {},
     "output_type": "execute_result"
    }
   ],
   "source": [
    "some_string.split(\" \")"
   ]
  },
  {
   "cell_type": "markdown",
   "metadata": {},
   "source": [
    "**5. Replacing strings `str.replace()`**  \n",
    "How about replacing strings?"
   ]
  },
  {
   "cell_type": "code",
   "execution_count": 23,
   "metadata": {
    "execution": {
     "iopub.execute_input": "2020-05-15T20:42:07.425212Z",
     "iopub.status.busy": "2020-05-15T20:42:07.424580Z",
     "iopub.status.idle": "2020-05-15T20:42:07.428098Z",
     "shell.execute_reply": "2020-05-15T20:42:07.427478Z"
    }
   },
   "outputs": [
    {
     "data": {
      "text/plain": [
       "'Goodbye World'"
      ]
     },
     "execution_count": 23,
     "metadata": {},
     "output_type": "execute_result"
    }
   ],
   "source": [
    "some_string.replace(\"Hello\", \"Goodbye\")"
   ]
  },
  {
   "cell_type": "markdown",
   "metadata": {},
   "source": [
    "All these just scratch the surface. You can find more string methods [here](https://www.w3schools.com/python/python_ref_string.asp)."
   ]
  },
  {
   "cell_type": "code",
   "execution_count": null,
   "metadata": {},
   "outputs": [],
   "source": []
  }
 ],
 "metadata": {
  "kernelspec": {
   "display_name": "Python 3",
   "language": "python",
   "name": "python3"
  },
  "language_info": {
   "codemirror_mode": {
    "name": "ipython",
    "version": 3
   },
   "file_extension": ".py",
   "mimetype": "text/x-python",
   "name": "python",
   "nbconvert_exporter": "python",
   "pygments_lexer": "ipython3",
   "version": "3.6.5"
  }
 },
 "nbformat": 4,
 "nbformat_minor": 4
}