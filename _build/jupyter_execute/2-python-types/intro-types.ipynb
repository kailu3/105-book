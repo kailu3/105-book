{
 "cells": [
  {
   "cell_type": "markdown",
   "metadata": {},
   "source": [
    "# Python Types\n",
    "\n",
    "Every value in Python has a type. In this section I will introduce the most common, basic types that are built into Python. To check the type of a value, we can use the Python built-in `type()` function."
   ]
  },
  {
   "cell_type": "markdown",
   "metadata": {},
   "source": [
    "## Numbers\n",
    "\n",
    "The first category of types I will go through in detail is Numbers. Integers, floating point numbers, and complex numbers fall under Python's number category. They are defined as `int`,\n",
    "`float`, and `complex`. I personally have not used `complex` yet but have used `int` and `float` almost every day."
   ]
  },
  {
   "cell_type": "code",
   "execution_count": 1,
   "metadata": {
    "execution": {
     "iopub.execute_input": "2020-05-15T01:10:49.699933Z",
     "iopub.status.busy": "2020-05-15T01:10:49.699271Z",
     "iopub.status.idle": "2020-05-15T01:10:49.702451Z",
     "shell.execute_reply": "2020-05-15T01:10:49.702906Z"
    }
   },
   "outputs": [
    {
     "data": {
      "text/plain": [
       "int"
      ]
     },
     "execution_count": 1,
     "metadata": {},
     "output_type": "execute_result"
    }
   ],
   "source": [
    "type(9642)"
   ]
  },
  {
   "cell_type": "code",
   "execution_count": 2,
   "metadata": {
    "execution": {
     "iopub.execute_input": "2020-05-15T01:10:49.707097Z",
     "iopub.status.busy": "2020-05-15T01:10:49.706435Z",
     "iopub.status.idle": "2020-05-15T01:10:49.710061Z",
     "shell.execute_reply": "2020-05-15T01:10:49.709552Z"
    }
   },
   "outputs": [
    {
     "data": {
      "text/plain": [
       "float"
      ]
     },
     "execution_count": 2,
     "metadata": {},
     "output_type": "execute_result"
    }
   ],
   "source": [
    "type(9642.0)"
   ]
  },
  {
   "cell_type": "code",
   "execution_count": 3,
   "metadata": {
    "execution": {
     "iopub.execute_input": "2020-05-15T01:10:49.714124Z",
     "iopub.status.busy": "2020-05-15T01:10:49.713499Z",
     "iopub.status.idle": "2020-05-15T01:10:49.716995Z",
     "shell.execute_reply": "2020-05-15T01:10:49.716404Z"
    }
   },
   "outputs": [
    {
     "data": {
      "text/plain": [
       "complex"
      ]
     },
     "execution_count": 3,
     "metadata": {},
     "output_type": "execute_result"
    }
   ],
   "source": [
    "type(1+2j)"
   ]
  },
  {
   "cell_type": "markdown",
   "metadata": {},
   "source": [
    "## Strings\n",
    "\n",
    "Next we have strings. As you've seen in the previous section, a sequence of one or more characters enclosed within single quotes ‘, double quotes \", or even triple quotes ''' is considered as a String in Python. Any letter, number or symbol could be a part of the sting."
   ]
  },
  {
   "cell_type": "code",
   "execution_count": 4,
   "metadata": {
    "execution": {
     "iopub.execute_input": "2020-05-15T01:10:49.721128Z",
     "iopub.status.busy": "2020-05-15T01:10:49.720441Z",
     "iopub.status.idle": "2020-05-15T01:10:49.723736Z",
     "shell.execute_reply": "2020-05-15T01:10:49.724220Z"
    }
   },
   "outputs": [
    {
     "data": {
      "text/plain": [
       "str"
      ]
     },
     "execution_count": 4,
     "metadata": {},
     "output_type": "execute_result"
    }
   ],
   "source": [
    "type('I like cats')"
   ]
  },
  {
   "cell_type": "code",
   "execution_count": 5,
   "metadata": {
    "execution": {
     "iopub.execute_input": "2020-05-15T01:10:49.728162Z",
     "iopub.status.busy": "2020-05-15T01:10:49.727477Z",
     "iopub.status.idle": "2020-05-15T01:10:49.731047Z",
     "shell.execute_reply": "2020-05-15T01:10:49.730483Z"
    }
   },
   "outputs": [
    {
     "data": {
      "text/plain": [
       "str"
      ]
     },
     "execution_count": 5,
     "metadata": {},
     "output_type": "execute_result"
    }
   ],
   "source": [
    "type(\"meow\")"
   ]
  },
  {
   "cell_type": "code",
   "execution_count": 6,
   "metadata": {
    "execution": {
     "iopub.execute_input": "2020-05-15T01:10:49.735367Z",
     "iopub.status.busy": "2020-05-15T01:10:49.734729Z",
     "iopub.status.idle": "2020-05-15T01:10:49.738332Z",
     "shell.execute_reply": "2020-05-15T01:10:49.737829Z"
    }
   },
   "outputs": [
    {
     "data": {
      "text/plain": [
       "str"
      ]
     },
     "execution_count": 6,
     "metadata": {},
     "output_type": "execute_result"
    }
   ],
   "source": [
    "type('''meoooooow''')"
   ]
  },
  {
   "cell_type": "code",
   "execution_count": 7,
   "metadata": {
    "execution": {
     "iopub.execute_input": "2020-05-15T01:10:49.742307Z",
     "iopub.status.busy": "2020-05-15T01:10:49.741641Z",
     "iopub.status.idle": "2020-05-15T01:10:49.745181Z",
     "shell.execute_reply": "2020-05-15T01:10:49.744613Z"
    }
   },
   "outputs": [
    {
     "data": {
      "text/plain": [
       "str"
      ]
     },
     "execution_count": 7,
     "metadata": {},
     "output_type": "execute_result"
    }
   ],
   "source": [
    "type('9642')"
   ]
  },
  {
   "cell_type": "markdown",
   "metadata": {},
   "source": [
    "## Booleans"
   ]
  },
  {
   "cell_type": "markdown",
   "metadata": {},
   "source": [
    "Last but not least, we introduce booleans. A boolean is a data type that almost every programming language has. A Boolean in Python can have two values: `True` or `False`. These values are constants and can be used to assign or compare boolean values."
   ]
  },
  {
   "cell_type": "code",
   "execution_count": 8,
   "metadata": {
    "execution": {
     "iopub.execute_input": "2020-05-15T01:10:49.749250Z",
     "iopub.status.busy": "2020-05-15T01:10:49.748589Z",
     "iopub.status.idle": "2020-05-15T01:10:49.751984Z",
     "shell.execute_reply": "2020-05-15T01:10:49.751399Z"
    }
   },
   "outputs": [
    {
     "data": {
      "text/plain": [
       "bool"
      ]
     },
     "execution_count": 8,
     "metadata": {},
     "output_type": "execute_result"
    }
   ],
   "source": [
    "type(True)"
   ]
  },
  {
   "cell_type": "code",
   "execution_count": 9,
   "metadata": {
    "execution": {
     "iopub.execute_input": "2020-05-15T01:10:49.756112Z",
     "iopub.status.busy": "2020-05-15T01:10:49.755434Z",
     "iopub.status.idle": "2020-05-15T01:10:49.758950Z",
     "shell.execute_reply": "2020-05-15T01:10:49.758446Z"
    }
   },
   "outputs": [
    {
     "data": {
      "text/plain": [
       "bool"
      ]
     },
     "execution_count": 9,
     "metadata": {},
     "output_type": "execute_result"
    }
   ],
   "source": [
    "type(False)"
   ]
  },
  {
   "cell_type": "markdown",
   "metadata": {},
   "source": [
    "> Note that there are many other Python data types that you will encounter in our Pythonic journey! Don't be intimidated as there are many data types that even I haven't heard of. Besides `Numbers`, `Strings`, and `Booleans`, I will also going over container data types like `Lists`, `Tuples`, and `Dictionaries` that can contain `Booleans`, `Numbers`, and `Strings` soon."
   ]
  },
  {
   "cell_type": "code",
   "execution_count": null,
   "metadata": {},
   "outputs": [],
   "source": []
  },
  {
   "cell_type": "markdown",
   "metadata": {},
   "source": [
    "\n",
    "```{toctree}\n",
    ":hidden:\n",
    ":titlesonly:\n",
    "\n",
    "\n",
    "numbers\n",
    "strings\n",
    "booleans\n",
    "type-casting\n",
    "tuples-lists-dicts\n",
    "```\n"
   ]
  }
 ],
 "metadata": {
  "kernelspec": {
   "display_name": "Python 3",
   "language": "python",
   "name": "python3"
  },
  "language_info": {
   "codemirror_mode": {
    "name": "ipython",
    "version": 3
   },
   "file_extension": ".py",
   "mimetype": "text/x-python",
   "name": "python",
   "nbconvert_exporter": "python",
   "pygments_lexer": "ipython3",
   "version": "3.6.5"
  }
 },
 "nbformat": 4,
 "nbformat_minor": 4
}