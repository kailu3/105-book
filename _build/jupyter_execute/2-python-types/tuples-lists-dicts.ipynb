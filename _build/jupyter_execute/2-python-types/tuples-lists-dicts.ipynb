{
 "cells": [
  {
   "cell_type": "markdown",
   "metadata": {},
   "source": [
    "# Tuples, Lists, and Dictionaries\n",
    "\n",
    "As an interactive way to learn about these collection data types, first consider these three problems:\n",
    "\n",
    "1. Let's say we wanted to store a long list of information in a variable that doesn't change over time? For example, the names of the days of the week don't change at all.\n",
    "\n",
    "2. Let's say we also wanted to store a long list of information in a variable that changes over time? For instance, the names of all your cats. You might get new kittens and some cats might unfortunately die. You will need to make updates to your list each time something happens.\n",
    "\n",
    "3. Let's say we wanted to create a phonebook with every CIS105 student's name and phone number. You would need a list of names and a list of phone numbers and some way to find the student's phone number when only given his or her name.\n"
   ]
  },
  {
   "cell_type": "markdown",
   "metadata": {},
   "source": [
    "## The Solution -> Tuples, Lists, and Dictionaries\n",
    "\n",
    "For each of these three problems, there are built-in data types in Python to solve them.\n",
    "\n",
    "## Tuples\n",
    "\n",
    "Using Tuples would solve the first problem. Tuples are immutable which means that their value cannot be changed. This\n",
    "is the perfect data type is store something like the `the days of the week` as they do not change ever. Tuples are quite \n",
    "easy to make:"
   ]
  },
  {
   "cell_type": "code",
   "execution_count": 1,
   "metadata": {
    "execution": {
     "iopub.execute_input": "2020-05-15T01:10:54.105213Z",
     "iopub.status.busy": "2020-05-15T01:10:54.104482Z",
     "iopub.status.idle": "2020-05-15T01:10:54.107707Z",
     "shell.execute_reply": "2020-05-15T01:10:54.107011Z"
    }
   },
   "outputs": [],
   "source": [
    "days_of_week = ('Monday', 'Tuesday', 'Wednesday', \\\n",
    "                'Thursday', 'Friday', 'Saturday', 'Sunday')"
   ]
  },
  {
   "cell_type": "markdown",
   "metadata": {},
   "source": [
    "> **Quick Tip:** The backslash key `\\` allows you to continue your statement on the next line! "
   ]
  },
  {
   "cell_type": "markdown",
   "metadata": {},
   "source": [
    "which Python then organizes into something that looks like this:\n",
    "\n",
    "| Index |  Value   |\n",
    "|-------|----------|\n",
    "| 0     | Monday   |\n",
    "| 1     | Tuesday  |\n",
    "| 2     | Wednesday|\n",
    "| 3     | Thursday |\n",
    "| 4     | Friday   |\n",
    "| 5     | Saturday |\n",
    "| 6     | Sunday   |"
   ]
  },
  {
   "cell_type": "markdown",
   "metadata": {},
   "source": [
    "To access a `Value` in our tuple, we do so by indexing! This is exactly the same as what we learned in the `Strings` section.\n",
    "\n",
    "We can demonstrate with an example: Let's say we want to access `Monday` from the `days_of_week` tuple which in the first position. To do that, we can simply access with:"
   ]
  },
  {
   "cell_type": "code",
   "execution_count": 2,
   "metadata": {
    "execution": {
     "iopub.execute_input": "2020-05-15T01:10:54.117895Z",
     "iopub.status.busy": "2020-05-15T01:10:54.116508Z",
     "iopub.status.idle": "2020-05-15T01:10:54.121939Z",
     "shell.execute_reply": "2020-05-15T01:10:54.121368Z"
    }
   },
   "outputs": [
    {
     "data": {
      "text/plain": [
       "'Monday'"
      ]
     },
     "execution_count": 2,
     "metadata": {},
     "output_type": "execute_result"
    }
   ],
   "source": [
    "days_of_week[0]"
   ]
  },
  {
   "cell_type": "code",
   "execution_count": 3,
   "metadata": {
    "execution": {
     "iopub.execute_input": "2020-05-15T01:10:54.126029Z",
     "iopub.status.busy": "2020-05-15T01:10:54.125343Z",
     "iopub.status.idle": "2020-05-15T01:10:54.129037Z",
     "shell.execute_reply": "2020-05-15T01:10:54.128444Z"
    }
   },
   "outputs": [
    {
     "data": {
      "text/plain": [
       "'Sunday'"
      ]
     },
     "execution_count": 3,
     "metadata": {},
     "output_type": "execute_result"
    }
   ],
   "source": [
    "days_of_week[-1]"
   ]
  },
  {
   "cell_type": "markdown",
   "metadata": {},
   "source": [
    "You can learn about Tuples [here](https://www.w3schools.com/python/python_tuples.asp)."
   ]
  },
  {
   "cell_type": "markdown",
   "metadata": {},
   "source": [
    "## Lists\n",
    "\n",
    "Using Lists would solve the second problem. A List is essentially a list of values and are mutable, which means that they can be modified. Lists can also contain different datatypes."
   ]
  },
  {
   "cell_type": "code",
   "execution_count": 4,
   "metadata": {
    "execution": {
     "iopub.execute_input": "2020-05-15T01:10:54.133333Z",
     "iopub.status.busy": "2020-05-15T01:10:54.132431Z",
     "iopub.status.idle": "2020-05-15T01:10:54.135483Z",
     "shell.execute_reply": "2020-05-15T01:10:54.134924Z"
    }
   },
   "outputs": [],
   "source": [
    "some_cat_list = ['haku', 'nagi', 'poki', 20, 40]"
   ]
  },
  {
   "cell_type": "markdown",
   "metadata": {},
   "source": [
    "Now suppose we were looking through our `some_cat_list` and we realized we wanted to remove `20` as it might've been a happy little accident. To do that, we simply can type\n"
   ]
  },
  {
   "cell_type": "code",
   "execution_count": 5,
   "metadata": {
    "execution": {
     "iopub.execute_input": "2020-05-15T01:10:54.139321Z",
     "iopub.status.busy": "2020-05-15T01:10:54.138709Z",
     "iopub.status.idle": "2020-05-15T01:10:54.141473Z",
     "shell.execute_reply": "2020-05-15T01:10:54.140909Z"
    }
   },
   "outputs": [],
   "source": [
    "some_cat_list.remove(20)"
   ]
  },
  {
   "cell_type": "markdown",
   "metadata": {},
   "source": [
    "Suppose we didn't know the item we wanted to remove but knew its **index**. If we wanted to remove an item in `40`'s location, we can type\n"
   ]
  },
  {
   "cell_type": "code",
   "execution_count": 6,
   "metadata": {
    "execution": {
     "iopub.execute_input": "2020-05-15T01:10:54.145338Z",
     "iopub.status.busy": "2020-05-15T01:10:54.144725Z",
     "iopub.status.idle": "2020-05-15T01:10:54.147517Z",
     "shell.execute_reply": "2020-05-15T01:10:54.146969Z"
    }
   },
   "outputs": [],
   "source": [
    "# Note that since we removed 20, 40's position shifts forward by 1!\n",
    "del some_cat_list[3] "
   ]
  },
  {
   "cell_type": "code",
   "execution_count": 7,
   "metadata": {
    "execution": {
     "iopub.execute_input": "2020-05-15T01:10:54.151546Z",
     "iopub.status.busy": "2020-05-15T01:10:54.150906Z",
     "iopub.status.idle": "2020-05-15T01:10:54.154500Z",
     "shell.execute_reply": "2020-05-15T01:10:54.153938Z"
    }
   },
   "outputs": [
    {
     "data": {
      "text/plain": [
       "['haku', 'nagi', 'poki']"
      ]
     },
     "execution_count": 7,
     "metadata": {},
     "output_type": "execute_result"
    }
   ],
   "source": [
    "some_cat_list"
   ]
  },
  {
   "cell_type": "markdown",
   "metadata": {},
   "source": [
    "Now maybe you adopted another cat called kiki and would like to add her to the list. To do that, we could type"
   ]
  },
  {
   "cell_type": "code",
   "execution_count": 8,
   "metadata": {
    "execution": {
     "iopub.execute_input": "2020-05-15T01:10:54.158282Z",
     "iopub.status.busy": "2020-05-15T01:10:54.157664Z",
     "iopub.status.idle": "2020-05-15T01:10:54.160502Z",
     "shell.execute_reply": "2020-05-15T01:10:54.159920Z"
    }
   },
   "outputs": [],
   "source": [
    "some_cat_list.append('kiki')"
   ]
  },
  {
   "cell_type": "markdown",
   "metadata": {},
   "source": [
    "which would append kiki onto the end of the list. Or if we want to change kiki's name to mei instead given a change of mind, we could do so easily by changing the item at the last index."
   ]
  },
  {
   "cell_type": "code",
   "execution_count": 9,
   "metadata": {
    "execution": {
     "iopub.execute_input": "2020-05-15T01:10:54.164270Z",
     "iopub.status.busy": "2020-05-15T01:10:54.163662Z",
     "iopub.status.idle": "2020-05-15T01:10:54.166456Z",
     "shell.execute_reply": "2020-05-15T01:10:54.165953Z"
    }
   },
   "outputs": [],
   "source": [
    "some_cat_list[-1] = 'mei'"
   ]
  },
  {
   "cell_type": "code",
   "execution_count": 10,
   "metadata": {
    "execution": {
     "iopub.execute_input": "2020-05-15T01:10:54.170695Z",
     "iopub.status.busy": "2020-05-15T01:10:54.169924Z",
     "iopub.status.idle": "2020-05-15T01:10:54.173523Z",
     "shell.execute_reply": "2020-05-15T01:10:54.173019Z"
    }
   },
   "outputs": [
    {
     "data": {
      "text/plain": [
       "['haku', 'nagi', 'poki', 'mei']"
      ]
     },
     "execution_count": 10,
     "metadata": {},
     "output_type": "execute_result"
    }
   ],
   "source": [
    "some_cat_list"
   ]
  },
  {
   "cell_type": "markdown",
   "metadata": {},
   "source": [
    "You can learn more about Lists [here](https://www.w3schools.com/python/python_lists.asp)."
   ]
  },
  {
   "cell_type": "markdown",
   "metadata": {},
   "source": [
    "## Dictionaries\n",
    "\n",
    "Likewise, we can solve the third problem with using a dictionary. Python dictionaries are conceptually the same as the \n",
    "dictionaries we use to look up words! For instance, we typically use a dictionary to look up some word we do not know.\n",
    "It might be trivial but every `word` in the dictionary maps to some `definition`. Similarly in Python dictionaries, we\n",
    "have `keys` and `values` where a `key` can map to some `value`. Here we make a dictionary of CIS105 student names and\n",
    "their phone numbers:"
   ]
  },
  {
   "cell_type": "code",
   "execution_count": 11,
   "metadata": {
    "execution": {
     "iopub.execute_input": "2020-05-15T01:10:54.177579Z",
     "iopub.status.busy": "2020-05-15T01:10:54.176982Z",
     "iopub.status.idle": "2020-05-15T01:10:54.180151Z",
     "shell.execute_reply": "2020-05-15T01:10:54.179614Z"
    }
   },
   "outputs": [],
   "source": [
    "some_dict = {\n",
    "    'Kai': 1231231231,\n",
    "    'Lin': 3213213213,\n",
    "    'Racheal': 964296429\n",
    "}"
   ]
  },
  {
   "cell_type": "markdown",
   "metadata": {},
   "source": [
    "Now, say we want to access `Racheal's` phone number from the dictionary. We can simply do so get *getting* her number using her name as the `key`. You can do so in two ways:"
   ]
  },
  {
   "cell_type": "markdown",
   "metadata": {},
   "source": [
    "### Method 1"
   ]
  },
  {
   "cell_type": "code",
   "execution_count": 12,
   "metadata": {
    "execution": {
     "iopub.execute_input": "2020-05-15T01:10:54.184479Z",
     "iopub.status.busy": "2020-05-15T01:10:54.183733Z",
     "iopub.status.idle": "2020-05-15T01:10:54.186829Z",
     "shell.execute_reply": "2020-05-15T01:10:54.187313Z"
    }
   },
   "outputs": [
    {
     "data": {
      "text/plain": [
       "964296429"
      ]
     },
     "execution_count": 12,
     "metadata": {},
     "output_type": "execute_result"
    }
   ],
   "source": [
    "some_dict.get('Racheal')"
   ]
  },
  {
   "cell_type": "markdown",
   "metadata": {},
   "source": [
    "### Method 2"
   ]
  },
  {
   "cell_type": "code",
   "execution_count": 13,
   "metadata": {
    "execution": {
     "iopub.execute_input": "2020-05-15T01:10:54.191493Z",
     "iopub.status.busy": "2020-05-15T01:10:54.190826Z",
     "iopub.status.idle": "2020-05-15T01:10:54.194356Z",
     "shell.execute_reply": "2020-05-15T01:10:54.193778Z"
    }
   },
   "outputs": [
    {
     "data": {
      "text/plain": [
       "964296429"
      ]
     },
     "execution_count": 13,
     "metadata": {},
     "output_type": "execute_result"
    }
   ],
   "source": [
    "some_dict['Racheal']"
   ]
  },
  {
   "cell_type": "markdown",
   "metadata": {},
   "source": [
    "**However**, this only works when the `key` is present and I would **NOT** recommend using this method. \n",
    "\n",
    "Suppose we wanted to find Bob's phone number. However, Bob unfortunately had not been recorded in `some_dict` yet."
   ]
  },
  {
   "cell_type": "code",
   "execution_count": 14,
   "metadata": {
    "execution": {
     "iopub.execute_input": "2020-05-15T01:10:54.198065Z",
     "iopub.status.busy": "2020-05-15T01:10:54.197455Z",
     "iopub.status.idle": "2020-05-15T01:10:54.200539Z",
     "shell.execute_reply": "2020-05-15T01:10:54.199962Z"
    }
   },
   "outputs": [],
   "source": [
    "# some_dict['Bob']"
   ]
  },
  {
   "cell_type": "markdown",
   "metadata": {},
   "source": [
    "If the `key` 'Bob' does not exist in the dictionary, this would throw a KeyError which is uninformative and not good.\n",
    "\n",
    "Now suppose we use the `.get` method to try and get Bob's phone number:"
   ]
  },
  {
   "cell_type": "code",
   "execution_count": 15,
   "metadata": {
    "execution": {
     "iopub.execute_input": "2020-05-15T01:10:54.204307Z",
     "iopub.status.busy": "2020-05-15T01:10:54.203714Z",
     "iopub.status.idle": "2020-05-15T01:10:54.206762Z",
     "shell.execute_reply": "2020-05-15T01:10:54.206159Z"
    }
   },
   "outputs": [],
   "source": [
    "some_dict.get('Bob')"
   ]
  },
  {
   "cell_type": "markdown",
   "metadata": {},
   "source": [
    "This returns nothing when we run it. If we try and store and then print the output, we will get `None`. However, what's good about using this method is that we can specify an an informative message when the `key` does\n",
    "not exist ."
   ]
  },
  {
   "cell_type": "code",
   "execution_count": 16,
   "metadata": {
    "execution": {
     "iopub.execute_input": "2020-05-15T01:10:54.210884Z",
     "iopub.status.busy": "2020-05-15T01:10:54.210169Z",
     "iopub.status.idle": "2020-05-15T01:10:54.213543Z",
     "shell.execute_reply": "2020-05-15T01:10:54.213036Z"
    }
   },
   "outputs": [
    {
     "data": {
      "text/plain": [
       "'Key does not exist!'"
      ]
     },
     "execution_count": 16,
     "metadata": {},
     "output_type": "execute_result"
    }
   ],
   "source": [
    "some_dict.get('Bob', 'Key does not exist!')"
   ]
  },
  {
   "cell_type": "markdown",
   "metadata": {},
   "source": [
    ">This is much more informative when debugging!"
   ]
  },
  {
   "cell_type": "markdown",
   "metadata": {},
   "source": [
    "You may also learn more about Dictionaries [here](https://www.w3schools.com/python/python_dictionaries.asp)."
   ]
  },
  {
   "cell_type": "code",
   "execution_count": null,
   "metadata": {},
   "outputs": [],
   "source": []
  }
 ],
 "metadata": {
  "kernelspec": {
   "display_name": "Python 3",
   "language": "python",
   "name": "python3"
  },
  "language_info": {
   "codemirror_mode": {
    "name": "ipython",
    "version": 3
   },
   "file_extension": ".py",
   "mimetype": "text/x-python",
   "name": "python",
   "nbconvert_exporter": "python",
   "pygments_lexer": "ipython3",
   "version": "3.6.5"
  }
 },
 "nbformat": 4,
 "nbformat_minor": 4
}