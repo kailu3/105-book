{
 "cells": [
  {
   "cell_type": "markdown",
   "metadata": {},
   "source": [
    "# Tuples, Lists, and Dictionaries\n",
    "\n",
    "As an interactive way to learn about these collection data types, first consider these three problems:\n",
    "\n",
    "1. Let's say we wanted to store a long list of information in a variable that doesn't change over time? For example, the names of the days of the week don't change at all.\n",
    "\n",
    "2. Let's say we also wanted to store a long list of information in a variable that changes over time? For instance, the names of all your cats. You might get new kittens and some cats might unfortunately die. You will need to make updates to your list each time something happens.\n",
    "\n",
    "3. Let's say we wanted to create a phonebook with every CIS105 student's name and phone number. You would need a list of names and a list of phone numbers and some way to find the student's phone number when only given his or her name.\n"
   ]
  },
  {
   "cell_type": "markdown",
   "metadata": {},
   "source": [
    "## The Solution -> Tuples, Lists, and Dictionaries\n",
    "\n",
    "For each of these three problems, there are built-in data types in Python to solve them.\n",
    "\n",
    "## Tuples\n",
    "\n",
    "Using Tuples would solve the first problem. Tuples are immutable which means that their value cannot be changed. This\n",
    "is the perfect data type is store something like the `the days of the week` as they do not change ever. Tuples are quite \n",
    "easy to make:"
   ]
  },
  {
   "cell_type": "code",
   "execution_count": 1,
   "metadata": {
    "execution": {
     "iopub.execute_input": "2020-05-15T20:42:08.707005Z",
     "iopub.status.busy": "2020-05-15T20:42:08.706273Z",
     "iopub.status.idle": "2020-05-15T20:42:08.709397Z",
     "shell.execute_reply": "2020-05-15T20:42:08.708707Z"
    }
   },
   "outputs": [],
   "source": [
    "days_of_week = ('Monday', 'Tuesday', 'Wednesday', \\\n",
    "                'Thursday', 'Friday', 'Saturday', 'Sunday')"
   ]
  },
  {
   "cell_type": "markdown",
   "metadata": {},
   "source": [
    "> **Quick Tip:** The backslash key `\\` allows you to continue your statement on the next line! "
   ]
  },
  {
   "cell_type": "markdown",
   "metadata": {},
   "source": [
    "which Python then organizes into something that looks like this:\n",
    "\n",
    "| Index |  Value   |\n",
    "|-------|----------|\n",
    "| 0     | Monday   |\n",
    "| 1     | Tuesday  |\n",
    "| 2     | Wednesday|\n",
    "| 3     | Thursday |\n",
    "| 4     | Friday   |\n",
    "| 5     | Saturday |\n",
    "| 6     | Sunday   |"
   ]
  },
  {
   "cell_type": "markdown",
   "metadata": {},
   "source": [
    "To access a `Value` in our tuple, we do so by indexing! This is exactly the same as what we learned in the `Strings` section.\n",
    "\n",
    "We can demonstrate with an example: Let's say we want to access `Monday` from the `days_of_week` tuple which in the first position. To do that, we can simply access with:"
   ]
  },
  {
   "cell_type": "code",
   "execution_count": 2,
   "metadata": {
    "execution": {
     "iopub.execute_input": "2020-05-15T20:42:08.719859Z",
     "iopub.status.busy": "2020-05-15T20:42:08.719084Z",
     "iopub.status.idle": "2020-05-15T20:42:08.721978Z",
     "shell.execute_reply": "2020-05-15T20:42:08.722547Z"
    }
   },
   "outputs": [
    {
     "data": {
      "text/plain": [
       "'Monday'"
      ]
     },
     "execution_count": 2,
     "metadata": {},
     "output_type": "execute_result"
    }
   ],
   "source": [
    "days_of_week[0]"
   ]
  },
  {
   "cell_type": "code",
   "execution_count": 3,
   "metadata": {
    "execution": {
     "iopub.execute_input": "2020-05-15T20:42:08.726831Z",
     "iopub.status.busy": "2020-05-15T20:42:08.726074Z",
     "iopub.status.idle": "2020-05-15T20:42:08.729793Z",
     "shell.execute_reply": "2020-05-15T20:42:08.729222Z"
    }
   },
   "outputs": [
    {
     "data": {
      "text/plain": [
       "'Sunday'"
      ]
     },
     "execution_count": 3,
     "metadata": {},
     "output_type": "execute_result"
    }
   ],
   "source": [
    "days_of_week[-1]"
   ]
  },
  {
   "cell_type": "markdown",
   "metadata": {},
   "source": [
    "You can learn about Tuples [here](https://www.w3schools.com/python/python_tuples.asp)."
   ]
  },
  {
   "cell_type": "markdown",
   "metadata": {},
   "source": [
    "## Lists\n",
    "\n",
    "Using Lists would solve the second problem. A List is essentially a list of values and are mutable, which means that they can be modified. Lists can also contain different datatypes."
   ]
  },
  {
   "cell_type": "code",
   "execution_count": 4,
   "metadata": {
    "execution": {
     "iopub.execute_input": "2020-05-15T20:42:08.733663Z",
     "iopub.status.busy": "2020-05-15T20:42:08.733052Z",
     "iopub.status.idle": "2020-05-15T20:42:08.735520Z",
     "shell.execute_reply": "2020-05-15T20:42:08.736009Z"
    }
   },
   "outputs": [],
   "source": [
    "some_cat_list = ['haku', 'nagi', 'poki', 20, 40]"
   ]
  },
  {
   "cell_type": "markdown",
   "metadata": {},
   "source": [
    "Now suppose we were looking through our `some_cat_list` and we realized we wanted to remove `20` as it might've been a happy little accident. To do that, we simply can type\n"
   ]
  },
  {
   "cell_type": "code",
   "execution_count": 5,
   "metadata": {
    "execution": {
     "iopub.execute_input": "2020-05-15T20:42:08.739884Z",
     "iopub.status.busy": "2020-05-15T20:42:08.739274Z",
     "iopub.status.idle": "2020-05-15T20:42:08.742261Z",
     "shell.execute_reply": "2020-05-15T20:42:08.741695Z"
    }
   },
   "outputs": [],
   "source": [
    "some_cat_list.remove(20)"
   ]
  },
  {
   "cell_type": "markdown",
   "metadata": {},
   "source": [
    "Suppose we didn't know the item we wanted to remove but knew its **index**. If we wanted to remove an item in `40`'s location, we can type\n"
   ]
  },
  {
   "cell_type": "code",
   "execution_count": 6,
   "metadata": {
    "execution": {
     "iopub.execute_input": "2020-05-15T20:42:08.746186Z",
     "iopub.status.busy": "2020-05-15T20:42:08.745570Z",
     "iopub.status.idle": "2020-05-15T20:42:08.748252Z",
     "shell.execute_reply": "2020-05-15T20:42:08.747702Z"
    }
   },
   "outputs": [],
   "source": [
    "# Note that since we removed 20, 40's position shifts forward by 1!\n",
    "del some_cat_list[3] "
   ]
  },
  {
   "cell_type": "code",
   "execution_count": 7,
   "metadata": {
    "execution": {
     "iopub.execute_input": "2020-05-15T20:42:08.752515Z",
     "iopub.status.busy": "2020-05-15T20:42:08.751730Z",
     "iopub.status.idle": "2020-05-15T20:42:08.755235Z",
     "shell.execute_reply": "2020-05-15T20:42:08.754690Z"
    }
   },
   "outputs": [
    {
     "data": {
      "text/plain": [
       "['haku', 'nagi', 'poki']"
      ]
     },
     "execution_count": 7,
     "metadata": {},
     "output_type": "execute_result"
    }
   ],
   "source": [
    "some_cat_list"
   ]
  },
  {
   "cell_type": "markdown",
   "metadata": {},
   "source": [
    "Now maybe you adopted another cat called kiki and would like to add her to the list. To do that, we could type"
   ]
  },
  {
   "cell_type": "code",
   "execution_count": 8,
   "metadata": {
    "execution": {
     "iopub.execute_input": "2020-05-15T20:42:08.759031Z",
     "iopub.status.busy": "2020-05-15T20:42:08.758332Z",
     "iopub.status.idle": "2020-05-15T20:42:08.761350Z",
     "shell.execute_reply": "2020-05-15T20:42:08.760780Z"
    }
   },
   "outputs": [],
   "source": [
    "some_cat_list.append('kiki')"
   ]
  },
  {
   "cell_type": "markdown",
   "metadata": {},
   "source": [
    "which would append kiki onto the end of the list. Or if we want to change kiki's name to mei instead given a change of mind, we could do so easily by changing the item at the last index."
   ]
  },
  {
   "cell_type": "code",
   "execution_count": 9,
   "metadata": {
    "execution": {
     "iopub.execute_input": "2020-05-15T20:42:08.765166Z",
     "iopub.status.busy": "2020-05-15T20:42:08.764551Z",
     "iopub.status.idle": "2020-05-15T20:42:08.767432Z",
     "shell.execute_reply": "2020-05-15T20:42:08.766862Z"
    }
   },
   "outputs": [],
   "source": [
    "some_cat_list[-1] = 'mei'"
   ]
  },
  {
   "cell_type": "code",
   "execution_count": 10,
   "metadata": {
    "execution": {
     "iopub.execute_input": "2020-05-15T20:42:08.771650Z",
     "iopub.status.busy": "2020-05-15T20:42:08.770954Z",
     "iopub.status.idle": "2020-05-15T20:42:08.774676Z",
     "shell.execute_reply": "2020-05-15T20:42:08.774096Z"
    }
   },
   "outputs": [
    {
     "data": {
      "text/plain": [
       "['haku', 'nagi', 'poki', 'mei']"
      ]
     },
     "execution_count": 10,
     "metadata": {},
     "output_type": "execute_result"
    }
   ],
   "source": [
    "some_cat_list"
   ]
  },
  {
   "cell_type": "markdown",
   "metadata": {},
   "source": [
    "You can learn more about Lists [here](https://www.w3schools.com/python/python_lists.asp)."
   ]
  },
  {
   "cell_type": "markdown",
   "metadata": {},
   "source": [
    "## Dictionaries\n",
    "\n",
    "Likewise, we can solve the third problem with using a dictionary. Python dictionaries are conceptually the same as the \n",
    "dictionaries we use to look up words! For instance, we typically use a dictionary to look up some word we do not know.\n",
    "It might be trivial but every `word` in the dictionary maps to some `definition`. Similarly in Python dictionaries, we\n",
    "have `keys` and `values` where a `key` can map to some `value`. Here we make a dictionary of CIS105 student names and\n",
    "their phone numbers:"
   ]
  },
  {
   "cell_type": "code",
   "execution_count": 11,
   "metadata": {
    "execution": {
     "iopub.execute_input": "2020-05-15T20:42:08.778787Z",
     "iopub.status.busy": "2020-05-15T20:42:08.778169Z",
     "iopub.status.idle": "2020-05-15T20:42:08.781185Z",
     "shell.execute_reply": "2020-05-15T20:42:08.780706Z"
    }
   },
   "outputs": [],
   "source": [
    "some_dict = {\n",
    "    'Kai': 1231231231,\n",
    "    'Lin': 3213213213,\n",
    "    'Racheal': 964296429\n",
    "}"
   ]
  },
  {
   "cell_type": "markdown",
   "metadata": {},
   "source": [
    "Now, say we want to access `Racheal's` phone number from the dictionary. We can simply do so get *getting* her number using her name as the `key`. You can do so in two ways:"
   ]
  },
  {
   "cell_type": "markdown",
   "metadata": {},
   "source": [
    "### Method 1"
   ]
  },
  {
   "cell_type": "code",
   "execution_count": 12,
   "metadata": {
    "execution": {
     "iopub.execute_input": "2020-05-15T20:42:08.785284Z",
     "iopub.status.busy": "2020-05-15T20:42:08.784545Z",
     "iopub.status.idle": "2020-05-15T20:42:08.788087Z",
     "shell.execute_reply": "2020-05-15T20:42:08.787523Z"
    }
   },
   "outputs": [
    {
     "data": {
      "text/plain": [
       "964296429"
      ]
     },
     "execution_count": 12,
     "metadata": {},
     "output_type": "execute_result"
    }
   ],
   "source": [
    "some_dict.get('Racheal')"
   ]
  },
  {
   "cell_type": "markdown",
   "metadata": {},
   "source": [
    "### Method 2"
   ]
  },
  {
   "cell_type": "code",
   "execution_count": 13,
   "metadata": {
    "execution": {
     "iopub.execute_input": "2020-05-15T20:42:08.792288Z",
     "iopub.status.busy": "2020-05-15T20:42:08.791536Z",
     "iopub.status.idle": "2020-05-15T20:42:08.795057Z",
     "shell.execute_reply": "2020-05-15T20:42:08.794516Z"
    }
   },
   "outputs": [
    {
     "data": {
      "text/plain": [
       "964296429"
      ]
     },
     "execution_count": 13,
     "metadata": {},
     "output_type": "execute_result"
    }
   ],
   "source": [
    "some_dict['Racheal']"
   ]
  },
  {
   "cell_type": "markdown",
   "metadata": {},
   "source": [
    "**However**, this only works when the `key` is present and I would **NOT** recommend using this method. \n",
    "\n",
    "Suppose we wanted to find Bob's phone number. However, Bob unfortunately had not been recorded in `some_dict` yet."
   ]
  },
  {
   "cell_type": "code",
   "execution_count": 14,
   "metadata": {
    "execution": {
     "iopub.execute_input": "2020-05-15T20:42:08.798511Z",
     "iopub.status.busy": "2020-05-15T20:42:08.797914Z",
     "iopub.status.idle": "2020-05-15T20:42:08.800765Z",
     "shell.execute_reply": "2020-05-15T20:42:08.800214Z"
    }
   },
   "outputs": [],
   "source": [
    "# some_dict['Bob']"
   ]
  },
  {
   "cell_type": "markdown",
   "metadata": {},
   "source": [
    "If the `key` 'Bob' does not exist in the dictionary, this would throw a KeyError which is uninformative and not good.\n",
    "\n",
    "Now suppose we use the `.get` method to try and get Bob's phone number:"
   ]
  },
  {
   "cell_type": "code",
   "execution_count": 15,
   "metadata": {
    "execution": {
     "iopub.execute_input": "2020-05-15T20:42:08.804495Z",
     "iopub.status.busy": "2020-05-15T20:42:08.803899Z",
     "iopub.status.idle": "2020-05-15T20:42:08.806559Z",
     "shell.execute_reply": "2020-05-15T20:42:08.805953Z"
    }
   },
   "outputs": [],
   "source": [
    "some_dict.get('Bob')"
   ]
  },
  {
   "cell_type": "markdown",
   "metadata": {},
   "source": [
    "This returns nothing when we run it. If we try and store and then print the output, we will get `None`. However, what's good about using this method is that we can specify an an informative message when the `key` does\n",
    "not exist ."
   ]
  },
  {
   "cell_type": "code",
   "execution_count": 16,
   "metadata": {
    "execution": {
     "iopub.execute_input": "2020-05-15T20:42:08.810709Z",
     "iopub.status.busy": "2020-05-15T20:42:08.810034Z",
     "iopub.status.idle": "2020-05-15T20:42:08.813507Z",
     "shell.execute_reply": "2020-05-15T20:42:08.813002Z"
    }
   },
   "outputs": [
    {
     "data": {
      "text/plain": [
       "'Key does not exist!'"
      ]
     },
     "execution_count": 16,
     "metadata": {},
     "output_type": "execute_result"
    }
   ],
   "source": [
    "some_dict.get('Bob', 'Key does not exist!')"
   ]
  },
  {
   "cell_type": "markdown",
   "metadata": {},
   "source": [
    ">This is much more informative when debugging!"
   ]
  },
  {
   "cell_type": "markdown",
   "metadata": {},
   "source": [
    "You may also learn more about Dictionaries [here](https://www.w3schools.com/python/python_dictionaries.asp)."
   ]
  },
  {
   "cell_type": "code",
   "execution_count": null,
   "metadata": {},
   "outputs": [],
   "source": []
  }
 ],
 "metadata": {
  "kernelspec": {
   "display_name": "Python 3",
   "language": "python",
   "name": "python3"
  },
  "language_info": {
   "codemirror_mode": {
    "name": "ipython",
    "version": 3
   },
   "file_extension": ".py",
   "mimetype": "text/x-python",
   "name": "python",
   "nbconvert_exporter": "python",
   "pygments_lexer": "ipython3",
   "version": "3.6.5"
  }
 },
 "nbformat": 4,
 "nbformat_minor": 4
}