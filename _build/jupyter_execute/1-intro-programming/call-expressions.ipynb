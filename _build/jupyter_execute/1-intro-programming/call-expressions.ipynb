{
 "cells": [
  {
   "cell_type": "markdown",
   "metadata": {},
   "source": [
    "# Call Expressions"
   ]
  },
  {
   "cell_type": "markdown",
   "metadata": {},
   "source": [
    ">A call expression is an expression that involves a function call. A call expression invokes a function and evaluates to the function's return value. \n",
    "\n",
    "From [https://www.ocf.berkeley.edu/~shidi/cs61a/wiki/Expression](https://www.ocf.berkeley.edu/~shidi/cs61a/wiki/Expression)\n",
    "\n",
    "There are many built-in call expressions in Python in which we can use. A good example of such function is the `print` function which we introduced earlier. There are also other useful functions. We usually use these functions with the name of the function first and wrap our argument inside parentheses."
   ]
  },
  {
   "cell_type": "code",
   "execution_count": 1,
   "metadata": {
    "execution": {
     "iopub.execute_input": "2020-05-15T20:41:58.415850Z",
     "iopub.status.busy": "2020-05-15T20:41:58.415086Z",
     "iopub.status.idle": "2020-05-15T20:41:58.418835Z",
     "shell.execute_reply": "2020-05-15T20:41:58.419290Z"
    }
   },
   "outputs": [
    {
     "data": {
      "text/plain": [
       "6"
      ]
     },
     "execution_count": 1,
     "metadata": {},
     "output_type": "execute_result"
    }
   ],
   "source": [
    "len('String')"
   ]
  },
  {
   "cell_type": "code",
   "execution_count": 2,
   "metadata": {
    "execution": {
     "iopub.execute_input": "2020-05-15T20:41:58.423542Z",
     "iopub.status.busy": "2020-05-15T20:41:58.422880Z",
     "iopub.status.idle": "2020-05-15T20:41:58.426465Z",
     "shell.execute_reply": "2020-05-15T20:41:58.425980Z"
    }
   },
   "outputs": [
    {
     "data": {
      "text/plain": [
       "123"
      ]
     },
     "execution_count": 2,
     "metadata": {},
     "output_type": "execute_result"
    }
   ],
   "source": [
    "abs(-123)"
   ]
  },
  {
   "cell_type": "code",
   "execution_count": 3,
   "metadata": {
    "execution": {
     "iopub.execute_input": "2020-05-15T20:41:58.430583Z",
     "iopub.status.busy": "2020-05-15T20:41:58.429899Z",
     "iopub.status.idle": "2020-05-15T20:41:58.432679Z",
     "shell.execute_reply": "2020-05-15T20:41:58.433215Z"
    }
   },
   "outputs": [
    {
     "data": {
      "text/plain": [
       "'456'"
      ]
     },
     "execution_count": 3,
     "metadata": {},
     "output_type": "execute_result"
    }
   ],
   "source": [
    "str(456)"
   ]
  },
  {
   "cell_type": "markdown",
   "metadata": {},
   "source": [
    "You can find other built-in functions here: [https://docs.python.org/3.6/library/functions.html](https://docs.python.org/3.6/library/functions.html)\n",
    "\n",
    "However, most functions in Python are not built into the Python language and are instead stored in modules. You can think of modules as a code library or collection containing functions you want to use in your program. We typically access Python libraries/modules by using the `import` statement. For example:"
   ]
  },
  {
   "cell_type": "code",
   "execution_count": 4,
   "metadata": {
    "execution": {
     "iopub.execute_input": "2020-05-15T20:41:58.436870Z",
     "iopub.status.busy": "2020-05-15T20:41:58.436264Z",
     "iopub.status.idle": "2020-05-15T20:41:58.439217Z",
     "shell.execute_reply": "2020-05-15T20:41:58.438638Z"
    }
   },
   "outputs": [],
   "source": [
    "import math"
   ]
  },
  {
   "cell_type": "markdown",
   "metadata": {},
   "source": [
    "Now if we type `math.` and press `TAB`, we can see a collection of functions we have access to now. \n",
    "\n",
    "From experience, using libraries in Python can you save a lot of time. Nowadays, there is a Python library for pretty much anything you can think of. In terms of practicality, it's usually better to use the library function instead of trying to reinvent the wheel by writing your own version of it. However, writing your own functions from scratch is good way to practice and learn the Python concepts starting out."
   ]
  },
  {
   "cell_type": "markdown",
   "metadata": {},
   "source": [
    "Now say we want to take the natural log of `420` and we find that `math.log` might be the function we are looking for. To learn more about this function, we can place a `?` after its name which will bring up a description of the function in the output."
   ]
  },
  {
   "cell_type": "code",
   "execution_count": 5,
   "metadata": {
    "execution": {
     "iopub.execute_input": "2020-05-15T20:41:58.443782Z",
     "iopub.status.busy": "2020-05-15T20:41:58.443159Z",
     "iopub.status.idle": "2020-05-15T20:41:58.445946Z",
     "shell.execute_reply": "2020-05-15T20:41:58.445361Z"
    }
   },
   "outputs": [],
   "source": [
    "math.log?"
   ]
  },
  {
   "cell_type": "markdown",
   "metadata": {},
   "source": [
    "> Perfect! We see that `math.log` defaults to the natural logarithm."
   ]
  },
  {
   "cell_type": "code",
   "execution_count": 6,
   "metadata": {
    "execution": {
     "iopub.execute_input": "2020-05-15T20:41:58.450169Z",
     "iopub.status.busy": "2020-05-15T20:41:58.449475Z",
     "iopub.status.idle": "2020-05-15T20:41:58.453228Z",
     "shell.execute_reply": "2020-05-15T20:41:58.452644Z"
    }
   },
   "outputs": [
    {
     "data": {
      "text/plain": [
       "6.040254711277414"
      ]
     },
     "execution_count": 6,
     "metadata": {},
     "output_type": "execute_result"
    }
   ],
   "source": [
    "math.log(420)"
   ]
  },
  {
   "cell_type": "markdown",
   "metadata": {},
   "source": [
    "What if we wanted a `base 10` logarithm of `420`? We could simply add the second argument to the call that specifies the `base`."
   ]
  },
  {
   "cell_type": "code",
   "execution_count": 7,
   "metadata": {
    "execution": {
     "iopub.execute_input": "2020-05-15T20:41:58.457904Z",
     "iopub.status.busy": "2020-05-15T20:41:58.457103Z",
     "iopub.status.idle": "2020-05-15T20:41:58.460890Z",
     "shell.execute_reply": "2020-05-15T20:41:58.460321Z"
    }
   },
   "outputs": [
    {
     "data": {
      "text/plain": [
       "2.6232492903979003"
      ]
     },
     "execution_count": 7,
     "metadata": {},
     "output_type": "execute_result"
    }
   ],
   "source": [
    "math.log(420, 10)"
   ]
  },
  {
   "cell_type": "markdown",
   "metadata": {},
   "source": [
    "## Aliases"
   ]
  },
  {
   "cell_type": "markdown",
   "metadata": {},
   "source": [
    "In further chapters you will see that we are able to import libraries under aliases. For instance, the most common libraries we will be using in this book are `numpy` and `pandas`. By convention, they are imported under `np` and `pd`."
   ]
  },
  {
   "cell_type": "code",
   "execution_count": 8,
   "metadata": {
    "execution": {
     "iopub.execute_input": "2020-05-15T20:41:58.464659Z",
     "iopub.status.busy": "2020-05-15T20:41:58.464086Z",
     "iopub.status.idle": "2020-05-15T20:41:59.188793Z",
     "shell.execute_reply": "2020-05-15T20:41:59.188226Z"
    }
   },
   "outputs": [],
   "source": [
    "import numpy as np\n",
    "import pandas as pd"
   ]
  },
  {
   "cell_type": "markdown",
   "metadata": {},
   "source": [
    "You can pretty much import any library under any name though I would not recommend it. There are some standards in place and you should follow them."
   ]
  },
  {
   "cell_type": "code",
   "execution_count": 9,
   "metadata": {
    "execution": {
     "iopub.execute_input": "2020-05-15T20:41:59.192621Z",
     "iopub.status.busy": "2020-05-15T20:41:59.192019Z",
     "iopub.status.idle": "2020-05-15T20:41:59.194157Z",
     "shell.execute_reply": "2020-05-15T20:41:59.194725Z"
    }
   },
   "outputs": [],
   "source": [
    "# Bad example\n",
    "import pandas as pandas_are_cool"
   ]
  }
 ],
 "metadata": {
  "kernelspec": {
   "display_name": "Python 3",
   "language": "python",
   "name": "python3"
  },
  "language_info": {
   "codemirror_mode": {
    "name": "ipython",
    "version": 3
   },
   "file_extension": ".py",
   "mimetype": "text/x-python",
   "name": "python",
   "nbconvert_exporter": "python",
   "pygments_lexer": "ipython3",
   "version": "3.6.5"
  }
 },
 "nbformat": 4,
 "nbformat_minor": 4
}