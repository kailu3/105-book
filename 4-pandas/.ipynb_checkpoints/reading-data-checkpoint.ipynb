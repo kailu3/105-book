{
 "cells": [
  {
   "cell_type": "markdown",
   "metadata": {},
   "source": [
    "# Reading in Data\n",
    "\n",
    "Though we can create dataframes from scratch, usually we don't. Most of the time in this class, we'll be reading in data from `.csv` (comma-separated values) files which we can think of as tablular data in Excel. If you've ever worked with Excel, you would definitely have worked with `.csv` files. To start off, we first need to import `pandas` to use build-in functions that will allow us to read in these `.csv` files."
   ]
  },
  {
   "cell_type": "code",
   "execution_count": 1,
   "metadata": {},
   "outputs": [],
   "source": [
    "import pandas as pd"
   ]
  },
  {
   "cell_type": "markdown",
   "metadata": {},
   "source": [
    "Now we have to find what the path to our `csv` file is. This will depend on where you put your files. For instance, if we have the data file in a higher level we would need to use `..` to access it. If the data file is in a lower level, we would need to traverse the filetree using `/` to get to it."
   ]
  },
  {
   "cell_type": "markdown",
   "metadata": {},
   "source": [
    "```{note}\n",
    "The default syntax for reading `.csv` files in is `pd.read_csv(\"{filepath}\")`\n",
    "\n",
    "```"
   ]
  },
  {
   "cell_type": "markdown",
   "metadata": {},
   "source": [
    "## Example 0\n",
    "\n",
    "```\n",
    "|-- notebooks\n",
    "|       |--reading-data.ipynb\n",
    "|       |-- data.csv\n",
    "|\n",
    "```\n",
    "\n",
    "To read the file `data.csv`, we can just read it in with its filename.\n",
    "\n",
    "```\n",
    "df = pd.read_csv('data.csv')\n",
    "```"
   ]
  },
  {
   "cell_type": "markdown",
   "metadata": {},
   "source": [
    "## Example 1\n",
    "\n",
    "```\n",
    "|-- notebooks \n",
    "|       |--reading-data.ipynb\n",
    "|\n",
    "|-- data.csv\n",
    "|\n",
    "```\n",
    "\n",
    "To read the file `data.csv`, we would need to use `..` to go up a directory.\n",
    "\n",
    "```\n",
    "df = pd.read_csv('../data.csv')\n",
    "```"
   ]
  },
  {
   "cell_type": "markdown",
   "metadata": {},
   "source": [
    "## Example 2\n",
    "\n",
    "```\n",
    "|-- notebooks\n",
    "|       |--reading-data.ipynb\n",
    "|       |--data-files\n",
    "|              |--data.csv\n",
    "|\n",
    "```\n",
    "\n",
    "To read the file `data.csv`, we would need to use `/` to go down a directory.\n",
    "\n",
    "```\n",
    "df = pd.read_csv('data-files/data.csv')\n",
    "```"
   ]
  },
  {
   "cell_type": "markdown",
   "metadata": {},
   "source": [
    "## Example 3 (my preferred way of structuring my file)\n",
    "\n",
    "```\n",
    "|-- notebooks\n",
    "|       |--reading-data.ipynb\n",
    "|\n",
    "|-- data-files\n",
    "|       |--data.csv\n",
    "|\n",
    "```\n",
    "\n",
    "To read the file `data.csv`, we would need to use `..` to go up a directory and `/` to go down a directory.\n",
    "\n",
    "```\n",
    "df = pd.read_csv('../data-files/data.csv')\n",
    "```"
   ]
  },
  {
   "cell_type": "markdown",
   "metadata": {},
   "source": [
    "```{tip}\n",
    "If you're not sure about the path of some file, you can drag the file into terminal/command prompt which will give you its exact path.\n",
    "\n",
    "```"
   ]
  }
 ],
 "metadata": {
  "kernelspec": {
   "display_name": "Python 3",
   "language": "python",
   "name": "python3"
  },
  "language_info": {
   "codemirror_mode": {
    "name": "ipython",
    "version": 3
   },
   "file_extension": ".py",
   "mimetype": "text/x-python",
   "name": "python",
   "nbconvert_exporter": "python",
   "pygments_lexer": "ipython3",
   "version": "3.6.5"
  }
 },
 "nbformat": 4,
 "nbformat_minor": 4
}
